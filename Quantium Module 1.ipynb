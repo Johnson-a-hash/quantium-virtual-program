{
 "cells": [
  {
   "cell_type": "code",
   "execution_count": 1,
   "metadata": {},
   "outputs": [
    {
     "name": "stderr",
     "output_type": "stream",
     "text": [
      "[nltk_data] Downloading package punkt to C:\\Users\\Jason\n",
      "[nltk_data]     Chong\\AppData\\Roaming\\nltk_data...\n",
      "[nltk_data]   Package punkt is already up-to-date!\n"
     ]
    }
   ],
   "source": [
    "# data analysis and wragling\n",
    "import pandas as pd\n",
    "import numpy as np\n",
    "\n",
    "# visualisation\n",
    "import seaborn as sns\n",
    "import matplotlib.pyplot as plt\n",
    "import missingno\n",
    "\n",
    "# dates\n",
    "import datetime\n",
    "from matplotlib.dates import DateFormatter\n",
    "\n",
    "# text analysis\n",
    "import nltk\n",
    "nltk.download('punkt')\n",
    "from nltk.tokenize import word_tokenize\n",
    "from nltk.probability import FreqDist as fdist\n",
    "import re\n",
    "\n",
    "# statistical analysis\n",
    "from scipy.stats import ttest_ind"
   ]
  },
  {
   "cell_type": "code",
   "execution_count": 2,
   "metadata": {},
   "outputs": [
    {
     "data": {
      "text/plain": [
       "'C:\\\\Users\\\\Jason Chong'"
      ]
     },
     "execution_count": 2,
     "metadata": {},
     "output_type": "execute_result"
    }
   ],
   "source": [
    "pwd"
   ]
  },
  {
   "cell_type": "code",
   "execution_count": 3,
   "metadata": {},
   "outputs": [],
   "source": [
    "# import data\n",
    "\n",
    "customerData = pd.read_csv(\"C:/Users/Jason Chong/Documents/Inside Sherpa Quantium/QVI_purchase_behaviour.csv\")\n",
    "transactionData = pd.read_csv(\"C:/Users/Jason Chong/Documents/Inside Sherpa Quantium/QVI_transaction_data.csv\")"
   ]
  },
  {
   "cell_type": "code",
   "execution_count": 4,
   "metadata": {},
   "outputs": [
    {
     "data": {
      "text/html": [
       "<div>\n",
       "<style scoped>\n",
       "    .dataframe tbody tr th:only-of-type {\n",
       "        vertical-align: middle;\n",
       "    }\n",
       "\n",
       "    .dataframe tbody tr th {\n",
       "        vertical-align: top;\n",
       "    }\n",
       "\n",
       "    .dataframe thead th {\n",
       "        text-align: right;\n",
       "    }\n",
       "</style>\n",
       "<table border=\"1\" class=\"dataframe\">\n",
       "  <thead>\n",
       "    <tr style=\"text-align: right;\">\n",
       "      <th></th>\n",
       "      <th>LYLTY_CARD_NBR</th>\n",
       "      <th>LIFESTAGE</th>\n",
       "      <th>PREMIUM_CUSTOMER</th>\n",
       "    </tr>\n",
       "  </thead>\n",
       "  <tbody>\n",
       "    <tr>\n",
       "      <th>0</th>\n",
       "      <td>1000</td>\n",
       "      <td>YOUNG SINGLES/COUPLES</td>\n",
       "      <td>Premium</td>\n",
       "    </tr>\n",
       "    <tr>\n",
       "      <th>1</th>\n",
       "      <td>1002</td>\n",
       "      <td>YOUNG SINGLES/COUPLES</td>\n",
       "      <td>Mainstream</td>\n",
       "    </tr>\n",
       "    <tr>\n",
       "      <th>2</th>\n",
       "      <td>1003</td>\n",
       "      <td>YOUNG FAMILIES</td>\n",
       "      <td>Budget</td>\n",
       "    </tr>\n",
       "    <tr>\n",
       "      <th>3</th>\n",
       "      <td>1004</td>\n",
       "      <td>OLDER SINGLES/COUPLES</td>\n",
       "      <td>Mainstream</td>\n",
       "    </tr>\n",
       "    <tr>\n",
       "      <th>4</th>\n",
       "      <td>1005</td>\n",
       "      <td>MIDAGE SINGLES/COUPLES</td>\n",
       "      <td>Mainstream</td>\n",
       "    </tr>\n",
       "  </tbody>\n",
       "</table>\n",
       "</div>"
      ],
      "text/plain": [
       "   LYLTY_CARD_NBR               LIFESTAGE PREMIUM_CUSTOMER\n",
       "0            1000   YOUNG SINGLES/COUPLES          Premium\n",
       "1            1002   YOUNG SINGLES/COUPLES       Mainstream\n",
       "2            1003          YOUNG FAMILIES           Budget\n",
       "3            1004   OLDER SINGLES/COUPLES       Mainstream\n",
       "4            1005  MIDAGE SINGLES/COUPLES       Mainstream"
      ]
     },
     "execution_count": 4,
     "metadata": {},
     "output_type": "execute_result"
    }
   ],
   "source": [
    "customerData.head()"
   ]
  },
  {
   "cell_type": "code",
   "execution_count": 5,
   "metadata": {},
   "outputs": [
    {
     "data": {
      "text/html": [
       "<div>\n",
       "<style scoped>\n",
       "    .dataframe tbody tr th:only-of-type {\n",
       "        vertical-align: middle;\n",
       "    }\n",
       "\n",
       "    .dataframe tbody tr th {\n",
       "        vertical-align: top;\n",
       "    }\n",
       "\n",
       "    .dataframe thead th {\n",
       "        text-align: right;\n",
       "    }\n",
       "</style>\n",
       "<table border=\"1\" class=\"dataframe\">\n",
       "  <thead>\n",
       "    <tr style=\"text-align: right;\">\n",
       "      <th></th>\n",
       "      <th>DATE</th>\n",
       "      <th>STORE_NBR</th>\n",
       "      <th>LYLTY_CARD_NBR</th>\n",
       "      <th>TXN_ID</th>\n",
       "      <th>PROD_NBR</th>\n",
       "      <th>PROD_NAME</th>\n",
       "      <th>PROD_QTY</th>\n",
       "      <th>TOT_SALES</th>\n",
       "    </tr>\n",
       "  </thead>\n",
       "  <tbody>\n",
       "    <tr>\n",
       "      <th>0</th>\n",
       "      <td>43390</td>\n",
       "      <td>1</td>\n",
       "      <td>1000</td>\n",
       "      <td>1</td>\n",
       "      <td>5</td>\n",
       "      <td>Natural Chip        Compny SeaSalt175g</td>\n",
       "      <td>2</td>\n",
       "      <td>6.0</td>\n",
       "    </tr>\n",
       "    <tr>\n",
       "      <th>1</th>\n",
       "      <td>43599</td>\n",
       "      <td>1</td>\n",
       "      <td>1307</td>\n",
       "      <td>348</td>\n",
       "      <td>66</td>\n",
       "      <td>CCs Nacho Cheese    175g</td>\n",
       "      <td>3</td>\n",
       "      <td>6.3</td>\n",
       "    </tr>\n",
       "    <tr>\n",
       "      <th>2</th>\n",
       "      <td>43605</td>\n",
       "      <td>1</td>\n",
       "      <td>1343</td>\n",
       "      <td>383</td>\n",
       "      <td>61</td>\n",
       "      <td>Smiths Crinkle Cut  Chips Chicken 170g</td>\n",
       "      <td>2</td>\n",
       "      <td>2.9</td>\n",
       "    </tr>\n",
       "    <tr>\n",
       "      <th>3</th>\n",
       "      <td>43329</td>\n",
       "      <td>2</td>\n",
       "      <td>2373</td>\n",
       "      <td>974</td>\n",
       "      <td>69</td>\n",
       "      <td>Smiths Chip Thinly  S/Cream&amp;Onion 175g</td>\n",
       "      <td>5</td>\n",
       "      <td>15.0</td>\n",
       "    </tr>\n",
       "    <tr>\n",
       "      <th>4</th>\n",
       "      <td>43330</td>\n",
       "      <td>2</td>\n",
       "      <td>2426</td>\n",
       "      <td>1038</td>\n",
       "      <td>108</td>\n",
       "      <td>Kettle Tortilla ChpsHny&amp;Jlpno Chili 150g</td>\n",
       "      <td>3</td>\n",
       "      <td>13.8</td>\n",
       "    </tr>\n",
       "  </tbody>\n",
       "</table>\n",
       "</div>"
      ],
      "text/plain": [
       "    DATE  STORE_NBR  LYLTY_CARD_NBR  TXN_ID  PROD_NBR  \\\n",
       "0  43390          1            1000       1         5   \n",
       "1  43599          1            1307     348        66   \n",
       "2  43605          1            1343     383        61   \n",
       "3  43329          2            2373     974        69   \n",
       "4  43330          2            2426    1038       108   \n",
       "\n",
       "                                  PROD_NAME  PROD_QTY  TOT_SALES  \n",
       "0    Natural Chip        Compny SeaSalt175g         2        6.0  \n",
       "1                  CCs Nacho Cheese    175g         3        6.3  \n",
       "2    Smiths Crinkle Cut  Chips Chicken 170g         2        2.9  \n",
       "3    Smiths Chip Thinly  S/Cream&Onion 175g         5       15.0  \n",
       "4  Kettle Tortilla ChpsHny&Jlpno Chili 150g         3       13.8  "
      ]
     },
     "execution_count": 5,
     "metadata": {},
     "output_type": "execute_result"
    }
   ],
   "source": [
    "transactionData.head()"
   ]
  },
  {
   "cell_type": "code",
   "execution_count": 6,
   "metadata": {},
   "outputs": [
    {
     "data": {
      "text/plain": [
       "264836"
      ]
     },
     "execution_count": 6,
     "metadata": {},
     "output_type": "execute_result"
    }
   ],
   "source": [
    "len(transactionData)"
   ]
  },
  {
   "cell_type": "code",
   "execution_count": 7,
   "metadata": {},
   "outputs": [
    {
     "data": {
      "text/plain": [
       "263127"
      ]
     },
     "execution_count": 7,
     "metadata": {},
     "output_type": "execute_result"
    }
   ],
   "source": [
    "transactionData['TXN_ID'].nunique()\n",
    "\n",
    "# Comment: 'TXN_ID' is not unique to each row which means a customer can buy multiple brands of chips in a single trasaction\n",
    "# Each row of the data corresponds to purchase of a single brand of chips and a customer can buy multiple brands in one single transaction"
   ]
  },
  {
   "cell_type": "code",
   "execution_count": 8,
   "metadata": {},
   "outputs": [
    {
     "name": "stdout",
     "output_type": "stream",
     "text": [
      "<class 'pandas.core.frame.DataFrame'>\n",
      "RangeIndex: 264836 entries, 0 to 264835\n",
      "Data columns (total 8 columns):\n",
      " #   Column          Non-Null Count   Dtype  \n",
      "---  ------          --------------   -----  \n",
      " 0   DATE            264836 non-null  int64  \n",
      " 1   STORE_NBR       264836 non-null  int64  \n",
      " 2   LYLTY_CARD_NBR  264836 non-null  int64  \n",
      " 3   TXN_ID          264836 non-null  int64  \n",
      " 4   PROD_NBR        264836 non-null  int64  \n",
      " 5   PROD_NAME       264836 non-null  object \n",
      " 6   PROD_QTY        264836 non-null  int64  \n",
      " 7   TOT_SALES       264836 non-null  float64\n",
      "dtypes: float64(1), int64(6), object(1)\n",
      "memory usage: 16.2+ MB\n"
     ]
    }
   ],
   "source": [
    "transactionData.info()"
   ]
  },
  {
   "cell_type": "code",
   "execution_count": 9,
   "metadata": {},
   "outputs": [
    {
     "data": {
      "text/plain": [
       "<matplotlib.axes._subplots.AxesSubplot at 0x159d076c508>"
      ]
     },
     "execution_count": 9,
     "metadata": {},
     "output_type": "execute_result"
    },
    {
     "data": {
      "image/png": "[encoded data removed]",
      "text/plain": [
       "<Figure size 1800x720 with 2 Axes>"
      ]
     },
     "metadata": {
      "needs_background": "light"
     },
     "output_type": "display_data"
    }
   ],
   "source": [
    "# Plot graph of missing values for 'transactionData'\n",
    "\n",
    "missingno.matrix(transactionData)\n",
    "\n",
    "# Comment: no missing numbers in transaction data "
   ]
  },
  {
   "cell_type": "code",
   "execution_count": 10,
   "metadata": {},
   "outputs": [
    {
     "data": {
      "text/plain": [
       "<matplotlib.axes._subplots.AxesSubplot at 0x159d2023708>"
      ]
     },
     "execution_count": 10,
     "metadata": {},
     "output_type": "execute_result"
    },
    {
     "data": {
      "image/png": "[encoded data removed]",
      "text/plain": [
       "<Figure size 1800x720 with 2 Axes>"
      ]
     },
     "metadata": {
      "needs_background": "light"
     },
     "output_type": "display_data"
    }
   ],
   "source": [
    "# Plot graph of missing values for 'customerData'\n",
    "\n",
    "missingno.matrix(customerData)\n",
    "\n",
    "# Comment: no missing values in customer data"
   ]
  },
  {
   "cell_type": "code",
   "execution_count": 11,
   "metadata": {},
   "outputs": [
    {
     "data": {
      "text/plain": [
       "['DATE',\n",
       " 'STORE_NBR',\n",
       " 'LYLTY_CARD_NBR',\n",
       " 'TXN_ID',\n",
       " 'PROD_NBR',\n",
       " 'PROD_NAME',\n",
       " 'PROD_QTY',\n",
       " 'TOT_SALES']"
      ]
     },
     "execution_count": 11,
     "metadata": {},
     "output_type": "execute_result"
    }
   ],
   "source": [
    "# Now let's explore the features in both dataset starting with 'transactionData'\n",
    "\n",
    "list(transactionData.columns)"
   ]
  },
  {
   "cell_type": "code",
   "execution_count": 12,
   "metadata": {},
   "outputs": [
    {
     "data": {
      "text/plain": [
       "0    43390\n",
       "1    43599\n",
       "2    43605\n",
       "3    43329\n",
       "4    43330\n",
       "Name: DATE, dtype: int64"
      ]
     },
     "execution_count": 12,
     "metadata": {},
     "output_type": "execute_result"
    }
   ],
   "source": [
    "transactionData.DATE.head()"
   ]
  },
  {
   "cell_type": "code",
   "execution_count": 13,
   "metadata": {},
   "outputs": [],
   "source": [
    "# 'Date' is not in the right format\n",
    "\n",
    "# Function that converts Excel integer into yyyy-mm-dd format\n",
    "def xlseriesdate_to_datetime(xlserialdate):\n",
    "    excel_anchor = datetime.datetime(1900, 1, 1)\n",
    "    if(xlserialdate < 60):\n",
    "        delta_in_days = datetime.timedelta(days = (xlserialdate - 1))\n",
    "    else:\n",
    "        delta_in_days = datetime.timedelta(days = (xlserialdate - 2))\n",
    "    converted_date = excel_anchor + delta_in_days\n",
    "    return converted_date"
   ]
  },
  {
   "cell_type": "code",
   "execution_count": 14,
   "metadata": {},
   "outputs": [],
   "source": [
    "# Apply function to 'DATE' feature in 'transactionData' dataset\n",
    "\n",
    "transactionData['newdate'] = transactionData.DATE.apply(xlseriesdate_to_datetime)"
   ]
  },
  {
   "cell_type": "code",
   "execution_count": 15,
   "metadata": {
    "scrolled": true
   },
   "outputs": [
    {
     "data": {
      "text/plain": [
       "0   2018-10-17\n",
       "1   2019-05-14\n",
       "2   2019-05-20\n",
       "3   2018-08-17\n",
       "4   2018-08-18\n",
       "Name: newdate, dtype: datetime64[ns]"
      ]
     },
     "execution_count": 15,
     "metadata": {},
     "output_type": "execute_result"
    }
   ],
   "source": [
    "# Check the first 5 rows of the new feature\n",
    "\n",
    "transactionData['newdate'].head()"
   ]
  },
  {
   "cell_type": "code",
   "execution_count": 16,
   "metadata": {
    "scrolled": true
   },
   "outputs": [
    {
     "data": {
      "text/html": [
       "<div>\n",
       "<style scoped>\n",
       "    .dataframe tbody tr th:only-of-type {\n",
       "        vertical-align: middle;\n",
       "    }\n",
       "\n",
       "    .dataframe tbody tr th {\n",
       "        vertical-align: top;\n",
       "    }\n",
       "\n",
       "    .dataframe thead th {\n",
       "        text-align: right;\n",
       "    }\n",
       "</style>\n",
       "<table border=\"1\" class=\"dataframe\">\n",
       "  <thead>\n",
       "    <tr style=\"text-align: right;\">\n",
       "      <th></th>\n",
       "      <th>DATE</th>\n",
       "      <th>STORE_NBR</th>\n",
       "      <th>LYLTY_CARD_NBR</th>\n",
       "      <th>TXN_ID</th>\n",
       "      <th>PROD_NBR</th>\n",
       "      <th>PROD_NAME</th>\n",
       "      <th>PROD_QTY</th>\n",
       "      <th>TOT_SALES</th>\n",
       "      <th>newdate</th>\n",
       "    </tr>\n",
       "  </thead>\n",
       "  <tbody>\n",
       "    <tr>\n",
       "      <th>0</th>\n",
       "      <td>43390</td>\n",
       "      <td>1</td>\n",
       "      <td>1000</td>\n",
       "      <td>1</td>\n",
       "      <td>5</td>\n",
       "      <td>Natural Chip        Compny SeaSalt175g</td>\n",
       "      <td>2</td>\n",
       "      <td>6.0</td>\n",
       "      <td>2018-10-17</td>\n",
       "    </tr>\n",
       "    <tr>\n",
       "      <th>1</th>\n",
       "      <td>43599</td>\n",
       "      <td>1</td>\n",
       "      <td>1307</td>\n",
       "      <td>348</td>\n",
       "      <td>66</td>\n",
       "      <td>CCs Nacho Cheese    175g</td>\n",
       "      <td>3</td>\n",
       "      <td>6.3</td>\n",
       "      <td>2019-05-14</td>\n",
       "    </tr>\n",
       "    <tr>\n",
       "      <th>2</th>\n",
       "      <td>43605</td>\n",
       "      <td>1</td>\n",
       "      <td>1343</td>\n",
       "      <td>383</td>\n",
       "      <td>61</td>\n",
       "      <td>Smiths Crinkle Cut  Chips Chicken 170g</td>\n",
       "      <td>2</td>\n",
       "      <td>2.9</td>\n",
       "      <td>2019-05-20</td>\n",
       "    </tr>\n",
       "    <tr>\n",
       "      <th>3</th>\n",
       "      <td>43329</td>\n",
       "      <td>2</td>\n",
       "      <td>2373</td>\n",
       "      <td>974</td>\n",
       "      <td>69</td>\n",
       "      <td>Smiths Chip Thinly  S/Cream&amp;Onion 175g</td>\n",
       "      <td>5</td>\n",
       "      <td>15.0</td>\n",
       "      <td>2018-08-17</td>\n",
       "    </tr>\n",
       "    <tr>\n",
       "      <th>4</th>\n",
       "      <td>43330</td>\n",
       "      <td>2</td>\n",
       "      <td>2426</td>\n",
       "      <td>1038</td>\n",
       "      <td>108</td>\n",
       "      <td>Kettle Tortilla ChpsHny&amp;Jlpno Chili 150g</td>\n",
       "      <td>3</td>\n",
       "      <td>13.8</td>\n",
       "      <td>2018-08-18</td>\n",
       "    </tr>\n",
       "  </tbody>\n",
       "</table>\n",
       "</div>"
      ],
      "text/plain": [
       "    DATE  STORE_NBR  LYLTY_CARD_NBR  TXN_ID  PROD_NBR  \\\n",
       "0  43390          1            1000       1         5   \n",
       "1  43599          1            1307     348        66   \n",
       "2  43605          1            1343     383        61   \n",
       "3  43329          2            2373     974        69   \n",
       "4  43330          2            2426    1038       108   \n",
       "\n",
       "                                  PROD_NAME  PROD_QTY  TOT_SALES    newdate  \n",
       "0    Natural Chip        Compny SeaSalt175g         2        6.0 2018-10-17  \n",
       "1                  CCs Nacho Cheese    175g         3        6.3 2019-05-14  \n",
       "2    Smiths Crinkle Cut  Chips Chicken 170g         2        2.9 2019-05-20  \n",
       "3    Smiths Chip Thinly  S/Cream&Onion 175g         5       15.0 2018-08-17  \n",
       "4  Kettle Tortilla ChpsHny&Jlpno Chili 150g         3       13.8 2018-08-18  "
      ]
     },
     "execution_count": 16,
     "metadata": {},
     "output_type": "execute_result"
    }
   ],
   "source": [
    "transactionData.head()"
   ]
  },
  {
   "cell_type": "code",
   "execution_count": 17,
   "metadata": {},
   "outputs": [
    {
     "data": {
      "text/plain": [
       "0      Natural Chip        Compny SeaSalt175g\n",
       "1                    CCs Nacho Cheese    175g\n",
       "2      Smiths Crinkle Cut  Chips Chicken 170g\n",
       "3      Smiths Chip Thinly  S/Cream&Onion 175g\n",
       "4    Kettle Tortilla ChpsHny&Jlpno Chili 150g\n",
       "Name: PROD_NAME, dtype: object"
      ]
     },
     "execution_count": 17,
     "metadata": {},
     "output_type": "execute_result"
    }
   ],
   "source": [
    "# Let's move on to 'PROD_NAME' feature\n",
    "\n",
    "transactionData['PROD_NAME'].head()"
   ]
  },
  {
   "cell_type": "code",
   "execution_count": 18,
   "metadata": {},
   "outputs": [
    {
     "data": {
      "text/plain": [
       "0    175\n",
       "1    175\n",
       "2    170\n",
       "3    175\n",
       "4    150\n",
       "Name: pack_size, dtype: int64"
      ]
     },
     "execution_count": 18,
     "metadata": {},
     "output_type": "execute_result"
    }
   ],
   "source": [
    "# Extract weights out of 'PROD_NAME'\n",
    "\n",
    "transactionData['pack_size'] = transactionData['PROD_NAME'].str.extract(\"(\\d+)\")\n",
    "transactionData['pack_size'] = pd.to_numeric(transactionData['pack_size'])\n",
    "transactionData['pack_size'].head()"
   ]
  },
  {
   "cell_type": "code",
   "execution_count": 19,
   "metadata": {},
   "outputs": [],
   "source": [
    "# Create text cleaning function for 'PROD_NAME' feature\n",
    "\n",
    "def clean_text(text):\n",
    "    text = text.lower() # to lowercase letters\n",
    "    text = re.sub('[&/]', ' ', text) # remove special characters '&' and '/'\n",
    "    text = re.sub('\\d\\w*', ' ', text) # remove product weights\n",
    "    return text\n",
    "\n",
    "# Apply text cleaning function to 'PROD_NAME' column\n",
    "\n",
    "transactionData['PROD_NAME'] = transactionData['PROD_NAME'].apply(clean_text)"
   ]
  },
  {
   "cell_type": "code",
   "execution_count": 20,
   "metadata": {},
   "outputs": [],
   "source": [
    "# Create one giant string and apply 'word_tokenize' to separate the words\n",
    "\n",
    "prod_clean = transactionData['PROD_NAME']\n",
    "string = ''.join(prod_clean)\n",
    "prod_words = word_tokenize(string)"
   ]
  },
  {
   "cell_type": "code",
   "execution_count": 21,
   "metadata": {},
   "outputs": [],
   "source": [
    "# Apply 'fdist' function which computes the frequency of each token and put it into a dataframe\n",
    "\n",
    "word_freq = fdist(prod_words)\n",
    "freq_df = pd.DataFrame(list(word_freq.items()), columns = [\"Word\",\"Frequency\"]).sort_values(by = 'Frequency', ascending = False)"
   ]
  },
  {
   "cell_type": "code",
   "execution_count": 22,
   "metadata": {},
   "outputs": [
    {
     "data": {
      "text/html": [
       "<div>\n",
       "<style scoped>\n",
       "    .dataframe tbody tr th:only-of-type {\n",
       "        vertical-align: middle;\n",
       "    }\n",
       "\n",
       "    .dataframe tbody tr th {\n",
       "        vertical-align: top;\n",
       "    }\n",
       "\n",
       "    .dataframe thead th {\n",
       "        text-align: right;\n",
       "    }\n",
       "</style>\n",
       "<table border=\"1\" class=\"dataframe\">\n",
       "  <thead>\n",
       "    <tr style=\"text-align: right;\">\n",
       "      <th></th>\n",
       "      <th>Word</th>\n",
       "      <th>Frequency</th>\n",
       "    </tr>\n",
       "  </thead>\n",
       "  <tbody>\n",
       "    <tr>\n",
       "      <th>10</th>\n",
       "      <td>chips</td>\n",
       "      <td>49770</td>\n",
       "    </tr>\n",
       "    <tr>\n",
       "      <th>16</th>\n",
       "      <td>kettle</td>\n",
       "      <td>40739</td>\n",
       "    </tr>\n",
       "    <tr>\n",
       "      <th>7</th>\n",
       "      <td>smiths</td>\n",
       "      <td>28572</td>\n",
       "    </tr>\n",
       "    <tr>\n",
       "      <th>6</th>\n",
       "      <td>cheese</td>\n",
       "      <td>27890</td>\n",
       "    </tr>\n",
       "    <tr>\n",
       "      <th>66</th>\n",
       "      <td>pringles</td>\n",
       "      <td>24743</td>\n",
       "    </tr>\n",
       "    <tr>\n",
       "      <th>28</th>\n",
       "      <td>salt</td>\n",
       "      <td>24719</td>\n",
       "    </tr>\n",
       "    <tr>\n",
       "      <th>34</th>\n",
       "      <td>doritos</td>\n",
       "      <td>24650</td>\n",
       "    </tr>\n",
       "    <tr>\n",
       "      <th>8</th>\n",
       "      <td>crinkle</td>\n",
       "      <td>23960</td>\n",
       "    </tr>\n",
       "    <tr>\n",
       "      <th>35</th>\n",
       "      <td>corn</td>\n",
       "      <td>22063</td>\n",
       "    </tr>\n",
       "    <tr>\n",
       "      <th>48</th>\n",
       "      <td>original</td>\n",
       "      <td>21560</td>\n",
       "    </tr>\n",
       "  </tbody>\n",
       "</table>\n",
       "</div>"
      ],
      "text/plain": [
       "        Word  Frequency\n",
       "10     chips      49770\n",
       "16    kettle      40739\n",
       "7     smiths      28572\n",
       "6     cheese      27890\n",
       "66  pringles      24743\n",
       "28      salt      24719\n",
       "34   doritos      24650\n",
       "8    crinkle      23960\n",
       "35      corn      22063\n",
       "48  original      21560"
      ]
     },
     "execution_count": 22,
     "metadata": {},
     "output_type": "execute_result"
    }
   ],
   "source": [
    "# Let's see the top 5 most frequent words\n",
    "\n",
    "freq_df.head(10)"
   ]
  },
  {
   "cell_type": "code",
   "execution_count": 23,
   "metadata": {},
   "outputs": [],
   "source": [
    "# Drop rows with 'salsa' in 'PROD_NAME'\n",
    "\n",
    "transactionData['PROD_NAME'] = transactionData['PROD_NAME'].apply(lambda x: x.lower())\n",
    "transactionData = transactionData[~transactionData['PROD_NAME'].str.contains(\"salsa\")]"
   ]
  },
  {
   "cell_type": "code",
   "execution_count": 24,
   "metadata": {},
   "outputs": [
    {
     "data": {
      "text/plain": [
       "246742"
      ]
     },
     "execution_count": 24,
     "metadata": {},
     "output_type": "execute_result"
    }
   ],
   "source": [
    "# We have dropped 264836 - 246742 = 18094 rows in total\n",
    "\n",
    "len(transactionData)"
   ]
  },
  {
   "cell_type": "code",
   "execution_count": 25,
   "metadata": {
    "scrolled": true
   },
   "outputs": [
    {
     "data": {
      "text/html": [
       "<div>\n",
       "<style scoped>\n",
       "    .dataframe tbody tr th:only-of-type {\n",
       "        vertical-align: middle;\n",
       "    }\n",
       "\n",
       "    .dataframe tbody tr th {\n",
       "        vertical-align: top;\n",
       "    }\n",
       "\n",
       "    .dataframe thead th {\n",
       "        text-align: right;\n",
       "    }\n",
       "</style>\n",
       "<table border=\"1\" class=\"dataframe\">\n",
       "  <thead>\n",
       "    <tr style=\"text-align: right;\">\n",
       "      <th></th>\n",
       "      <th>DATE</th>\n",
       "      <th>STORE_NBR</th>\n",
       "      <th>LYLTY_CARD_NBR</th>\n",
       "      <th>TXN_ID</th>\n",
       "      <th>PROD_NBR</th>\n",
       "      <th>PROD_NAME</th>\n",
       "      <th>PROD_QTY</th>\n",
       "      <th>TOT_SALES</th>\n",
       "      <th>newdate</th>\n",
       "      <th>pack_size</th>\n",
       "    </tr>\n",
       "  </thead>\n",
       "  <tbody>\n",
       "    <tr>\n",
       "      <th>0</th>\n",
       "      <td>43390</td>\n",
       "      <td>1</td>\n",
       "      <td>1000</td>\n",
       "      <td>1</td>\n",
       "      <td>5</td>\n",
       "      <td>natural chip        compny seasalt</td>\n",
       "      <td>2</td>\n",
       "      <td>6.0</td>\n",
       "      <td>2018-10-17</td>\n",
       "      <td>175</td>\n",
       "    </tr>\n",
       "    <tr>\n",
       "      <th>1</th>\n",
       "      <td>43599</td>\n",
       "      <td>1</td>\n",
       "      <td>1307</td>\n",
       "      <td>348</td>\n",
       "      <td>66</td>\n",
       "      <td>ccs nacho cheese</td>\n",
       "      <td>3</td>\n",
       "      <td>6.3</td>\n",
       "      <td>2019-05-14</td>\n",
       "      <td>175</td>\n",
       "    </tr>\n",
       "    <tr>\n",
       "      <th>2</th>\n",
       "      <td>43605</td>\n",
       "      <td>1</td>\n",
       "      <td>1343</td>\n",
       "      <td>383</td>\n",
       "      <td>61</td>\n",
       "      <td>smiths crinkle cut  chips chicken</td>\n",
       "      <td>2</td>\n",
       "      <td>2.9</td>\n",
       "      <td>2019-05-20</td>\n",
       "      <td>170</td>\n",
       "    </tr>\n",
       "    <tr>\n",
       "      <th>3</th>\n",
       "      <td>43329</td>\n",
       "      <td>2</td>\n",
       "      <td>2373</td>\n",
       "      <td>974</td>\n",
       "      <td>69</td>\n",
       "      <td>smiths chip thinly  s cream onion</td>\n",
       "      <td>5</td>\n",
       "      <td>15.0</td>\n",
       "      <td>2018-08-17</td>\n",
       "      <td>175</td>\n",
       "    </tr>\n",
       "    <tr>\n",
       "      <th>4</th>\n",
       "      <td>43330</td>\n",
       "      <td>2</td>\n",
       "      <td>2426</td>\n",
       "      <td>1038</td>\n",
       "      <td>108</td>\n",
       "      <td>kettle tortilla chpshny jlpno chili</td>\n",
       "      <td>3</td>\n",
       "      <td>13.8</td>\n",
       "      <td>2018-08-18</td>\n",
       "      <td>150</td>\n",
       "    </tr>\n",
       "  </tbody>\n",
       "</table>\n",
       "</div>"
      ],
      "text/plain": [
       "    DATE  STORE_NBR  LYLTY_CARD_NBR  TXN_ID  PROD_NBR  \\\n",
       "0  43390          1            1000       1         5   \n",
       "1  43599          1            1307     348        66   \n",
       "2  43605          1            1343     383        61   \n",
       "3  43329          2            2373     974        69   \n",
       "4  43330          2            2426    1038       108   \n",
       "\n",
       "                               PROD_NAME  PROD_QTY  TOT_SALES    newdate  \\\n",
       "0    natural chip        compny seasalt          2        6.0 2018-10-17   \n",
       "1                  ccs nacho cheese              3        6.3 2019-05-14   \n",
       "2    smiths crinkle cut  chips chicken           2        2.9 2019-05-20   \n",
       "3    smiths chip thinly  s cream onion           5       15.0 2018-08-17   \n",
       "4  kettle tortilla chpshny jlpno chili           3       13.8 2018-08-18   \n",
       "\n",
       "   pack_size  \n",
       "0        175  \n",
       "1        175  \n",
       "2        170  \n",
       "3        175  \n",
       "4        150  "
      ]
     },
     "execution_count": 25,
     "metadata": {},
     "output_type": "execute_result"
    }
   ],
   "source": [
    "# Let's have a look at our data table again\n",
    "\n",
    "transactionData.head()"
   ]
  },
  {
   "cell_type": "code",
   "execution_count": 26,
   "metadata": {},
   "outputs": [
    {
     "data": {
      "text/plain": [
       "count    246742.000000\n",
       "mean          1.908062\n",
       "std           0.659831\n",
       "min           1.000000\n",
       "25%           2.000000\n",
       "50%           2.000000\n",
       "75%           2.000000\n",
       "max         200.000000\n",
       "Name: PROD_QTY, dtype: float64"
      ]
     },
     "execution_count": 26,
     "metadata": {},
     "output_type": "execute_result"
    }
   ],
   "source": [
    "# We shall explore 'PROD_QTY' and 'TOT_SALES' feature next\n",
    "\n",
    "transactionData['PROD_QTY'].describe()"
   ]
  },
  {
   "cell_type": "code",
   "execution_count": 27,
   "metadata": {},
   "outputs": [
    {
     "data": {
      "text/plain": [
       "2      220070\n",
       "1       25476\n",
       "5         415\n",
       "3         408\n",
       "4         371\n",
       "200         2\n",
       "Name: PROD_QTY, dtype: int64"
      ]
     },
     "execution_count": 27,
     "metadata": {},
     "output_type": "execute_result"
    }
   ],
   "source": [
    "# Max of 200 looks odd\n",
    "\n",
    "transactionData['PROD_QTY'].value_counts()"
   ]
  },
  {
   "cell_type": "code",
   "execution_count": 28,
   "metadata": {},
   "outputs": [
    {
     "data": {
      "text/html": [
       "<div>\n",
       "<style scoped>\n",
       "    .dataframe tbody tr th:only-of-type {\n",
       "        vertical-align: middle;\n",
       "    }\n",
       "\n",
       "    .dataframe tbody tr th {\n",
       "        vertical-align: top;\n",
       "    }\n",
       "\n",
       "    .dataframe thead th {\n",
       "        text-align: right;\n",
       "    }\n",
       "</style>\n",
       "<table border=\"1\" class=\"dataframe\">\n",
       "  <thead>\n",
       "    <tr style=\"text-align: right;\">\n",
       "      <th></th>\n",
       "      <th>DATE</th>\n",
       "      <th>STORE_NBR</th>\n",
       "      <th>LYLTY_CARD_NBR</th>\n",
       "      <th>TXN_ID</th>\n",
       "      <th>PROD_NBR</th>\n",
       "      <th>PROD_NAME</th>\n",
       "      <th>PROD_QTY</th>\n",
       "      <th>TOT_SALES</th>\n",
       "      <th>newdate</th>\n",
       "      <th>pack_size</th>\n",
       "    </tr>\n",
       "  </thead>\n",
       "  <tbody>\n",
       "    <tr>\n",
       "      <th>69762</th>\n",
       "      <td>43331</td>\n",
       "      <td>226</td>\n",
       "      <td>226000</td>\n",
       "      <td>226201</td>\n",
       "      <td>4</td>\n",
       "      <td>dorito corn chp     supreme</td>\n",
       "      <td>200</td>\n",
       "      <td>650.0</td>\n",
       "      <td>2018-08-19</td>\n",
       "      <td>380</td>\n",
       "    </tr>\n",
       "    <tr>\n",
       "      <th>69763</th>\n",
       "      <td>43605</td>\n",
       "      <td>226</td>\n",
       "      <td>226000</td>\n",
       "      <td>226210</td>\n",
       "      <td>4</td>\n",
       "      <td>dorito corn chp     supreme</td>\n",
       "      <td>200</td>\n",
       "      <td>650.0</td>\n",
       "      <td>2019-05-20</td>\n",
       "      <td>380</td>\n",
       "    </tr>\n",
       "  </tbody>\n",
       "</table>\n",
       "</div>"
      ],
      "text/plain": [
       "        DATE  STORE_NBR  LYLTY_CARD_NBR  TXN_ID  PROD_NBR  \\\n",
       "69762  43331        226          226000  226201         4   \n",
       "69763  43605        226          226000  226210         4   \n",
       "\n",
       "                           PROD_NAME  PROD_QTY  TOT_SALES    newdate  \\\n",
       "69762  dorito corn chp     supreme         200      650.0 2018-08-19   \n",
       "69763  dorito corn chp     supreme         200      650.0 2019-05-20   \n",
       "\n",
       "       pack_size  \n",
       "69762        380  \n",
       "69763        380  "
      ]
     },
     "execution_count": 28,
     "metadata": {},
     "output_type": "execute_result"
    }
   ],
   "source": [
    "# We have two occurrences of 200 in the dataset\n",
    "# Let's explore further\n",
    "\n",
    "transactionData.loc[transactionData['PROD_QTY'] == 200]"
   ]
  },
  {
   "cell_type": "code",
   "execution_count": 29,
   "metadata": {},
   "outputs": [
    {
     "data": {
      "text/html": [
       "<div>\n",
       "<style scoped>\n",
       "    .dataframe tbody tr th:only-of-type {\n",
       "        vertical-align: middle;\n",
       "    }\n",
       "\n",
       "    .dataframe tbody tr th {\n",
       "        vertical-align: top;\n",
       "    }\n",
       "\n",
       "    .dataframe thead th {\n",
       "        text-align: right;\n",
       "    }\n",
       "</style>\n",
       "<table border=\"1\" class=\"dataframe\">\n",
       "  <thead>\n",
       "    <tr style=\"text-align: right;\">\n",
       "      <th></th>\n",
       "      <th>DATE</th>\n",
       "      <th>STORE_NBR</th>\n",
       "      <th>LYLTY_CARD_NBR</th>\n",
       "      <th>TXN_ID</th>\n",
       "      <th>PROD_NBR</th>\n",
       "      <th>PROD_NAME</th>\n",
       "      <th>PROD_QTY</th>\n",
       "      <th>TOT_SALES</th>\n",
       "      <th>newdate</th>\n",
       "      <th>pack_size</th>\n",
       "    </tr>\n",
       "  </thead>\n",
       "  <tbody>\n",
       "    <tr>\n",
       "      <th>69762</th>\n",
       "      <td>43331</td>\n",
       "      <td>226</td>\n",
       "      <td>226000</td>\n",
       "      <td>226201</td>\n",
       "      <td>4</td>\n",
       "      <td>dorito corn chp     supreme</td>\n",
       "      <td>200</td>\n",
       "      <td>650.0</td>\n",
       "      <td>2018-08-19</td>\n",
       "      <td>380</td>\n",
       "    </tr>\n",
       "    <tr>\n",
       "      <th>69763</th>\n",
       "      <td>43605</td>\n",
       "      <td>226</td>\n",
       "      <td>226000</td>\n",
       "      <td>226210</td>\n",
       "      <td>4</td>\n",
       "      <td>dorito corn chp     supreme</td>\n",
       "      <td>200</td>\n",
       "      <td>650.0</td>\n",
       "      <td>2019-05-20</td>\n",
       "      <td>380</td>\n",
       "    </tr>\n",
       "  </tbody>\n",
       "</table>\n",
       "</div>"
      ],
      "text/plain": [
       "        DATE  STORE_NBR  LYLTY_CARD_NBR  TXN_ID  PROD_NBR  \\\n",
       "69762  43331        226          226000  226201         4   \n",
       "69763  43605        226          226000  226210         4   \n",
       "\n",
       "                           PROD_NAME  PROD_QTY  TOT_SALES    newdate  \\\n",
       "69762  dorito corn chp     supreme         200      650.0 2018-08-19   \n",
       "69763  dorito corn chp     supreme         200      650.0 2019-05-20   \n",
       "\n",
       "       pack_size  \n",
       "69762        380  \n",
       "69763        380  "
      ]
     },
     "execution_count": 29,
     "metadata": {},
     "output_type": "execute_result"
    }
   ],
   "source": [
    "# Both these transactions have been made by the same person at the same store\n",
    "# Let's see all the transactions this person has made by tracking his loyalty card number '226000'\n",
    "\n",
    "transactionData.loc[transactionData['LYLTY_CARD_NBR'] == 226000]"
   ]
  },
  {
   "cell_type": "code",
   "execution_count": 30,
   "metadata": {},
   "outputs": [],
   "source": [
    "# This person only made two transactions over the entire year so unlikely to be a retail customer \n",
    "# He or she is most likely purchasing for commercial purposes\n",
    "# Safe to drop these this customer in both 'transactionData' and 'customerData' dataset\n",
    "\n",
    "transactionData.drop(transactionData.index[transactionData['LYLTY_CARD_NBR'] == 226000], inplace = True)\n",
    "customerData.drop(customerData.index[customerData['LYLTY_CARD_NBR'] == 226000], inplace = True)"
   ]
  },
  {
   "cell_type": "code",
   "execution_count": 31,
   "metadata": {},
   "outputs": [
    {
     "data": {
      "text/plain": [
       "246740"
      ]
     },
     "execution_count": 31,
     "metadata": {},
     "output_type": "execute_result"
    }
   ],
   "source": [
    "len(transactionData)"
   ]
  },
  {
   "cell_type": "code",
   "execution_count": 32,
   "metadata": {},
   "outputs": [
    {
     "data": {
      "text/plain": [
       "364"
      ]
     },
     "execution_count": 32,
     "metadata": {},
     "output_type": "execute_result"
    }
   ],
   "source": [
    "# Now let's examine the number of transactions over time to see if there are any obvious data issues e.g. missing data\n",
    "\n",
    "transactionData['newdate'].nunique()"
   ]
  },
  {
   "cell_type": "code",
   "execution_count": 33,
   "metadata": {},
   "outputs": [
    {
     "data": {
      "text/plain": [
       "newdate\n",
       "2018-07-01    1273\n",
       "2018-07-02    1251\n",
       "2018-07-03    1296\n",
       "2018-07-04    1286\n",
       "2018-07-05    1258\n",
       "              ... \n",
       "2019-06-26    1251\n",
       "2019-06-27    1276\n",
       "2019-06-28    1288\n",
       "2019-06-29    1355\n",
       "2019-06-30    1342\n",
       "Name: PROD_QTY, Length: 364, dtype: int64"
      ]
     },
     "execution_count": 33,
     "metadata": {},
     "output_type": "execute_result"
    }
   ],
   "source": [
    "transactionData.groupby('newdate').PROD_QTY.sum()"
   ]
  },
  {
   "cell_type": "code",
   "execution_count": 34,
   "metadata": {},
   "outputs": [
    {
     "data": {
      "text/plain": [
       "2018-07-01    663\n",
       "2018-07-02    650\n",
       "2018-07-03    674\n",
       "2018-07-04    669\n",
       "2018-07-05    660\n",
       "             ... \n",
       "2019-06-26    657\n",
       "2019-06-27    669\n",
       "2019-06-28    673\n",
       "2019-06-29    703\n",
       "2019-06-30    704\n",
       "Name: newdate, Length: 364, dtype: int64"
      ]
     },
     "execution_count": 34,
     "metadata": {},
     "output_type": "execute_result"
    }
   ],
   "source": [
    "# There seems to be one day missing out of the 365 days\n",
    "\n",
    "transactionData['newdate'].value_counts().sort_index()"
   ]
  },
  {
   "cell_type": "code",
   "execution_count": 35,
   "metadata": {
    "scrolled": true
   },
   "outputs": [
    {
     "data": {
      "text/plain": [
       "DatetimeIndex(['2018-12-25'], dtype='datetime64[ns]', freq=None)"
      ]
     },
     "execution_count": 35,
     "metadata": {},
     "output_type": "execute_result"
    }
   ],
   "source": [
    "# Look for the missing date \n",
    "# Turns out that it was Christmas Day so it makes sense because most retail stores are closed on that day\n",
    "\n",
    "pd.date_range(start = '2018-07-01', end = '2019-06-30').difference(transactionData['newdate'])"
   ]
  },
  {
   "cell_type": "code",
   "execution_count": 36,
   "metadata": {
    "scrolled": true
   },
   "outputs": [
    {
     "data": {
      "text/html": [
       "<div>\n",
       "<style scoped>\n",
       "    .dataframe tbody tr th:only-of-type {\n",
       "        vertical-align: middle;\n",
       "    }\n",
       "\n",
       "    .dataframe tbody tr th {\n",
       "        vertical-align: top;\n",
       "    }\n",
       "\n",
       "    .dataframe thead th {\n",
       "        text-align: right;\n",
       "    }\n",
       "</style>\n",
       "<table border=\"1\" class=\"dataframe\">\n",
       "  <thead>\n",
       "    <tr style=\"text-align: right;\">\n",
       "      <th></th>\n",
       "      <th>PROD_QTY</th>\n",
       "    </tr>\n",
       "    <tr>\n",
       "      <th>newdate</th>\n",
       "      <th></th>\n",
       "    </tr>\n",
       "  </thead>\n",
       "  <tbody>\n",
       "    <tr>\n",
       "      <th>2018-07-01</th>\n",
       "      <td>1273</td>\n",
       "    </tr>\n",
       "    <tr>\n",
       "      <th>2018-07-02</th>\n",
       "      <td>1251</td>\n",
       "    </tr>\n",
       "    <tr>\n",
       "      <th>2018-07-03</th>\n",
       "      <td>1296</td>\n",
       "    </tr>\n",
       "    <tr>\n",
       "      <th>2018-07-04</th>\n",
       "      <td>1286</td>\n",
       "    </tr>\n",
       "    <tr>\n",
       "      <th>2018-07-05</th>\n",
       "      <td>1258</td>\n",
       "    </tr>\n",
       "  </tbody>\n",
       "</table>\n",
       "</div>"
      ],
      "text/plain": [
       "            PROD_QTY\n",
       "newdate             \n",
       "2018-07-01      1273\n",
       "2018-07-02      1251\n",
       "2018-07-03      1296\n",
       "2018-07-04      1286\n",
       "2018-07-05      1258"
      ]
     },
     "execution_count": 36,
     "metadata": {},
     "output_type": "execute_result"
    }
   ],
   "source": [
    "# Create a new dataframe which contains the the number of transactions for each date\n",
    "\n",
    "a = pd.pivot_table(transactionData, values = 'PROD_QTY', index = 'newdate', aggfunc = 'sum')\n",
    "a.head()"
   ]
  },
  {
   "cell_type": "code",
   "execution_count": 37,
   "metadata": {},
   "outputs": [
    {
     "data": {
      "text/html": [
       "<div>\n",
       "<style scoped>\n",
       "    .dataframe tbody tr th:only-of-type {\n",
       "        vertical-align: middle;\n",
       "    }\n",
       "\n",
       "    .dataframe tbody tr th {\n",
       "        vertical-align: top;\n",
       "    }\n",
       "\n",
       "    .dataframe thead th {\n",
       "        text-align: right;\n",
       "    }\n",
       "</style>\n",
       "<table border=\"1\" class=\"dataframe\">\n",
       "  <thead>\n",
       "    <tr style=\"text-align: right;\">\n",
       "      <th></th>\n",
       "      <th>PROD_QTY</th>\n",
       "    </tr>\n",
       "  </thead>\n",
       "  <tbody>\n",
       "    <tr>\n",
       "      <th>2018-07-01</th>\n",
       "      <td>0</td>\n",
       "    </tr>\n",
       "    <tr>\n",
       "      <th>2018-07-02</th>\n",
       "      <td>0</td>\n",
       "    </tr>\n",
       "    <tr>\n",
       "      <th>2018-07-03</th>\n",
       "      <td>0</td>\n",
       "    </tr>\n",
       "    <tr>\n",
       "      <th>2018-07-04</th>\n",
       "      <td>0</td>\n",
       "    </tr>\n",
       "    <tr>\n",
       "      <th>2018-07-05</th>\n",
       "      <td>0</td>\n",
       "    </tr>\n",
       "    <tr>\n",
       "      <th>...</th>\n",
       "      <td>...</td>\n",
       "    </tr>\n",
       "    <tr>\n",
       "      <th>2019-06-26</th>\n",
       "      <td>0</td>\n",
       "    </tr>\n",
       "    <tr>\n",
       "      <th>2019-06-27</th>\n",
       "      <td>0</td>\n",
       "    </tr>\n",
       "    <tr>\n",
       "      <th>2019-06-28</th>\n",
       "      <td>0</td>\n",
       "    </tr>\n",
       "    <tr>\n",
       "      <th>2019-06-29</th>\n",
       "      <td>0</td>\n",
       "    </tr>\n",
       "    <tr>\n",
       "      <th>2019-06-30</th>\n",
       "      <td>0</td>\n",
       "    </tr>\n",
       "  </tbody>\n",
       "</table>\n",
       "<p>365 rows × 1 columns</p>\n",
       "</div>"
      ],
      "text/plain": [
       "            PROD_QTY\n",
       "2018-07-01         0\n",
       "2018-07-02         0\n",
       "2018-07-03         0\n",
       "2018-07-04         0\n",
       "2018-07-05         0\n",
       "...              ...\n",
       "2019-06-26         0\n",
       "2019-06-27         0\n",
       "2019-06-28         0\n",
       "2019-06-29         0\n",
       "2019-06-30         0\n",
       "\n",
       "[365 rows x 1 columns]"
      ]
     },
     "execution_count": 37,
     "metadata": {},
     "output_type": "execute_result"
    }
   ],
   "source": [
    "b = pd.DataFrame(index = pd.date_range(start = '2018-07-01', end = '2019-06-30'))\n",
    "b['PROD_QTY'] = 0\n",
    "b"
   ]
  },
  {
   "cell_type": "code",
   "execution_count": 119,
   "metadata": {},
   "outputs": [],
   "source": [
    "c = a+b\n",
    "c.fillna(0, inplace = True)"
   ]
  },
  {
   "cell_type": "code",
   "execution_count": 39,
   "metadata": {
    "scrolled": true
   },
   "outputs": [
    {
     "data": {
      "text/html": [
       "<div>\n",
       "<style scoped>\n",
       "    .dataframe tbody tr th:only-of-type {\n",
       "        vertical-align: middle;\n",
       "    }\n",
       "\n",
       "    .dataframe tbody tr th {\n",
       "        vertical-align: top;\n",
       "    }\n",
       "\n",
       "    .dataframe thead th {\n",
       "        text-align: right;\n",
       "    }\n",
       "</style>\n",
       "<table border=\"1\" class=\"dataframe\">\n",
       "  <thead>\n",
       "    <tr style=\"text-align: right;\">\n",
       "      <th></th>\n",
       "      <th>PROD_QTY</th>\n",
       "    </tr>\n",
       "  </thead>\n",
       "  <tbody>\n",
       "    <tr>\n",
       "      <th>2018-07-01</th>\n",
       "      <td>1273.0</td>\n",
       "    </tr>\n",
       "    <tr>\n",
       "      <th>2018-07-02</th>\n",
       "      <td>1251.0</td>\n",
       "    </tr>\n",
       "    <tr>\n",
       "      <th>2018-07-03</th>\n",
       "      <td>1296.0</td>\n",
       "    </tr>\n",
       "    <tr>\n",
       "      <th>2018-07-04</th>\n",
       "      <td>1286.0</td>\n",
       "    </tr>\n",
       "    <tr>\n",
       "      <th>2018-07-05</th>\n",
       "      <td>1258.0</td>\n",
       "    </tr>\n",
       "  </tbody>\n",
       "</table>\n",
       "</div>"
      ],
      "text/plain": [
       "            PROD_QTY\n",
       "2018-07-01    1273.0\n",
       "2018-07-02    1251.0\n",
       "2018-07-03    1296.0\n",
       "2018-07-04    1286.0\n",
       "2018-07-05    1258.0"
      ]
     },
     "execution_count": 39,
     "metadata": {},
     "output_type": "execute_result"
    }
   ],
   "source": [
    "c.head()"
   ]
  },
  {
   "cell_type": "code",
   "execution_count": 120,
   "metadata": {},
   "outputs": [
    {
     "data": {
      "text/html": [
       "<div>\n",
       "<style scoped>\n",
       "    .dataframe tbody tr th:only-of-type {\n",
       "        vertical-align: middle;\n",
       "    }\n",
       "\n",
       "    .dataframe tbody tr th {\n",
       "        vertical-align: top;\n",
       "    }\n",
       "\n",
       "    .dataframe thead th {\n",
       "        text-align: right;\n",
       "    }\n",
       "</style>\n",
       "<table border=\"1\" class=\"dataframe\">\n",
       "  <thead>\n",
       "    <tr style=\"text-align: right;\">\n",
       "      <th></th>\n",
       "      <th>Number of Chips Sold</th>\n",
       "    </tr>\n",
       "    <tr>\n",
       "      <th>Date</th>\n",
       "      <th></th>\n",
       "    </tr>\n",
       "  </thead>\n",
       "  <tbody>\n",
       "    <tr>\n",
       "      <th>2018-07-01</th>\n",
       "      <td>1273.0</td>\n",
       "    </tr>\n",
       "    <tr>\n",
       "      <th>2018-07-02</th>\n",
       "      <td>1251.0</td>\n",
       "    </tr>\n",
       "    <tr>\n",
       "      <th>2018-07-03</th>\n",
       "      <td>1296.0</td>\n",
       "    </tr>\n",
       "    <tr>\n",
       "      <th>2018-07-04</th>\n",
       "      <td>1286.0</td>\n",
       "    </tr>\n",
       "    <tr>\n",
       "      <th>2018-07-05</th>\n",
       "      <td>1258.0</td>\n",
       "    </tr>\n",
       "  </tbody>\n",
       "</table>\n",
       "</div>"
      ],
      "text/plain": [
       "            Number of Chips Sold\n",
       "Date                            \n",
       "2018-07-01                1273.0\n",
       "2018-07-02                1251.0\n",
       "2018-07-03                1296.0\n",
       "2018-07-04                1286.0\n",
       "2018-07-05                1258.0"
      ]
     },
     "execution_count": 120,
     "metadata": {},
     "output_type": "execute_result"
    }
   ],
   "source": [
    "c.index.name = 'Date'\n",
    "c.rename(columns = {'PROD_QTY': 'Number of Chips Sold'}, inplace = True)\n",
    "c.head() "
   ]
  },
  {
   "cell_type": "code",
   "execution_count": 121,
   "metadata": {},
   "outputs": [
    {
     "data": {
      "image/png": "[encoded data removed]",
      "text/plain": [
       "<Figure size 720x360 with 1 Axes>"
      ]
     },
     "metadata": {
      "needs_background": "light"
     },
     "output_type": "display_data"
    }
   ],
   "source": [
    "timeline = c.index\n",
    "graph = c['Number of Chips Sold']\n",
    "\n",
    "fig, ax = plt.subplots(figsize = (10, 5))\n",
    "ax.plot(timeline, graph)\n",
    "\n",
    "date_form = DateFormatter(\"%Y-%m\")\n",
    "ax.xaxis.set_major_formatter(date_form)\n",
    "plt.title('Number of Chips Sold from July 2018 to June 2019')\n",
    "plt.xlabel('Time')\n",
    "plt.ylabel('Number of Chips Sold')\n",
    "\n",
    "plt.show()\n",
    "\n",
    "# Comment: We can see the number of chips sold spike up during the December month and zero sale on Christmas"
   ]
  },
  {
   "cell_type": "code",
   "execution_count": 42,
   "metadata": {},
   "outputs": [
    {
     "data": {
      "text/html": [
       "<div>\n",
       "<style scoped>\n",
       "    .dataframe tbody tr th:only-of-type {\n",
       "        vertical-align: middle;\n",
       "    }\n",
       "\n",
       "    .dataframe tbody tr th {\n",
       "        vertical-align: top;\n",
       "    }\n",
       "\n",
       "    .dataframe thead th {\n",
       "        text-align: right;\n",
       "    }\n",
       "</style>\n",
       "<table border=\"1\" class=\"dataframe\">\n",
       "  <thead>\n",
       "    <tr style=\"text-align: right;\">\n",
       "      <th></th>\n",
       "      <th>Number of Chips Sold</th>\n",
       "    </tr>\n",
       "    <tr>\n",
       "      <th>Date</th>\n",
       "      <th></th>\n",
       "    </tr>\n",
       "  </thead>\n",
       "  <tbody>\n",
       "    <tr>\n",
       "      <th>2018-12-25</th>\n",
       "      <td>0.0</td>\n",
       "    </tr>\n",
       "  </tbody>\n",
       "</table>\n",
       "</div>"
      ],
      "text/plain": [
       "            Number of Chips Sold\n",
       "Date                            \n",
       "2018-12-25                   0.0"
      ]
     },
     "execution_count": 42,
     "metadata": {},
     "output_type": "execute_result"
    }
   ],
   "source": [
    "# Confirm the date where sales count equals to zero\n",
    "\n",
    "c[c['Number of Chips Sold'] == 0]"
   ]
  },
  {
   "cell_type": "code",
   "execution_count": 43,
   "metadata": {},
   "outputs": [
    {
     "data": {
      "text/html": [
       "<div>\n",
       "<style scoped>\n",
       "    .dataframe tbody tr th:only-of-type {\n",
       "        vertical-align: middle;\n",
       "    }\n",
       "\n",
       "    .dataframe tbody tr th {\n",
       "        vertical-align: top;\n",
       "    }\n",
       "\n",
       "    .dataframe thead th {\n",
       "        text-align: right;\n",
       "    }\n",
       "</style>\n",
       "<table border=\"1\" class=\"dataframe\">\n",
       "  <thead>\n",
       "    <tr style=\"text-align: right;\">\n",
       "      <th></th>\n",
       "      <th>Date</th>\n",
       "      <th>Number of Chips Sold</th>\n",
       "    </tr>\n",
       "  </thead>\n",
       "  <tbody>\n",
       "    <tr>\n",
       "      <th>0</th>\n",
       "      <td>2018-07-01</td>\n",
       "      <td>1273.0</td>\n",
       "    </tr>\n",
       "    <tr>\n",
       "      <th>1</th>\n",
       "      <td>2018-07-02</td>\n",
       "      <td>1251.0</td>\n",
       "    </tr>\n",
       "    <tr>\n",
       "      <th>2</th>\n",
       "      <td>2018-07-03</td>\n",
       "      <td>1296.0</td>\n",
       "    </tr>\n",
       "    <tr>\n",
       "      <th>3</th>\n",
       "      <td>2018-07-04</td>\n",
       "      <td>1286.0</td>\n",
       "    </tr>\n",
       "    <tr>\n",
       "      <th>4</th>\n",
       "      <td>2018-07-05</td>\n",
       "      <td>1258.0</td>\n",
       "    </tr>\n",
       "  </tbody>\n",
       "</table>\n",
       "</div>"
      ],
      "text/plain": [
       "        Date  Number of Chips Sold\n",
       "0 2018-07-01                1273.0\n",
       "1 2018-07-02                1251.0\n",
       "2 2018-07-03                1296.0\n",
       "3 2018-07-04                1286.0\n",
       "4 2018-07-05                1258.0"
      ]
     },
     "execution_count": 43,
     "metadata": {},
     "output_type": "execute_result"
    }
   ],
   "source": [
    "c.reset_index(inplace = True)\n",
    "c.head()"
   ]
  },
  {
   "cell_type": "code",
   "execution_count": 44,
   "metadata": {},
   "outputs": [
    {
     "data": {
      "text/html": [
       "<div>\n",
       "<style scoped>\n",
       "    .dataframe tbody tr th:only-of-type {\n",
       "        vertical-align: middle;\n",
       "    }\n",
       "\n",
       "    .dataframe tbody tr th {\n",
       "        vertical-align: top;\n",
       "    }\n",
       "\n",
       "    .dataframe thead th {\n",
       "        text-align: right;\n",
       "    }\n",
       "</style>\n",
       "<table border=\"1\" class=\"dataframe\">\n",
       "  <thead>\n",
       "    <tr style=\"text-align: right;\">\n",
       "      <th></th>\n",
       "      <th>Date</th>\n",
       "      <th>Number of Chips Sold</th>\n",
       "    </tr>\n",
       "  </thead>\n",
       "  <tbody>\n",
       "    <tr>\n",
       "      <th>153</th>\n",
       "      <td>2018-12-01</td>\n",
       "      <td>1294.0</td>\n",
       "    </tr>\n",
       "    <tr>\n",
       "      <th>154</th>\n",
       "      <td>2018-12-02</td>\n",
       "      <td>1253.0</td>\n",
       "    </tr>\n",
       "    <tr>\n",
       "      <th>155</th>\n",
       "      <td>2018-12-03</td>\n",
       "      <td>1304.0</td>\n",
       "    </tr>\n",
       "    <tr>\n",
       "      <th>156</th>\n",
       "      <td>2018-12-04</td>\n",
       "      <td>1278.0</td>\n",
       "    </tr>\n",
       "    <tr>\n",
       "      <th>157</th>\n",
       "      <td>2018-12-05</td>\n",
       "      <td>1259.0</td>\n",
       "    </tr>\n",
       "  </tbody>\n",
       "</table>\n",
       "</div>"
      ],
      "text/plain": [
       "          Date  Number of Chips Sold\n",
       "153 2018-12-01                1294.0\n",
       "154 2018-12-02                1253.0\n",
       "155 2018-12-03                1304.0\n",
       "156 2018-12-04                1278.0\n",
       "157 2018-12-05                1259.0"
      ]
     },
     "execution_count": 44,
     "metadata": {},
     "output_type": "execute_result"
    }
   ],
   "source": [
    "c_december = c[(c.Date < \"2019-01-01\") & (c.Date > \"2018-11-30\")]\n",
    "c_december.head()"
   ]
  },
  {
   "cell_type": "code",
   "execution_count": 45,
   "metadata": {},
   "outputs": [
    {
     "data": {
      "text/plain": [
       "31"
      ]
     },
     "execution_count": 45,
     "metadata": {},
     "output_type": "execute_result"
    }
   ],
   "source": [
    "len(c_december)"
   ]
  },
  {
   "cell_type": "code",
   "execution_count": 46,
   "metadata": {},
   "outputs": [
    {
     "data": {
      "text/html": [
       "<div>\n",
       "<style scoped>\n",
       "    .dataframe tbody tr th:only-of-type {\n",
       "        vertical-align: middle;\n",
       "    }\n",
       "\n",
       "    .dataframe tbody tr th {\n",
       "        vertical-align: top;\n",
       "    }\n",
       "\n",
       "    .dataframe thead th {\n",
       "        text-align: right;\n",
       "    }\n",
       "</style>\n",
       "<table border=\"1\" class=\"dataframe\">\n",
       "  <thead>\n",
       "    <tr style=\"text-align: right;\">\n",
       "      <th></th>\n",
       "      <th>Date</th>\n",
       "      <th>Number of Chips Sold</th>\n",
       "    </tr>\n",
       "  </thead>\n",
       "  <tbody>\n",
       "    <tr>\n",
       "      <th>0</th>\n",
       "      <td>2018-12-01</td>\n",
       "      <td>1294.0</td>\n",
       "    </tr>\n",
       "    <tr>\n",
       "      <th>1</th>\n",
       "      <td>2018-12-02</td>\n",
       "      <td>1253.0</td>\n",
       "    </tr>\n",
       "    <tr>\n",
       "      <th>2</th>\n",
       "      <td>2018-12-03</td>\n",
       "      <td>1304.0</td>\n",
       "    </tr>\n",
       "    <tr>\n",
       "      <th>3</th>\n",
       "      <td>2018-12-04</td>\n",
       "      <td>1278.0</td>\n",
       "    </tr>\n",
       "    <tr>\n",
       "      <th>4</th>\n",
       "      <td>2018-12-05</td>\n",
       "      <td>1259.0</td>\n",
       "    </tr>\n",
       "  </tbody>\n",
       "</table>\n",
       "</div>"
      ],
      "text/plain": [
       "        Date  Number of Chips Sold\n",
       "0 2018-12-01                1294.0\n",
       "1 2018-12-02                1253.0\n",
       "2 2018-12-03                1304.0\n",
       "3 2018-12-04                1278.0\n",
       "4 2018-12-05                1259.0"
      ]
     },
     "execution_count": 46,
     "metadata": {},
     "output_type": "execute_result"
    }
   ],
   "source": [
    "c_december.reset_index(drop = True, inplace = True)\n",
    "c_december.head()"
   ]
  },
  {
   "cell_type": "code",
   "execution_count": 47,
   "metadata": {},
   "outputs": [
    {
     "name": "stderr",
     "output_type": "stream",
     "text": [
      "C:\\Users\\Jason Chong\\anaconda3\\lib\\site-packages\\pandas\\core\\generic.py:5303: SettingWithCopyWarning: \n",
      "A value is trying to be set on a copy of a slice from a DataFrame.\n",
      "Try using .loc[row_indexer,col_indexer] = value instead\n",
      "\n",
      "See the caveats in the documentation: https://pandas.pydata.org/pandas-docs/stable/user_guide/indexing.html#returning-a-view-versus-a-copy\n",
      "  self[name] = value\n"
     ]
    }
   ],
   "source": [
    "# Relabel 'Date'\n",
    "\n",
    "c_december.Date = c_december.index + 1"
   ]
  },
  {
   "cell_type": "code",
   "execution_count": 48,
   "metadata": {},
   "outputs": [
    {
     "data": {
      "text/html": [
       "<div>\n",
       "<style scoped>\n",
       "    .dataframe tbody tr th:only-of-type {\n",
       "        vertical-align: middle;\n",
       "    }\n",
       "\n",
       "    .dataframe tbody tr th {\n",
       "        vertical-align: top;\n",
       "    }\n",
       "\n",
       "    .dataframe thead th {\n",
       "        text-align: right;\n",
       "    }\n",
       "</style>\n",
       "<table border=\"1\" class=\"dataframe\">\n",
       "  <thead>\n",
       "    <tr style=\"text-align: right;\">\n",
       "      <th></th>\n",
       "      <th>Date</th>\n",
       "      <th>Number of Chips Sold</th>\n",
       "    </tr>\n",
       "  </thead>\n",
       "  <tbody>\n",
       "    <tr>\n",
       "      <th>0</th>\n",
       "      <td>1</td>\n",
       "      <td>1294.0</td>\n",
       "    </tr>\n",
       "    <tr>\n",
       "      <th>1</th>\n",
       "      <td>2</td>\n",
       "      <td>1253.0</td>\n",
       "    </tr>\n",
       "    <tr>\n",
       "      <th>2</th>\n",
       "      <td>3</td>\n",
       "      <td>1304.0</td>\n",
       "    </tr>\n",
       "    <tr>\n",
       "      <th>3</th>\n",
       "      <td>4</td>\n",
       "      <td>1278.0</td>\n",
       "    </tr>\n",
       "    <tr>\n",
       "      <th>4</th>\n",
       "      <td>5</td>\n",
       "      <td>1259.0</td>\n",
       "    </tr>\n",
       "  </tbody>\n",
       "</table>\n",
       "</div>"
      ],
      "text/plain": [
       "   Date  Number of Chips Sold\n",
       "0     1                1294.0\n",
       "1     2                1253.0\n",
       "2     3                1304.0\n",
       "3     4                1278.0\n",
       "4     5                1259.0"
      ]
     },
     "execution_count": 48,
     "metadata": {},
     "output_type": "execute_result"
    }
   ],
   "source": [
    "c_december.head()"
   ]
  },
  {
   "cell_type": "code",
   "execution_count": 49,
   "metadata": {},
   "outputs": [
    {
     "data": {
      "text/html": [
       "<div>\n",
       "<style scoped>\n",
       "    .dataframe tbody tr th:only-of-type {\n",
       "        vertical-align: middle;\n",
       "    }\n",
       "\n",
       "    .dataframe tbody tr th {\n",
       "        vertical-align: top;\n",
       "    }\n",
       "\n",
       "    .dataframe thead th {\n",
       "        text-align: right;\n",
       "    }\n",
       "</style>\n",
       "<table border=\"1\" class=\"dataframe\">\n",
       "  <thead>\n",
       "    <tr style=\"text-align: right;\">\n",
       "      <th></th>\n",
       "      <th>Date</th>\n",
       "      <th>Number of Chips Sold</th>\n",
       "    </tr>\n",
       "  </thead>\n",
       "  <tbody>\n",
       "    <tr>\n",
       "      <th>26</th>\n",
       "      <td>27</td>\n",
       "      <td>1343.0</td>\n",
       "    </tr>\n",
       "    <tr>\n",
       "      <th>27</th>\n",
       "      <td>28</td>\n",
       "      <td>1280.0</td>\n",
       "    </tr>\n",
       "    <tr>\n",
       "      <th>28</th>\n",
       "      <td>29</td>\n",
       "      <td>1272.0</td>\n",
       "    </tr>\n",
       "    <tr>\n",
       "      <th>29</th>\n",
       "      <td>30</td>\n",
       "      <td>1315.0</td>\n",
       "    </tr>\n",
       "    <tr>\n",
       "      <th>30</th>\n",
       "      <td>31</td>\n",
       "      <td>1261.0</td>\n",
       "    </tr>\n",
       "  </tbody>\n",
       "</table>\n",
       "</div>"
      ],
      "text/plain": [
       "    Date  Number of Chips Sold\n",
       "26    27                1343.0\n",
       "27    28                1280.0\n",
       "28    29                1272.0\n",
       "29    30                1315.0\n",
       "30    31                1261.0"
      ]
     },
     "execution_count": 49,
     "metadata": {},
     "output_type": "execute_result"
    }
   ],
   "source": [
    "c_december.tail()"
   ]
  },
  {
   "cell_type": "code",
   "execution_count": 50,
   "metadata": {},
   "outputs": [
    {
     "data": {
      "text/plain": [
       "<matplotlib.axes._subplots.AxesSubplot at 0x159d04b4208>"
      ]
     },
     "execution_count": 50,
     "metadata": {},
     "output_type": "execute_result"
    },
    {
     "data": {
      "image/png": "[encoded data removed]",
      "text/plain": [
       "<Figure size 1080x360 with 1 Axes>"
      ]
     },
     "metadata": {
      "needs_background": "light"
     },
     "output_type": "display_data"
    }
   ],
   "source": [
    "plt.figure(figsize = (15,5))\n",
    "sns.barplot(x = 'Date', y ='Number of Chips Sold', data = c_december)\n",
    "\n",
    "# Comment: No sales on Christmas Day (2018-12-25)"
   ]
  },
  {
   "cell_type": "code",
   "execution_count": 51,
   "metadata": {},
   "outputs": [
    {
     "data": {
      "text/plain": [
       "0    175\n",
       "1    175\n",
       "2    170\n",
       "3    175\n",
       "4    150\n",
       "Name: pack_size, dtype: int64"
      ]
     },
     "execution_count": 51,
     "metadata": {},
     "output_type": "execute_result"
    }
   ],
   "source": [
    "# Now that we are satisfied that the data no longer has outliers\n",
    "# We can move on to creating other features\n",
    "# At the beginning, we have already created a 'pack_size' feature\n",
    "# Let's have a look again\n",
    "\n",
    "transactionData['pack_size'].head()"
   ]
  },
  {
   "cell_type": "code",
   "execution_count": 52,
   "metadata": {},
   "outputs": [
    {
     "data": {
      "text/plain": [
       "array([175, 170, 150, 330, 210, 270, 220, 125, 110, 134, 380, 180, 165,\n",
       "       135, 250, 200, 160, 190,  90,  70], dtype=int64)"
      ]
     },
     "execution_count": 52,
     "metadata": {},
     "output_type": "execute_result"
    }
   ],
   "source": [
    "transactionData['pack_size'].unique()\n",
    "\n",
    "# Comment: the largest size is 380g and the smallest size is 70g which seems reasonable"
   ]
  },
  {
   "cell_type": "code",
   "execution_count": 53,
   "metadata": {},
   "outputs": [
    {
     "data": {
      "text/html": [
       "<div>\n",
       "<style scoped>\n",
       "    .dataframe tbody tr th:only-of-type {\n",
       "        vertical-align: middle;\n",
       "    }\n",
       "\n",
       "    .dataframe tbody tr th {\n",
       "        vertical-align: top;\n",
       "    }\n",
       "\n",
       "    .dataframe thead th {\n",
       "        text-align: right;\n",
       "    }\n",
       "</style>\n",
       "<table border=\"1\" class=\"dataframe\">\n",
       "  <thead>\n",
       "    <tr style=\"text-align: right;\">\n",
       "      <th></th>\n",
       "      <th>pack_size</th>\n",
       "      <th>PROD_QTY</th>\n",
       "    </tr>\n",
       "  </thead>\n",
       "  <tbody>\n",
       "    <tr>\n",
       "      <th>0</th>\n",
       "      <td>70</td>\n",
       "      <td>2855</td>\n",
       "    </tr>\n",
       "    <tr>\n",
       "      <th>1</th>\n",
       "      <td>90</td>\n",
       "      <td>5692</td>\n",
       "    </tr>\n",
       "    <tr>\n",
       "      <th>2</th>\n",
       "      <td>110</td>\n",
       "      <td>42835</td>\n",
       "    </tr>\n",
       "    <tr>\n",
       "      <th>3</th>\n",
       "      <td>125</td>\n",
       "      <td>2730</td>\n",
       "    </tr>\n",
       "    <tr>\n",
       "      <th>4</th>\n",
       "      <td>134</td>\n",
       "      <td>48019</td>\n",
       "    </tr>\n",
       "  </tbody>\n",
       "</table>\n",
       "</div>"
      ],
      "text/plain": [
       "   pack_size  PROD_QTY\n",
       "0         70      2855\n",
       "1         90      5692\n",
       "2        110     42835\n",
       "3        125      2730\n",
       "4        134     48019"
      ]
     },
     "execution_count": 53,
     "metadata": {},
     "output_type": "execute_result"
    }
   ],
   "source": [
    "# Compute number of sales for each pack size\n",
    "\n",
    "packSales = transactionData[['pack_size', 'PROD_QTY']].groupby(['pack_size'], as_index = False).sum()\n",
    "packSales.head()"
   ]
  },
  {
   "cell_type": "code",
   "execution_count": 54,
   "metadata": {},
   "outputs": [
    {
     "data": {
      "text/html": [
       "<div>\n",
       "<style scoped>\n",
       "    .dataframe tbody tr th:only-of-type {\n",
       "        vertical-align: middle;\n",
       "    }\n",
       "\n",
       "    .dataframe tbody tr th {\n",
       "        vertical-align: top;\n",
       "    }\n",
       "\n",
       "    .dataframe thead th {\n",
       "        text-align: right;\n",
       "    }\n",
       "</style>\n",
       "<table border=\"1\" class=\"dataframe\">\n",
       "  <thead>\n",
       "    <tr style=\"text-align: right;\">\n",
       "      <th></th>\n",
       "      <th>Size</th>\n",
       "      <th>Quantity Sold</th>\n",
       "    </tr>\n",
       "  </thead>\n",
       "  <tbody>\n",
       "    <tr>\n",
       "      <th>0</th>\n",
       "      <td>70</td>\n",
       "      <td>2855</td>\n",
       "    </tr>\n",
       "    <tr>\n",
       "      <th>1</th>\n",
       "      <td>90</td>\n",
       "      <td>5692</td>\n",
       "    </tr>\n",
       "    <tr>\n",
       "      <th>2</th>\n",
       "      <td>110</td>\n",
       "      <td>42835</td>\n",
       "    </tr>\n",
       "    <tr>\n",
       "      <th>3</th>\n",
       "      <td>125</td>\n",
       "      <td>2730</td>\n",
       "    </tr>\n",
       "    <tr>\n",
       "      <th>4</th>\n",
       "      <td>134</td>\n",
       "      <td>48019</td>\n",
       "    </tr>\n",
       "    <tr>\n",
       "      <th>5</th>\n",
       "      <td>135</td>\n",
       "      <td>6212</td>\n",
       "    </tr>\n",
       "    <tr>\n",
       "      <th>6</th>\n",
       "      <td>150</td>\n",
       "      <td>76662</td>\n",
       "    </tr>\n",
       "    <tr>\n",
       "      <th>7</th>\n",
       "      <td>160</td>\n",
       "      <td>5604</td>\n",
       "    </tr>\n",
       "    <tr>\n",
       "      <th>8</th>\n",
       "      <td>165</td>\n",
       "      <td>29051</td>\n",
       "    </tr>\n",
       "    <tr>\n",
       "      <th>9</th>\n",
       "      <td>170</td>\n",
       "      <td>38088</td>\n",
       "    </tr>\n",
       "    <tr>\n",
       "      <th>10</th>\n",
       "      <td>175</td>\n",
       "      <td>126467</td>\n",
       "    </tr>\n",
       "    <tr>\n",
       "      <th>11</th>\n",
       "      <td>180</td>\n",
       "      <td>2764</td>\n",
       "    </tr>\n",
       "    <tr>\n",
       "      <th>12</th>\n",
       "      <td>190</td>\n",
       "      <td>5673</td>\n",
       "    </tr>\n",
       "    <tr>\n",
       "      <th>13</th>\n",
       "      <td>200</td>\n",
       "      <td>8425</td>\n",
       "    </tr>\n",
       "    <tr>\n",
       "      <th>14</th>\n",
       "      <td>210</td>\n",
       "      <td>11962</td>\n",
       "    </tr>\n",
       "    <tr>\n",
       "      <th>15</th>\n",
       "      <td>220</td>\n",
       "      <td>2970</td>\n",
       "    </tr>\n",
       "    <tr>\n",
       "      <th>16</th>\n",
       "      <td>250</td>\n",
       "      <td>6069</td>\n",
       "    </tr>\n",
       "    <tr>\n",
       "      <th>17</th>\n",
       "      <td>270</td>\n",
       "      <td>12049</td>\n",
       "    </tr>\n",
       "    <tr>\n",
       "      <th>18</th>\n",
       "      <td>330</td>\n",
       "      <td>23999</td>\n",
       "    </tr>\n",
       "    <tr>\n",
       "      <th>19</th>\n",
       "      <td>380</td>\n",
       "      <td>12273</td>\n",
       "    </tr>\n",
       "  </tbody>\n",
       "</table>\n",
       "</div>"
      ],
      "text/plain": [
       "    Size  Quantity Sold\n",
       "0     70           2855\n",
       "1     90           5692\n",
       "2    110          42835\n",
       "3    125           2730\n",
       "4    134          48019\n",
       "5    135           6212\n",
       "6    150          76662\n",
       "7    160           5604\n",
       "8    165          29051\n",
       "9    170          38088\n",
       "10   175         126467\n",
       "11   180           2764\n",
       "12   190           5673\n",
       "13   200           8425\n",
       "14   210          11962\n",
       "15   220           2970\n",
       "16   250           6069\n",
       "17   270          12049\n",
       "18   330          23999\n",
       "19   380          12273"
      ]
     },
     "execution_count": 54,
     "metadata": {},
     "output_type": "execute_result"
    }
   ],
   "source": [
    "packSales.rename(columns = {'pack_size': 'Size', 'PROD_QTY': 'Quantity Sold'}, inplace = True)\n",
    "packSales.sort_values(by = 'Size', inplace = True)\n",
    "packSales"
   ]
  },
  {
   "cell_type": "code",
   "execution_count": 55,
   "metadata": {},
   "outputs": [
    {
     "data": {
      "text/plain": [
       "<matplotlib.axes._subplots.AxesSubplot at 0x159d106ee88>"
      ]
     },
     "execution_count": 55,
     "metadata": {},
     "output_type": "execute_result"
    },
    {
     "data": {
      "image/png": "[encoded data removed]",
      "text/plain": [
       "<Figure size 720x360 with 1 Axes>"
      ]
     },
     "metadata": {
      "needs_background": "light"
     },
     "output_type": "display_data"
    }
   ],
   "source": [
    "plt.figure(figsize = (10, 5))\n",
    "sns.barplot(x = 'Size', y = 'Quantity Sold', data = packSales)"
   ]
  },
  {
   "cell_type": "code",
   "execution_count": 56,
   "metadata": {
    "scrolled": true
   },
   "outputs": [
    {
     "data": {
      "text/plain": [
       "<matplotlib.axes._subplots.AxesSubplot at 0x159d2ad3588>"
      ]
     },
     "execution_count": 56,
     "metadata": {},
     "output_type": "execute_result"
    },
    {
     "data": {
      "image/png": "[encoded data removed]",
      "text/plain": [
       "<Figure size 432x288 with 1 Axes>"
      ]
     },
     "metadata": {
      "needs_background": "light"
     },
     "output_type": "display_data"
    }
   ],
   "source": [
    "# Check to see if it corresponds to a simple histogram straight from the data\n",
    "\n",
    "transactionData['pack_size'].hist()"
   ]
  },
  {
   "cell_type": "code",
   "execution_count": 57,
   "metadata": {},
   "outputs": [
    {
     "data": {
      "text/plain": [
       "0    natural\n",
       "1        ccs\n",
       "2     smiths\n",
       "3     smiths\n",
       "4     kettle\n",
       "Name: brand, dtype: object"
      ]
     },
     "execution_count": 57,
     "metadata": {},
     "output_type": "execute_result"
    }
   ],
   "source": [
    "# Extract brand name from 'PROD_NAME' \n",
    "# Create a new column under 'TransactionData' called 'brand'\n",
    "\n",
    "part = transactionData['PROD_NAME'].str.partition()\n",
    "transactionData['brand'] = part[0]\n",
    "transactionData['brand'].head()"
   ]
  },
  {
   "cell_type": "code",
   "execution_count": 58,
   "metadata": {},
   "outputs": [
    {
     "data": {
      "text/plain": [
       "28"
      ]
     },
     "execution_count": 58,
     "metadata": {},
     "output_type": "execute_result"
    }
   ],
   "source": [
    "transactionData['brand'].nunique()"
   ]
  },
  {
   "cell_type": "code",
   "execution_count": 59,
   "metadata": {},
   "outputs": [
    {
     "data": {
      "text/plain": [
       "array(['natural', 'ccs', 'smiths', 'kettle', 'grain', 'doritos',\n",
       "       'twisties', 'ww', 'thins', 'burger', 'ncc', 'cheezels', 'infzns',\n",
       "       'red', 'pringles', 'dorito', 'infuzions', 'smith', 'grnwves',\n",
       "       'tyrrells', 'cobs', 'french', 'rrd', 'tostitos', 'cheetos',\n",
       "       'woolworths', 'snbts', 'sunbites'], dtype=object)"
      ]
     },
     "execution_count": 59,
     "metadata": {},
     "output_type": "execute_result"
    }
   ],
   "source": [
    "transactionData['brand'].unique()"
   ]
  },
  {
   "cell_type": "code",
   "execution_count": 60,
   "metadata": {},
   "outputs": [
    {
     "data": {
      "text/plain": [
       "array(['Natural', 'CCs', 'Smiths', 'Kettle', 'Doritos', 'Twisties',\n",
       "       'Woolworths', 'Thins', 'Burger Rings', 'Cheezels', 'Infuzions',\n",
       "       'Red Rock Deli', 'Pringles', 'Tyrrells', 'Cobs', 'French Fries',\n",
       "       'Tostitos', 'Cheetos', 'Sunbites'], dtype=object)"
      ]
     },
     "execution_count": 60,
     "metadata": {},
     "output_type": "execute_result"
    }
   ],
   "source": [
    "# It looks like there are duplicates of the same brand e.g. 'ww' and 'woolworths', 'red' and 'rrd', 'natural' and 'ncc', \n",
    "# 'infuzions' and 'infzns', 'snbts' and 'sunbites', 'grain' and 'grnwves', 'smiths' and 'smith', 'doritos' and 'dorito'\n",
    "# Let's rename them for consistency\n",
    "\n",
    "transactionData['brand'].replace(['natural', 'ncc'], 'Natural', inplace = True)\n",
    "transactionData['brand'].replace('ccs', 'CCs', inplace = True)\n",
    "transactionData['brand'].replace(['smiths', 'smith'], 'Smiths', inplace = True)\n",
    "transactionData['brand'].replace('kettle', 'Kettle', inplace = True)\n",
    "transactionData['brand'].replace(['grain', 'grnwves'], 'Natural', inplace = True)\n",
    "transactionData['brand'].replace(['doritos', 'dorito'], 'Doritos', inplace = True)\n",
    "transactionData['brand'].replace('twisties', 'Twisties', inplace = True)\n",
    "transactionData['brand'].replace(['ww', 'woolworths'], 'Woolworths', inplace = True)\n",
    "transactionData['brand'].replace('thins', 'Thins', inplace = True)\n",
    "transactionData['brand'].replace('burger', 'Burger Rings', inplace = True)\n",
    "transactionData['brand'].replace('cheezels', 'Cheezels', inplace = True)\n",
    "transactionData['brand'].replace(['infzns', 'infuzions'], 'Infuzions', inplace = True)\n",
    "transactionData['brand'].replace(['red', 'rrd'], 'Red Rock Deli', inplace = True)\n",
    "transactionData['brand'].replace('pringles', 'Pringles', inplace = True)\n",
    "transactionData['brand'].replace('tyrrells', 'Tyrrells', inplace = True)\n",
    "transactionData['brand'].replace('cobs', 'Cobs', inplace = True)\n",
    "transactionData['brand'].replace('french', 'French Fries', inplace = True)\n",
    "transactionData['brand'].replace('tostitos', 'Tostitos', inplace = True)\n",
    "transactionData['brand'].replace('cheetos', 'Cheetos', inplace = True)\n",
    "transactionData['brand'].replace(['snbts', 'sunbites'], 'Sunbites', inplace = True)\n",
    "\n",
    "transactionData.brand.unique()"
   ]
  },
  {
   "cell_type": "code",
   "execution_count": 61,
   "metadata": {},
   "outputs": [
    {
     "data": {
      "text/plain": [
       "brand\n",
       "Kettle           390239.8\n",
       "Doritos          226329.9\n",
       "Smiths           217492.0\n",
       "Pringles         177655.5\n",
       "Infuzions         99047.6\n",
       "Natural           93935.2\n",
       "Thins             88852.5\n",
       "Red Rock Deli     87607.5\n",
       "Twisties          81522.1\n",
       "Tostitos          79789.6\n",
       "Cobs              70569.8\n",
       "Tyrrells          51647.4\n",
       "Woolworths        41059.1\n",
       "Cheezels          40029.9\n",
       "CCs               18078.9\n",
       "Cheetos           16884.5\n",
       "Sunbites           9676.4\n",
       "French Fries       7929.0\n",
       "Burger Rings       6831.0\n",
       "Name: TOT_SALES, dtype: float64"
      ]
     },
     "execution_count": 61,
     "metadata": {},
     "output_type": "execute_result"
    }
   ],
   "source": [
    "# Which brand had the most sales?\n",
    "\n",
    "transactionData.groupby('brand').TOT_SALES.sum().sort_values(ascending = False)"
   ]
  },
  {
   "cell_type": "code",
   "execution_count": 62,
   "metadata": {},
   "outputs": [],
   "source": [
    "# Create a dataframe 'brand_sales' for plotting purposes\n",
    "\n",
    "brand_sales = transactionData.groupby('brand', as_index = False).TOT_SALES.sum()\n",
    "brand_sales.rename(columns = {'brand': 'Brand', 'TOT_SALES': 'Annual Sales'}, inplace = True)\n",
    "brand_sales.sort_values(by = 'Annual Sales', ascending = False, inplace = True)"
   ]
  },
  {
   "cell_type": "code",
   "execution_count": 63,
   "metadata": {},
   "outputs": [
    {
     "data": {
      "text/plain": [
       "<matplotlib.axes._subplots.AxesSubplot at 0x159e584a9c8>"
      ]
     },
     "execution_count": 63,
     "metadata": {},
     "output_type": "execute_result"
    },
    {
     "data": {
      "image/png": "[encoded data removed]",
      "text/plain": [
       "<Figure size 1656x720 with 1 Axes>"
      ]
     },
     "metadata": {
      "needs_background": "light"
     },
     "output_type": "display_data"
    }
   ],
   "source": [
    "plt.figure(figsize = (23, 10))\n",
    "sns.barplot(x = 'Brand', y = 'Annual Sales', data = brand_sales)"
   ]
  },
  {
   "cell_type": "code",
   "execution_count": 64,
   "metadata": {},
   "outputs": [
    {
     "data": {
      "text/plain": [
       "['LYLTY_CARD_NBR', 'LIFESTAGE', 'PREMIUM_CUSTOMER']"
      ]
     },
     "execution_count": 64,
     "metadata": {},
     "output_type": "execute_result"
    }
   ],
   "source": [
    "# Let's move on to 'customerData' dataset now\n",
    "\n",
    "list(customerData.columns)"
   ]
  },
  {
   "cell_type": "code",
   "execution_count": 65,
   "metadata": {
    "scrolled": true
   },
   "outputs": [
    {
     "data": {
      "text/html": [
       "<div>\n",
       "<style scoped>\n",
       "    .dataframe tbody tr th:only-of-type {\n",
       "        vertical-align: middle;\n",
       "    }\n",
       "\n",
       "    .dataframe tbody tr th {\n",
       "        vertical-align: top;\n",
       "    }\n",
       "\n",
       "    .dataframe thead th {\n",
       "        text-align: right;\n",
       "    }\n",
       "</style>\n",
       "<table border=\"1\" class=\"dataframe\">\n",
       "  <thead>\n",
       "    <tr style=\"text-align: right;\">\n",
       "      <th></th>\n",
       "      <th>LYLTY_CARD_NBR</th>\n",
       "      <th>LIFESTAGE</th>\n",
       "      <th>PREMIUM_CUSTOMER</th>\n",
       "    </tr>\n",
       "  </thead>\n",
       "  <tbody>\n",
       "    <tr>\n",
       "      <th>0</th>\n",
       "      <td>1000</td>\n",
       "      <td>YOUNG SINGLES/COUPLES</td>\n",
       "      <td>Premium</td>\n",
       "    </tr>\n",
       "    <tr>\n",
       "      <th>1</th>\n",
       "      <td>1002</td>\n",
       "      <td>YOUNG SINGLES/COUPLES</td>\n",
       "      <td>Mainstream</td>\n",
       "    </tr>\n",
       "    <tr>\n",
       "      <th>2</th>\n",
       "      <td>1003</td>\n",
       "      <td>YOUNG FAMILIES</td>\n",
       "      <td>Budget</td>\n",
       "    </tr>\n",
       "    <tr>\n",
       "      <th>3</th>\n",
       "      <td>1004</td>\n",
       "      <td>OLDER SINGLES/COUPLES</td>\n",
       "      <td>Mainstream</td>\n",
       "    </tr>\n",
       "    <tr>\n",
       "      <th>4</th>\n",
       "      <td>1005</td>\n",
       "      <td>MIDAGE SINGLES/COUPLES</td>\n",
       "      <td>Mainstream</td>\n",
       "    </tr>\n",
       "  </tbody>\n",
       "</table>\n",
       "</div>"
      ],
      "text/plain": [
       "   LYLTY_CARD_NBR               LIFESTAGE PREMIUM_CUSTOMER\n",
       "0            1000   YOUNG SINGLES/COUPLES          Premium\n",
       "1            1002   YOUNG SINGLES/COUPLES       Mainstream\n",
       "2            1003          YOUNG FAMILIES           Budget\n",
       "3            1004   OLDER SINGLES/COUPLES       Mainstream\n",
       "4            1005  MIDAGE SINGLES/COUPLES       Mainstream"
      ]
     },
     "execution_count": 65,
     "metadata": {},
     "output_type": "execute_result"
    }
   ],
   "source": [
    "customerData.head()"
   ]
  },
  {
   "cell_type": "code",
   "execution_count": 66,
   "metadata": {},
   "outputs": [
    {
     "data": {
      "text/plain": [
       "72636"
      ]
     },
     "execution_count": 66,
     "metadata": {},
     "output_type": "execute_result"
    }
   ],
   "source": [
    "len(customerData)"
   ]
  },
  {
   "cell_type": "code",
   "execution_count": 67,
   "metadata": {},
   "outputs": [
    {
     "data": {
      "text/plain": [
       "72636"
      ]
     },
     "execution_count": 67,
     "metadata": {},
     "output_type": "execute_result"
    }
   ],
   "source": [
    "customerData['LYLTY_CARD_NBR'].nunique()\n",
    "\n",
    "# Comment: 'LYLTY_CARD_NBR' is unique to each row"
   ]
  },
  {
   "cell_type": "code",
   "execution_count": 68,
   "metadata": {},
   "outputs": [
    {
     "data": {
      "text/plain": [
       "7"
      ]
     },
     "execution_count": 68,
     "metadata": {},
     "output_type": "execute_result"
    }
   ],
   "source": [
    "customerData['LIFESTAGE'].nunique()\n",
    "\n",
    "# Comment: 7 unique lifestages of customers"
   ]
  },
  {
   "cell_type": "code",
   "execution_count": 69,
   "metadata": {},
   "outputs": [
    {
     "data": {
      "text/plain": [
       "array(['YOUNG SINGLES/COUPLES', 'YOUNG FAMILIES', 'OLDER SINGLES/COUPLES',\n",
       "       'MIDAGE SINGLES/COUPLES', 'NEW FAMILIES', 'OLDER FAMILIES',\n",
       "       'RETIREES'], dtype=object)"
      ]
     },
     "execution_count": 69,
     "metadata": {},
     "output_type": "execute_result"
    }
   ],
   "source": [
    "# Let's see what those lifestages are\n",
    "\n",
    "customerData['LIFESTAGE'].unique()"
   ]
  },
  {
   "cell_type": "code",
   "execution_count": 70,
   "metadata": {},
   "outputs": [
    {
     "data": {
      "text/plain": [
       "RETIREES                  14805\n",
       "OLDER SINGLES/COUPLES     14609\n",
       "YOUNG SINGLES/COUPLES     14441\n",
       "OLDER FAMILIES             9779\n",
       "YOUNG FAMILIES             9178\n",
       "MIDAGE SINGLES/COUPLES     7275\n",
       "NEW FAMILIES               2549\n",
       "Name: LIFESTAGE, dtype: int64"
      ]
     },
     "execution_count": 70,
     "metadata": {},
     "output_type": "execute_result"
    }
   ],
   "source": [
    "# Counts for each lifestages\n",
    "\n",
    "customerData['LIFESTAGE'].value_counts().sort_values(ascending = False)"
   ]
  },
  {
   "cell_type": "code",
   "execution_count": 71,
   "metadata": {},
   "outputs": [
    {
     "data": {
      "text/plain": [
       "<matplotlib.axes._subplots.AxesSubplot at 0x159e5ea36c8>"
      ]
     },
     "execution_count": 71,
     "metadata": {},
     "output_type": "execute_result"
    },
    {
     "data": {
      "image/png": "[encoded data removed]",
      "text/plain": [
       "<Figure size 432x288 with 1 Axes>"
      ]
     },
     "metadata": {
      "needs_background": "light"
     },
     "output_type": "display_data"
    }
   ],
   "source": [
    "customerData['LIFESTAGE'].value_counts().plot(kind = 'bar')"
   ]
  },
  {
   "cell_type": "code",
   "execution_count": 72,
   "metadata": {},
   "outputs": [
    {
     "data": {
      "text/plain": [
       "3"
      ]
     },
     "execution_count": 72,
     "metadata": {},
     "output_type": "execute_result"
    }
   ],
   "source": [
    "# What about the 'PREMIUM_CUSTOMER' column\n",
    "\n",
    "customerData['PREMIUM_CUSTOMER'].nunique()"
   ]
  },
  {
   "cell_type": "code",
   "execution_count": 73,
   "metadata": {},
   "outputs": [
    {
     "data": {
      "text/plain": [
       "Mainstream    29245\n",
       "Budget        24470\n",
       "Premium       18921\n",
       "Name: PREMIUM_CUSTOMER, dtype: int64"
      ]
     },
     "execution_count": 73,
     "metadata": {},
     "output_type": "execute_result"
    }
   ],
   "source": [
    "# Counts for each 'PREMIUM_CUSTOMER'\n",
    "\n",
    "customerData['PREMIUM_CUSTOMER'].value_counts().sort_values(ascending = False)\n",
    "\n",
    "# Comment: Mainstream has the highest count, followed by budget and finally premium"
   ]
  },
  {
   "cell_type": "code",
   "execution_count": 74,
   "metadata": {},
   "outputs": [
    {
     "data": {
      "text/plain": [
       "<matplotlib.axes._subplots.AxesSubplot at 0x159e5ed9188>"
      ]
     },
     "execution_count": 74,
     "metadata": {},
     "output_type": "execute_result"
    },
    {
     "data": {
      "image/png": "[encoded data removed]",
      "text/plain": [
       "<Figure size 432x288 with 1 Axes>"
      ]
     },
     "metadata": {
      "needs_background": "light"
     },
     "output_type": "display_data"
    }
   ],
   "source": [
    "# Visualise the distribution of 'PREMIUM_CUSTOMER'\n",
    "\n",
    "customerData['PREMIUM_CUSTOMER'].value_counts().plot(kind = 'bar')"
   ]
  },
  {
   "cell_type": "code",
   "execution_count": 75,
   "metadata": {},
   "outputs": [
    {
     "data": {
      "text/plain": [
       "(246740, 11)"
      ]
     },
     "execution_count": 75,
     "metadata": {},
     "output_type": "execute_result"
    }
   ],
   "source": [
    "# Now let's merge the two datasets together\n",
    "# Before we do, examine the shape\n",
    "\n",
    "transactionData.shape"
   ]
  },
  {
   "cell_type": "code",
   "execution_count": 76,
   "metadata": {},
   "outputs": [
    {
     "data": {
      "text/plain": [
       "(72636, 3)"
      ]
     },
     "execution_count": 76,
     "metadata": {},
     "output_type": "execute_result"
    }
   ],
   "source": [
    "customerData.shape"
   ]
  },
  {
   "cell_type": "code",
   "execution_count": 77,
   "metadata": {},
   "outputs": [
    {
     "data": {
      "text/plain": [
       "(246740, 13)"
      ]
     },
     "execution_count": 77,
     "metadata": {},
     "output_type": "execute_result"
    }
   ],
   "source": [
    "combineData = pd.merge(transactionData, customerData)\n",
    "combineData.shape"
   ]
  },
  {
   "cell_type": "code",
   "execution_count": 78,
   "metadata": {},
   "outputs": [
    {
     "data": {
      "text/html": [
       "<div>\n",
       "<style scoped>\n",
       "    .dataframe tbody tr th:only-of-type {\n",
       "        vertical-align: middle;\n",
       "    }\n",
       "\n",
       "    .dataframe tbody tr th {\n",
       "        vertical-align: top;\n",
       "    }\n",
       "\n",
       "    .dataframe thead th {\n",
       "        text-align: right;\n",
       "    }\n",
       "</style>\n",
       "<table border=\"1\" class=\"dataframe\">\n",
       "  <thead>\n",
       "    <tr style=\"text-align: right;\">\n",
       "      <th></th>\n",
       "      <th>DATE</th>\n",
       "      <th>STORE_NBR</th>\n",
       "      <th>LYLTY_CARD_NBR</th>\n",
       "      <th>TXN_ID</th>\n",
       "      <th>PROD_NBR</th>\n",
       "      <th>PROD_NAME</th>\n",
       "      <th>PROD_QTY</th>\n",
       "      <th>TOT_SALES</th>\n",
       "      <th>newdate</th>\n",
       "      <th>pack_size</th>\n",
       "      <th>brand</th>\n",
       "      <th>LIFESTAGE</th>\n",
       "      <th>PREMIUM_CUSTOMER</th>\n",
       "    </tr>\n",
       "  </thead>\n",
       "  <tbody>\n",
       "    <tr>\n",
       "      <th>0</th>\n",
       "      <td>43390</td>\n",
       "      <td>1</td>\n",
       "      <td>1000</td>\n",
       "      <td>1</td>\n",
       "      <td>5</td>\n",
       "      <td>natural chip        compny seasalt</td>\n",
       "      <td>2</td>\n",
       "      <td>6.0</td>\n",
       "      <td>2018-10-17</td>\n",
       "      <td>175</td>\n",
       "      <td>Natural</td>\n",
       "      <td>YOUNG SINGLES/COUPLES</td>\n",
       "      <td>Premium</td>\n",
       "    </tr>\n",
       "    <tr>\n",
       "      <th>1</th>\n",
       "      <td>43599</td>\n",
       "      <td>1</td>\n",
       "      <td>1307</td>\n",
       "      <td>348</td>\n",
       "      <td>66</td>\n",
       "      <td>ccs nacho cheese</td>\n",
       "      <td>3</td>\n",
       "      <td>6.3</td>\n",
       "      <td>2019-05-14</td>\n",
       "      <td>175</td>\n",
       "      <td>CCs</td>\n",
       "      <td>MIDAGE SINGLES/COUPLES</td>\n",
       "      <td>Budget</td>\n",
       "    </tr>\n",
       "    <tr>\n",
       "      <th>2</th>\n",
       "      <td>43414</td>\n",
       "      <td>1</td>\n",
       "      <td>1307</td>\n",
       "      <td>346</td>\n",
       "      <td>96</td>\n",
       "      <td>ww original stacked chips</td>\n",
       "      <td>2</td>\n",
       "      <td>3.8</td>\n",
       "      <td>2018-11-10</td>\n",
       "      <td>160</td>\n",
       "      <td>Woolworths</td>\n",
       "      <td>MIDAGE SINGLES/COUPLES</td>\n",
       "      <td>Budget</td>\n",
       "    </tr>\n",
       "    <tr>\n",
       "      <th>3</th>\n",
       "      <td>43533</td>\n",
       "      <td>1</td>\n",
       "      <td>1307</td>\n",
       "      <td>347</td>\n",
       "      <td>54</td>\n",
       "      <td>ccs original</td>\n",
       "      <td>1</td>\n",
       "      <td>2.1</td>\n",
       "      <td>2019-03-09</td>\n",
       "      <td>175</td>\n",
       "      <td>CCs</td>\n",
       "      <td>MIDAGE SINGLES/COUPLES</td>\n",
       "      <td>Budget</td>\n",
       "    </tr>\n",
       "    <tr>\n",
       "      <th>4</th>\n",
       "      <td>43605</td>\n",
       "      <td>1</td>\n",
       "      <td>1343</td>\n",
       "      <td>383</td>\n",
       "      <td>61</td>\n",
       "      <td>smiths crinkle cut  chips chicken</td>\n",
       "      <td>2</td>\n",
       "      <td>2.9</td>\n",
       "      <td>2019-05-20</td>\n",
       "      <td>170</td>\n",
       "      <td>Smiths</td>\n",
       "      <td>MIDAGE SINGLES/COUPLES</td>\n",
       "      <td>Budget</td>\n",
       "    </tr>\n",
       "  </tbody>\n",
       "</table>\n",
       "</div>"
      ],
      "text/plain": [
       "    DATE  STORE_NBR  LYLTY_CARD_NBR  TXN_ID  PROD_NBR  \\\n",
       "0  43390          1            1000       1         5   \n",
       "1  43599          1            1307     348        66   \n",
       "2  43414          1            1307     346        96   \n",
       "3  43533          1            1307     347        54   \n",
       "4  43605          1            1343     383        61   \n",
       "\n",
       "                             PROD_NAME  PROD_QTY  TOT_SALES    newdate  \\\n",
       "0  natural chip        compny seasalt          2        6.0 2018-10-17   \n",
       "1                ccs nacho cheese              3        6.3 2019-05-14   \n",
       "2          ww original stacked chips           2        3.8 2018-11-10   \n",
       "3                       ccs original           1        2.1 2019-03-09   \n",
       "4  smiths crinkle cut  chips chicken           2        2.9 2019-05-20   \n",
       "\n",
       "   pack_size       brand               LIFESTAGE PREMIUM_CUSTOMER  \n",
       "0        175     Natural   YOUNG SINGLES/COUPLES          Premium  \n",
       "1        175         CCs  MIDAGE SINGLES/COUPLES           Budget  \n",
       "2        160  Woolworths  MIDAGE SINGLES/COUPLES           Budget  \n",
       "3        175         CCs  MIDAGE SINGLES/COUPLES           Budget  \n",
       "4        170      Smiths  MIDAGE SINGLES/COUPLES           Budget  "
      ]
     },
     "execution_count": 78,
     "metadata": {},
     "output_type": "execute_result"
    }
   ],
   "source": [
    "# The two datasets are joined together via the column 'LYLTY_CARD_NBR'\n",
    "\n",
    "combineData.head()"
   ]
  },
  {
   "cell_type": "code",
   "execution_count": 79,
   "metadata": {
    "scrolled": true
   },
   "outputs": [
    {
     "data": {
      "text/plain": [
       "DATE                0\n",
       "STORE_NBR           0\n",
       "LYLTY_CARD_NBR      0\n",
       "TXN_ID              0\n",
       "PROD_NBR            0\n",
       "PROD_NAME           0\n",
       "PROD_QTY            0\n",
       "TOT_SALES           0\n",
       "newdate             0\n",
       "pack_size           0\n",
       "brand               0\n",
       "LIFESTAGE           0\n",
       "PREMIUM_CUSTOMER    0\n",
       "dtype: int64"
      ]
     },
     "execution_count": 79,
     "metadata": {},
     "output_type": "execute_result"
    }
   ],
   "source": [
    "# Check of null values\n",
    "\n",
    "combineData.isnull().sum()"
   ]
  },
  {
   "cell_type": "code",
   "execution_count": 80,
   "metadata": {
    "scrolled": true
   },
   "outputs": [
    {
     "data": {
      "text/plain": [
       "LIFESTAGE\n",
       "OLDER SINGLES/COUPLES     376019.65\n",
       "RETIREES                  342381.90\n",
       "OLDER FAMILIES            328519.90\n",
       "YOUNG FAMILIES            294627.90\n",
       "YOUNG SINGLES/COUPLES     243756.60\n",
       "MIDAGE SINGLES/COUPLES    172523.80\n",
       "NEW FAMILIES               47347.95\n",
       "Name: TOT_SALES, dtype: float64"
      ]
     },
     "execution_count": 80,
     "metadata": {},
     "output_type": "execute_result"
    }
   ],
   "source": [
    "# Total sales by 'LIFESTAGE' from highest to lowest sales\n",
    "\n",
    "combineData.groupby('LIFESTAGE').TOT_SALES.sum().sort_values(ascending = False)"
   ]
  },
  {
   "cell_type": "code",
   "execution_count": 81,
   "metadata": {},
   "outputs": [
    {
     "data": {
      "text/plain": [
       "<matplotlib.axes._subplots.AxesSubplot at 0x159e5f25f08>"
      ]
     },
     "execution_count": 81,
     "metadata": {},
     "output_type": "execute_result"
    },
    {
     "data": {
      "image/png": "[encoded data removed]",
      "text/plain": [
       "<Figure size 432x288 with 1 Axes>"
      ]
     },
     "metadata": {},
     "output_type": "display_data"
    }
   ],
   "source": [
    "# Let's visualise this \n",
    "\n",
    "combineData.groupby('LIFESTAGE').TOT_SALES.sum().plot(kind = 'pie')"
   ]
  },
  {
   "cell_type": "code",
   "execution_count": 82,
   "metadata": {},
   "outputs": [
    {
     "data": {
      "text/plain": [
       "<matplotlib.axes._subplots.AxesSubplot at 0x159e5f57b08>"
      ]
     },
     "execution_count": 82,
     "metadata": {},
     "output_type": "execute_result"
    },
    {
     "data": {
      "image/png": "[encoded data removed]",
      "text/plain": [
       "<Figure size 720x720 with 1 Axes>"
      ]
     },
     "metadata": {
      "needs_background": "light"
     },
     "output_type": "display_data"
    }
   ],
   "source": [
    "combineData.groupby('LIFESTAGE').TOT_SALES.sum().plot(kind = 'bar', figsize = (10, 10))"
   ]
  },
  {
   "cell_type": "code",
   "execution_count": 83,
   "metadata": {},
   "outputs": [
    {
     "data": {
      "text/plain": [
       "PREMIUM_CUSTOMER\n",
       "Mainstream    700865.40\n",
       "Budget        631406.85\n",
       "Premium       472905.45\n",
       "Name: TOT_SALES, dtype: float64"
      ]
     },
     "execution_count": 83,
     "metadata": {},
     "output_type": "execute_result"
    }
   ],
   "source": [
    "# Total sales by 'PREMIUM_CUSTOMER' from highest to lowest sale\n",
    "\n",
    "combineData.groupby('PREMIUM_CUSTOMER').TOT_SALES.sum().sort_values(ascending = False)"
   ]
  },
  {
   "cell_type": "code",
   "execution_count": 84,
   "metadata": {},
   "outputs": [
    {
     "data": {
      "text/plain": [
       "<matplotlib.axes._subplots.AxesSubplot at 0x159e2db8408>"
      ]
     },
     "execution_count": 84,
     "metadata": {},
     "output_type": "execute_result"
    },
    {
     "data": {
      "image/png": "[encoded data removed]",
      "text/plain": [
       "<Figure size 432x288 with 1 Axes>"
      ]
     },
     "metadata": {
      "needs_background": "light"
     },
     "output_type": "display_data"
    }
   ],
   "source": [
    "# Again, visualise this on a barplot\n",
    "\n",
    "combineData.groupby('PREMIUM_CUSTOMER').TOT_SALES.sum().plot(kind = 'bar')                                                                                   "
   ]
  },
  {
   "cell_type": "code",
   "execution_count": 85,
   "metadata": {},
   "outputs": [
    {
     "data": {
      "text/plain": [
       "<matplotlib.axes._subplots.AxesSubplot at 0x159e2df8548>"
      ]
     },
     "execution_count": 85,
     "metadata": {},
     "output_type": "execute_result"
    },
    {
     "data": {
      "image/png": "[encoded data removed]",
      "text/plain": [
       "<Figure size 720x720 with 1 Axes>"
      ]
     },
     "metadata": {
      "needs_background": "light"
     },
     "output_type": "display_data"
    }
   ],
   "source": [
    "# Let's take this a step further\n",
    "# Say we want to consider both features at the same time \n",
    "\n",
    "combineData.groupby(['PREMIUM_CUSTOMER', 'LIFESTAGE']).TOT_SALES.sum().sort_values(ascending = False).plot(kind = 'bar', figsize = (10, 10))"
   ]
  },
  {
   "cell_type": "code",
   "execution_count": 86,
   "metadata": {},
   "outputs": [
    {
     "data": {
      "text/html": [
       "<div>\n",
       "<style scoped>\n",
       "    .dataframe tbody tr th:only-of-type {\n",
       "        vertical-align: middle;\n",
       "    }\n",
       "\n",
       "    .dataframe tbody tr th {\n",
       "        vertical-align: top;\n",
       "    }\n",
       "\n",
       "    .dataframe thead th {\n",
       "        text-align: right;\n",
       "    }\n",
       "</style>\n",
       "<table border=\"1\" class=\"dataframe\">\n",
       "  <thead>\n",
       "    <tr style=\"text-align: right;\">\n",
       "      <th></th>\n",
       "      <th>DATE</th>\n",
       "      <th>STORE_NBR</th>\n",
       "      <th>LYLTY_CARD_NBR</th>\n",
       "      <th>TXN_ID</th>\n",
       "      <th>PROD_NBR</th>\n",
       "      <th>PROD_NAME</th>\n",
       "      <th>PROD_QTY</th>\n",
       "      <th>TOT_SALES</th>\n",
       "      <th>newdate</th>\n",
       "      <th>pack_size</th>\n",
       "      <th>brand</th>\n",
       "      <th>LIFESTAGE</th>\n",
       "      <th>PREMIUM_CUSTOMER</th>\n",
       "    </tr>\n",
       "  </thead>\n",
       "  <tbody>\n",
       "    <tr>\n",
       "      <th>0</th>\n",
       "      <td>43390</td>\n",
       "      <td>1</td>\n",
       "      <td>1000</td>\n",
       "      <td>1</td>\n",
       "      <td>5</td>\n",
       "      <td>natural chip        compny seasalt</td>\n",
       "      <td>2</td>\n",
       "      <td>6.0</td>\n",
       "      <td>2018-10-17</td>\n",
       "      <td>175</td>\n",
       "      <td>Natural</td>\n",
       "      <td>YOUNG SINGLES/COUPLES</td>\n",
       "      <td>Premium</td>\n",
       "    </tr>\n",
       "    <tr>\n",
       "      <th>1</th>\n",
       "      <td>43599</td>\n",
       "      <td>1</td>\n",
       "      <td>1307</td>\n",
       "      <td>348</td>\n",
       "      <td>66</td>\n",
       "      <td>ccs nacho cheese</td>\n",
       "      <td>3</td>\n",
       "      <td>6.3</td>\n",
       "      <td>2019-05-14</td>\n",
       "      <td>175</td>\n",
       "      <td>CCs</td>\n",
       "      <td>MIDAGE SINGLES/COUPLES</td>\n",
       "      <td>Budget</td>\n",
       "    </tr>\n",
       "    <tr>\n",
       "      <th>2</th>\n",
       "      <td>43414</td>\n",
       "      <td>1</td>\n",
       "      <td>1307</td>\n",
       "      <td>346</td>\n",
       "      <td>96</td>\n",
       "      <td>ww original stacked chips</td>\n",
       "      <td>2</td>\n",
       "      <td>3.8</td>\n",
       "      <td>2018-11-10</td>\n",
       "      <td>160</td>\n",
       "      <td>Woolworths</td>\n",
       "      <td>MIDAGE SINGLES/COUPLES</td>\n",
       "      <td>Budget</td>\n",
       "    </tr>\n",
       "    <tr>\n",
       "      <th>3</th>\n",
       "      <td>43533</td>\n",
       "      <td>1</td>\n",
       "      <td>1307</td>\n",
       "      <td>347</td>\n",
       "      <td>54</td>\n",
       "      <td>ccs original</td>\n",
       "      <td>1</td>\n",
       "      <td>2.1</td>\n",
       "      <td>2019-03-09</td>\n",
       "      <td>175</td>\n",
       "      <td>CCs</td>\n",
       "      <td>MIDAGE SINGLES/COUPLES</td>\n",
       "      <td>Budget</td>\n",
       "    </tr>\n",
       "    <tr>\n",
       "      <th>4</th>\n",
       "      <td>43605</td>\n",
       "      <td>1</td>\n",
       "      <td>1343</td>\n",
       "      <td>383</td>\n",
       "      <td>61</td>\n",
       "      <td>smiths crinkle cut  chips chicken</td>\n",
       "      <td>2</td>\n",
       "      <td>2.9</td>\n",
       "      <td>2019-05-20</td>\n",
       "      <td>170</td>\n",
       "      <td>Smiths</td>\n",
       "      <td>MIDAGE SINGLES/COUPLES</td>\n",
       "      <td>Budget</td>\n",
       "    </tr>\n",
       "  </tbody>\n",
       "</table>\n",
       "</div>"
      ],
      "text/plain": [
       "    DATE  STORE_NBR  LYLTY_CARD_NBR  TXN_ID  PROD_NBR  \\\n",
       "0  43390          1            1000       1         5   \n",
       "1  43599          1            1307     348        66   \n",
       "2  43414          1            1307     346        96   \n",
       "3  43533          1            1307     347        54   \n",
       "4  43605          1            1343     383        61   \n",
       "\n",
       "                             PROD_NAME  PROD_QTY  TOT_SALES    newdate  \\\n",
       "0  natural chip        compny seasalt          2        6.0 2018-10-17   \n",
       "1                ccs nacho cheese              3        6.3 2019-05-14   \n",
       "2          ww original stacked chips           2        3.8 2018-11-10   \n",
       "3                       ccs original           1        2.1 2019-03-09   \n",
       "4  smiths crinkle cut  chips chicken           2        2.9 2019-05-20   \n",
       "\n",
       "   pack_size       brand               LIFESTAGE PREMIUM_CUSTOMER  \n",
       "0        175     Natural   YOUNG SINGLES/COUPLES          Premium  \n",
       "1        175         CCs  MIDAGE SINGLES/COUPLES           Budget  \n",
       "2        160  Woolworths  MIDAGE SINGLES/COUPLES           Budget  \n",
       "3        175         CCs  MIDAGE SINGLES/COUPLES           Budget  \n",
       "4        170      Smiths  MIDAGE SINGLES/COUPLES           Budget  "
      ]
     },
     "execution_count": 86,
     "metadata": {},
     "output_type": "execute_result"
    }
   ],
   "source": [
    "# Let's examine if the higher sales are due to there being more customers who buy chips\n",
    "\n",
    "combineData.head()"
   ]
  },
  {
   "cell_type": "code",
   "execution_count": 87,
   "metadata": {
    "scrolled": true
   },
   "outputs": [
    {
     "data": {
      "text/plain": [
       "0    (Premium, YOUNG SINGLES/COUPLES)\n",
       "1    (Budget, MIDAGE SINGLES/COUPLES)\n",
       "2    (Budget, MIDAGE SINGLES/COUPLES)\n",
       "3    (Budget, MIDAGE SINGLES/COUPLES)\n",
       "4    (Budget, MIDAGE SINGLES/COUPLES)\n",
       "dtype: object"
      ]
     },
     "execution_count": 87,
     "metadata": {},
     "output_type": "execute_result"
    }
   ],
   "source": [
    "customer_segment = \"(\" + combineData['PREMIUM_CUSTOMER'] + \", \" + combineData['LIFESTAGE'] + \")\"\n",
    "customer_segment.head()"
   ]
  },
  {
   "cell_type": "code",
   "execution_count": 88,
   "metadata": {},
   "outputs": [
    {
     "data": {
      "text/plain": [
       "0    1000\n",
       "1    1307\n",
       "2    1307\n",
       "3    1307\n",
       "4    1343\n",
       "Name: LYLTY_CARD_NBR, dtype: int64"
      ]
     },
     "execution_count": 88,
     "metadata": {},
     "output_type": "execute_result"
    }
   ],
   "source": [
    "customer_number = combineData['LYLTY_CARD_NBR']\n",
    "customer_number.head()"
   ]
  },
  {
   "cell_type": "code",
   "execution_count": 89,
   "metadata": {},
   "outputs": [
    {
     "data": {
      "text/html": [
       "<div>\n",
       "<style scoped>\n",
       "    .dataframe tbody tr th:only-of-type {\n",
       "        vertical-align: middle;\n",
       "    }\n",
       "\n",
       "    .dataframe tbody tr th {\n",
       "        vertical-align: top;\n",
       "    }\n",
       "\n",
       "    .dataframe thead th {\n",
       "        text-align: right;\n",
       "    }\n",
       "</style>\n",
       "<table border=\"1\" class=\"dataframe\">\n",
       "  <thead>\n",
       "    <tr style=\"text-align: right;\">\n",
       "      <th></th>\n",
       "      <th>Customer Number</th>\n",
       "      <th>Customer Segment</th>\n",
       "    </tr>\n",
       "  </thead>\n",
       "  <tbody>\n",
       "    <tr>\n",
       "      <th>0</th>\n",
       "      <td>1000</td>\n",
       "      <td>(Premium, YOUNG SINGLES/COUPLES)</td>\n",
       "    </tr>\n",
       "    <tr>\n",
       "      <th>1</th>\n",
       "      <td>1307</td>\n",
       "      <td>(Budget, MIDAGE SINGLES/COUPLES)</td>\n",
       "    </tr>\n",
       "    <tr>\n",
       "      <th>2</th>\n",
       "      <td>1307</td>\n",
       "      <td>(Budget, MIDAGE SINGLES/COUPLES)</td>\n",
       "    </tr>\n",
       "    <tr>\n",
       "      <th>3</th>\n",
       "      <td>1307</td>\n",
       "      <td>(Budget, MIDAGE SINGLES/COUPLES)</td>\n",
       "    </tr>\n",
       "    <tr>\n",
       "      <th>4</th>\n",
       "      <td>1343</td>\n",
       "      <td>(Budget, MIDAGE SINGLES/COUPLES)</td>\n",
       "    </tr>\n",
       "  </tbody>\n",
       "</table>\n",
       "</div>"
      ],
      "text/plain": [
       "   Customer Number                  Customer Segment\n",
       "0             1000  (Premium, YOUNG SINGLES/COUPLES)\n",
       "1             1307  (Budget, MIDAGE SINGLES/COUPLES)\n",
       "2             1307  (Budget, MIDAGE SINGLES/COUPLES)\n",
       "3             1307  (Budget, MIDAGE SINGLES/COUPLES)\n",
       "4             1343  (Budget, MIDAGE SINGLES/COUPLES)"
      ]
     },
     "execution_count": 89,
     "metadata": {},
     "output_type": "execute_result"
    }
   ],
   "source": [
    "list_of_tuples = list(zip(customer_number, customer_segment))\n",
    "customer_profile = pd.DataFrame(list_of_tuples, columns = ['Customer Number', 'Customer Segment'])\n",
    "customer_profile.head()"
   ]
  },
  {
   "cell_type": "code",
   "execution_count": 90,
   "metadata": {},
   "outputs": [
    {
     "data": {
      "text/plain": [
       "246740"
      ]
     },
     "execution_count": 90,
     "metadata": {},
     "output_type": "execute_result"
    }
   ],
   "source": [
    "len(customer_profile)"
   ]
  },
  {
   "cell_type": "code",
   "execution_count": 91,
   "metadata": {},
   "outputs": [
    {
     "data": {
      "text/plain": [
       "0         False\n",
       "1         False\n",
       "2          True\n",
       "3          True\n",
       "4         False\n",
       "          ...  \n",
       "246735     True\n",
       "246736    False\n",
       "246737    False\n",
       "246738     True\n",
       "246739    False\n",
       "Length: 246740, dtype: bool"
      ]
     },
     "execution_count": 91,
     "metadata": {},
     "output_type": "execute_result"
    }
   ],
   "source": [
    "customer_profile.duplicated()"
   ]
  },
  {
   "cell_type": "code",
   "execution_count": 92,
   "metadata": {},
   "outputs": [
    {
     "data": {
      "text/plain": [
       "0         False\n",
       "1         False\n",
       "4         False\n",
       "5         False\n",
       "6         False\n",
       "          ...  \n",
       "246732    False\n",
       "246734    False\n",
       "246736    False\n",
       "246737    False\n",
       "246739    False\n",
       "Length: 71287, dtype: bool"
      ]
     },
     "execution_count": 92,
     "metadata": {},
     "output_type": "execute_result"
    }
   ],
   "source": [
    "# Drop transactions from the same customer\n",
    "\n",
    "customer_profile.drop_duplicates(keep = 'first', inplace = True)\n",
    "customer_profile.duplicated()"
   ]
  },
  {
   "cell_type": "code",
   "execution_count": 93,
   "metadata": {},
   "outputs": [
    {
     "data": {
      "text/html": [
       "<div>\n",
       "<style scoped>\n",
       "    .dataframe tbody tr th:only-of-type {\n",
       "        vertical-align: middle;\n",
       "    }\n",
       "\n",
       "    .dataframe tbody tr th {\n",
       "        vertical-align: top;\n",
       "    }\n",
       "\n",
       "    .dataframe thead th {\n",
       "        text-align: right;\n",
       "    }\n",
       "</style>\n",
       "<table border=\"1\" class=\"dataframe\">\n",
       "  <thead>\n",
       "    <tr style=\"text-align: right;\">\n",
       "      <th></th>\n",
       "      <th>Customer Number</th>\n",
       "      <th>Customer Segment</th>\n",
       "    </tr>\n",
       "  </thead>\n",
       "  <tbody>\n",
       "    <tr>\n",
       "      <th>0</th>\n",
       "      <td>1000</td>\n",
       "      <td>(Premium, YOUNG SINGLES/COUPLES)</td>\n",
       "    </tr>\n",
       "    <tr>\n",
       "      <th>1</th>\n",
       "      <td>1307</td>\n",
       "      <td>(Budget, MIDAGE SINGLES/COUPLES)</td>\n",
       "    </tr>\n",
       "    <tr>\n",
       "      <th>4</th>\n",
       "      <td>1343</td>\n",
       "      <td>(Budget, MIDAGE SINGLES/COUPLES)</td>\n",
       "    </tr>\n",
       "    <tr>\n",
       "      <th>5</th>\n",
       "      <td>2373</td>\n",
       "      <td>(Budget, MIDAGE SINGLES/COUPLES)</td>\n",
       "    </tr>\n",
       "    <tr>\n",
       "      <th>6</th>\n",
       "      <td>2426</td>\n",
       "      <td>(Budget, MIDAGE SINGLES/COUPLES)</td>\n",
       "    </tr>\n",
       "  </tbody>\n",
       "</table>\n",
       "</div>"
      ],
      "text/plain": [
       "   Customer Number                  Customer Segment\n",
       "0             1000  (Premium, YOUNG SINGLES/COUPLES)\n",
       "1             1307  (Budget, MIDAGE SINGLES/COUPLES)\n",
       "4             1343  (Budget, MIDAGE SINGLES/COUPLES)\n",
       "5             2373  (Budget, MIDAGE SINGLES/COUPLES)\n",
       "6             2426  (Budget, MIDAGE SINGLES/COUPLES)"
      ]
     },
     "execution_count": 93,
     "metadata": {},
     "output_type": "execute_result"
    }
   ],
   "source": [
    "customer_profile.head()"
   ]
  },
  {
   "cell_type": "code",
   "execution_count": 94,
   "metadata": {},
   "outputs": [
    {
     "data": {
      "text/plain": [
       "(Mainstream, YOUNG SINGLES/COUPLES)     7917\n",
       "(Mainstream, RETIREES)                  6358\n",
       "(Mainstream, OLDER SINGLES/COUPLES)     4858\n",
       "(Budget, OLDER SINGLES/COUPLES)         4849\n",
       "(Premium, OLDER SINGLES/COUPLES)        4682\n",
       "(Budget, OLDER FAMILIES)                4611\n",
       "(Budget, RETIREES)                      4385\n",
       "(Budget, YOUNG FAMILIES)                3953\n",
       "(Premium, RETIREES)                     3812\n",
       "(Budget, YOUNG SINGLES/COUPLES)         3647\n",
       "(Mainstream, MIDAGE SINGLES/COUPLES)    3298\n",
       "(Mainstream, OLDER FAMILIES)            2788\n",
       "(Mainstream, YOUNG FAMILIES)            2685\n",
       "(Premium, YOUNG SINGLES/COUPLES)        2480\n",
       "(Premium, YOUNG FAMILIES)               2398\n",
       "(Premium, MIDAGE SINGLES/COUPLES)       2369\n",
       "(Premium, OLDER FAMILIES)               2231\n",
       "(Budget, MIDAGE SINGLES/COUPLES)        1474\n",
       "(Budget, NEW FAMILIES)                  1087\n",
       "(Mainstream, NEW FAMILIES)               830\n",
       "(Premium, NEW FAMILIES)                  575\n",
       "Name: Customer Segment, dtype: int64"
      ]
     },
     "execution_count": 94,
     "metadata": {},
     "output_type": "execute_result"
    }
   ],
   "source": [
    "# Now group customers by 'Customer Segment'\n",
    "\n",
    "customer_profile['Customer Segment'].value_counts()"
   ]
  },
  {
   "cell_type": "code",
   "execution_count": 95,
   "metadata": {},
   "outputs": [
    {
     "data": {
      "text/plain": [
       "<matplotlib.axes._subplots.AxesSubplot at 0x159e2e5efc8>"
      ]
     },
     "execution_count": 95,
     "metadata": {},
     "output_type": "execute_result"
    },
    {
     "data": {
      "image/png": "[encoded data removed]",
      "text/plain": [
       "<Figure size 720x720 with 1 Axes>"
      ]
     },
     "metadata": {
      "needs_background": "light"
     },
     "output_type": "display_data"
    }
   ],
   "source": [
    "# Which segment has the most number of customers?\n",
    "\n",
    "customer_profile['Customer Segment'].value_counts().plot(kind = 'bar', figsize = (10, 10))"
   ]
  },
  {
   "cell_type": "code",
   "execution_count": 96,
   "metadata": {},
   "outputs": [],
   "source": [
    "# Recall our top 3 sales came from segments\n",
    "# 1. (Budget, OLDER FAMILIES)\n",
    "# 2. (Mainstream, YOUNG SINGLES/COUPLES)\n",
    "# 3. (Mainstream, RETIREES)\n",
    "\n",
    "# Comment: There are more (Mainstream, YOUNG SINGLES/COUPLES) and (Mainstream, RETIREES) who buy chips \n",
    "# This contributes to there being more sales in these segments\n",
    "# But this is not the main driver for (Budget, OLDER FAMILIES) segment"
   ]
  },
  {
   "cell_type": "code",
   "execution_count": 97,
   "metadata": {},
   "outputs": [
    {
     "data": {
      "text/html": [
       "<div>\n",
       "<style scoped>\n",
       "    .dataframe tbody tr th:only-of-type {\n",
       "        vertical-align: middle;\n",
       "    }\n",
       "\n",
       "    .dataframe tbody tr th {\n",
       "        vertical-align: top;\n",
       "    }\n",
       "\n",
       "    .dataframe thead th {\n",
       "        text-align: right;\n",
       "    }\n",
       "</style>\n",
       "<table border=\"1\" class=\"dataframe\">\n",
       "  <thead>\n",
       "    <tr style=\"text-align: right;\">\n",
       "      <th></th>\n",
       "      <th>DATE</th>\n",
       "      <th>STORE_NBR</th>\n",
       "      <th>LYLTY_CARD_NBR</th>\n",
       "      <th>TXN_ID</th>\n",
       "      <th>PROD_NBR</th>\n",
       "      <th>PROD_NAME</th>\n",
       "      <th>PROD_QTY</th>\n",
       "      <th>TOT_SALES</th>\n",
       "      <th>newdate</th>\n",
       "      <th>pack_size</th>\n",
       "      <th>brand</th>\n",
       "      <th>LIFESTAGE</th>\n",
       "      <th>PREMIUM_CUSTOMER</th>\n",
       "      <th>Customer Profile</th>\n",
       "      <th>Price per Unit</th>\n",
       "    </tr>\n",
       "  </thead>\n",
       "  <tbody>\n",
       "    <tr>\n",
       "      <th>0</th>\n",
       "      <td>43390</td>\n",
       "      <td>1</td>\n",
       "      <td>1000</td>\n",
       "      <td>1</td>\n",
       "      <td>5</td>\n",
       "      <td>natural chip        compny seasalt</td>\n",
       "      <td>2</td>\n",
       "      <td>6.0</td>\n",
       "      <td>2018-10-17</td>\n",
       "      <td>175</td>\n",
       "      <td>Natural</td>\n",
       "      <td>YOUNG SINGLES/COUPLES</td>\n",
       "      <td>Premium</td>\n",
       "      <td>(Premium, YOUNG SINGLES/COUPLES)</td>\n",
       "      <td>3.00</td>\n",
       "    </tr>\n",
       "    <tr>\n",
       "      <th>1</th>\n",
       "      <td>43599</td>\n",
       "      <td>1</td>\n",
       "      <td>1307</td>\n",
       "      <td>348</td>\n",
       "      <td>66</td>\n",
       "      <td>ccs nacho cheese</td>\n",
       "      <td>3</td>\n",
       "      <td>6.3</td>\n",
       "      <td>2019-05-14</td>\n",
       "      <td>175</td>\n",
       "      <td>CCs</td>\n",
       "      <td>MIDAGE SINGLES/COUPLES</td>\n",
       "      <td>Budget</td>\n",
       "      <td>(Budget, MIDAGE SINGLES/COUPLES)</td>\n",
       "      <td>2.10</td>\n",
       "    </tr>\n",
       "    <tr>\n",
       "      <th>2</th>\n",
       "      <td>43414</td>\n",
       "      <td>1</td>\n",
       "      <td>1307</td>\n",
       "      <td>346</td>\n",
       "      <td>96</td>\n",
       "      <td>ww original stacked chips</td>\n",
       "      <td>2</td>\n",
       "      <td>3.8</td>\n",
       "      <td>2018-11-10</td>\n",
       "      <td>160</td>\n",
       "      <td>Woolworths</td>\n",
       "      <td>MIDAGE SINGLES/COUPLES</td>\n",
       "      <td>Budget</td>\n",
       "      <td>(Budget, MIDAGE SINGLES/COUPLES)</td>\n",
       "      <td>1.90</td>\n",
       "    </tr>\n",
       "    <tr>\n",
       "      <th>3</th>\n",
       "      <td>43533</td>\n",
       "      <td>1</td>\n",
       "      <td>1307</td>\n",
       "      <td>347</td>\n",
       "      <td>54</td>\n",
       "      <td>ccs original</td>\n",
       "      <td>1</td>\n",
       "      <td>2.1</td>\n",
       "      <td>2019-03-09</td>\n",
       "      <td>175</td>\n",
       "      <td>CCs</td>\n",
       "      <td>MIDAGE SINGLES/COUPLES</td>\n",
       "      <td>Budget</td>\n",
       "      <td>(Budget, MIDAGE SINGLES/COUPLES)</td>\n",
       "      <td>2.10</td>\n",
       "    </tr>\n",
       "    <tr>\n",
       "      <th>4</th>\n",
       "      <td>43605</td>\n",
       "      <td>1</td>\n",
       "      <td>1343</td>\n",
       "      <td>383</td>\n",
       "      <td>61</td>\n",
       "      <td>smiths crinkle cut  chips chicken</td>\n",
       "      <td>2</td>\n",
       "      <td>2.9</td>\n",
       "      <td>2019-05-20</td>\n",
       "      <td>170</td>\n",
       "      <td>Smiths</td>\n",
       "      <td>MIDAGE SINGLES/COUPLES</td>\n",
       "      <td>Budget</td>\n",
       "      <td>(Budget, MIDAGE SINGLES/COUPLES)</td>\n",
       "      <td>1.45</td>\n",
       "    </tr>\n",
       "  </tbody>\n",
       "</table>\n",
       "</div>"
      ],
      "text/plain": [
       "    DATE  STORE_NBR  LYLTY_CARD_NBR  TXN_ID  PROD_NBR  \\\n",
       "0  43390          1            1000       1         5   \n",
       "1  43599          1            1307     348        66   \n",
       "2  43414          1            1307     346        96   \n",
       "3  43533          1            1307     347        54   \n",
       "4  43605          1            1343     383        61   \n",
       "\n",
       "                             PROD_NAME  PROD_QTY  TOT_SALES    newdate  \\\n",
       "0  natural chip        compny seasalt          2        6.0 2018-10-17   \n",
       "1                ccs nacho cheese              3        6.3 2019-05-14   \n",
       "2          ww original stacked chips           2        3.8 2018-11-10   \n",
       "3                       ccs original           1        2.1 2019-03-09   \n",
       "4  smiths crinkle cut  chips chicken           2        2.9 2019-05-20   \n",
       "\n",
       "   pack_size       brand               LIFESTAGE PREMIUM_CUSTOMER  \\\n",
       "0        175     Natural   YOUNG SINGLES/COUPLES          Premium   \n",
       "1        175         CCs  MIDAGE SINGLES/COUPLES           Budget   \n",
       "2        160  Woolworths  MIDAGE SINGLES/COUPLES           Budget   \n",
       "3        175         CCs  MIDAGE SINGLES/COUPLES           Budget   \n",
       "4        170      Smiths  MIDAGE SINGLES/COUPLES           Budget   \n",
       "\n",
       "                   Customer Profile  Price per Unit  \n",
       "0  (Premium, YOUNG SINGLES/COUPLES)            3.00  \n",
       "1  (Budget, MIDAGE SINGLES/COUPLES)            2.10  \n",
       "2  (Budget, MIDAGE SINGLES/COUPLES)            1.90  \n",
       "3  (Budget, MIDAGE SINGLES/COUPLES)            2.10  \n",
       "4  (Budget, MIDAGE SINGLES/COUPLES)            1.45  "
      ]
     },
     "execution_count": 97,
     "metadata": {},
     "output_type": "execute_result"
    }
   ],
   "source": [
    "# Higher sales may also be driven by more units of chips being bought per customer\n",
    "# Let's calculate the average number of units in each customer segment\n",
    "# Create two new features 'Customer Profile' and 'Price per Unit'\n",
    "\n",
    "combineData['Customer Profile'] = customer_segment\n",
    "combineData['Price per Unit'] = combineData['TOT_SALES']/combineData['PROD_QTY']\n",
    "combineData.head()"
   ]
  },
  {
   "cell_type": "code",
   "execution_count": 98,
   "metadata": {},
   "outputs": [
    {
     "data": {
      "text/plain": [
       "Customer Profile\n",
       "(Mainstream, YOUNG SINGLES/COUPLES)     4.065642\n",
       "(Mainstream, MIDAGE SINGLES/COUPLES)    3.994241\n",
       "(Budget, RETIREES)                      3.924404\n",
       "(Premium, RETIREES)                     3.920942\n",
       "(Budget, NEW FAMILIES)                  3.917688\n",
       "(Mainstream, NEW FAMILIES)              3.916133\n",
       "(Premium, OLDER SINGLES/COUPLES)        3.893182\n",
       "(Budget, OLDER SINGLES/COUPLES)         3.882096\n",
       "(Premium, NEW FAMILIES)                 3.872110\n",
       "(Mainstream, RETIREES)                  3.844294\n",
       "(Mainstream, OLDER SINGLES/COUPLES)     3.814665\n",
       "(Premium, MIDAGE SINGLES/COUPLES)       3.770698\n",
       "(Premium, YOUNG FAMILIES)               3.762150\n",
       "(Budget, YOUNG FAMILIES)                3.760737\n",
       "(Budget, OLDER FAMILIES)                3.745340\n",
       "(Budget, MIDAGE SINGLES/COUPLES)        3.743328\n",
       "(Mainstream, OLDER FAMILIES)            3.737077\n",
       "(Mainstream, YOUNG FAMILIES)            3.724533\n",
       "(Premium, OLDER FAMILIES)               3.717000\n",
       "(Premium, YOUNG SINGLES/COUPLES)        3.665414\n",
       "(Budget, YOUNG SINGLES/COUPLES)         3.657366\n",
       "Name: Price per Unit, dtype: float64"
      ]
     },
     "execution_count": 98,
     "metadata": {},
     "output_type": "execute_result"
    }
   ],
   "source": [
    "combineData.groupby('Customer Profile')['Price per Unit'].mean().sort_values(ascending = False)\n",
    "\n",
    "# Comment: Mainstream midage and mainstream young singles and couples are more wiling to pay more per packet of chips compared to their budget and premium counterparts\n",
    "# This may be due to premium shoppers being more likely to buy healthy snacks\n",
    "# This statement is supported by there being fewer premium midage and young singles and couples buying chips compared to their mainstream counterparts"
   ]
  },
  {
   "cell_type": "code",
   "execution_count": 99,
   "metadata": {},
   "outputs": [],
   "source": [
    "# As this difference in average price per unit is not too large \n",
    "# Let's test for statistical significance using the t-test between mainstream vs premium for\n",
    "# 1. Midage singles/couples\n",
    "# 2. Young singles/couples\n",
    "\n",
    "mainstream_midage = combineData.loc[combineData['Customer Profile'] == '(Mainstream, MIDAGE SINGLES/COUPLES)', 'Price per Unit']\n",
    "premium_budget_midage = combineData.loc[(combineData['Customer Profile'] == '(Premium, MIDAGE SINGLES/COUPLES)') | (combineData['Customer Profile'] == '(Budget, MIDAGE SINGLES/COUPLES)'), 'Price per Unit']"
   ]
  },
  {
   "cell_type": "code",
   "execution_count": 100,
   "metadata": {},
   "outputs": [
    {
     "data": {
      "image/png": "[encoded data removed]",
      "text/plain": [
       "<Figure size 1080x360 with 1 Axes>"
      ]
     },
     "metadata": {
      "needs_background": "light"
     },
     "output_type": "display_data"
    }
   ],
   "source": [
    "plt.figure(figsize = (15, 5))\n",
    "sns.distplot(mainstream_midage, hist = False, label = 'Mainstream Midage')\n",
    "sns.distplot(premium_budget_midage, hist = False, label = 'Premium & Budget Midage')\n",
    "plt.show()"
   ]
  },
  {
   "cell_type": "code",
   "execution_count": 101,
   "metadata": {},
   "outputs": [
    {
     "data": {
      "text/plain": [
       "Ttest_indResult(statistic=16.81498310271437, pvalue=4.449929958809599e-63)"
      ]
     },
     "execution_count": 101,
     "metadata": {},
     "output_type": "execute_result"
    }
   ],
   "source": [
    "# Perform unpaired two-sample t-test on midage segment\n",
    "\n",
    "ttest_ind(mainstream_midage, premium_budget_midage)\n",
    "\n",
    "# Since the p-value is less than 0.05, we would reject the null hypothesis and conclude that there is statistically significant difference between the two samples"
   ]
  },
  {
   "cell_type": "code",
   "execution_count": 102,
   "metadata": {},
   "outputs": [],
   "source": [
    "# Let's move on to compare young singles and couple under mainstream vs premium and budget\n",
    "\n",
    "mainstream_young = combineData.loc[combineData['Customer Profile'] == '(Mainstream, YOUNG SINGLES/COUPLES)', 'Price per Unit']\n",
    "premium_budget_young = combineData.loc[(combineData['Customer Profile'] == '(Premium, YOUNG SINGLES/COUPLES)') | (combineData['Customer Profile'] == '(Budget, YOUNG SINGLES/COUPLES)'), 'Price per Unit']"
   ]
  },
  {
   "cell_type": "code",
   "execution_count": 103,
   "metadata": {},
   "outputs": [
    {
     "data": {
      "image/png": "[encoded data removed]",
      "text/plain": [
       "<Figure size 1080x360 with 1 Axes>"
      ]
     },
     "metadata": {
      "needs_background": "light"
     },
     "output_type": "display_data"
    }
   ],
   "source": [
    "plt.figure(figsize = (15, 5))\n",
    "sns.distplot(mainstream_young, hist = False, label = 'Mainstream Young')\n",
    "sns.distplot(premium_budget_young, hist = False, label = 'Premium & Budget Young')\n",
    "plt.show()"
   ]
  },
  {
   "cell_type": "code",
   "execution_count": 104,
   "metadata": {},
   "outputs": [
    {
     "data": {
      "text/plain": [
       "Ttest_indResult(statistic=35.33923272407983, pvalue=1.0984949314590198e-268)"
      ]
     },
     "execution_count": 104,
     "metadata": {},
     "output_type": "execute_result"
    }
   ],
   "source": [
    "# Perform unpaired two-sample t-test on young segment\n",
    "\n",
    "ttest_ind(mainstream_young, premium_budget_young)\n",
    "\n",
    "# Comment: P-value also less than 0.05 so reject null hypothesis and confirm that there is statistically significant difference between the two samples"
   ]
  },
  {
   "cell_type": "code",
   "execution_count": 105,
   "metadata": {},
   "outputs": [
    {
     "data": {
      "text/html": [
       "<div>\n",
       "<style scoped>\n",
       "    .dataframe tbody tr th:only-of-type {\n",
       "        vertical-align: middle;\n",
       "    }\n",
       "\n",
       "    .dataframe tbody tr th {\n",
       "        vertical-align: top;\n",
       "    }\n",
       "\n",
       "    .dataframe thead th {\n",
       "        text-align: right;\n",
       "    }\n",
       "</style>\n",
       "<table border=\"1\" class=\"dataframe\">\n",
       "  <thead>\n",
       "    <tr style=\"text-align: right;\">\n",
       "      <th></th>\n",
       "      <th>brand</th>\n",
       "      <th>TOT_SALES</th>\n",
       "      <th>pack_size</th>\n",
       "    </tr>\n",
       "  </thead>\n",
       "  <tbody>\n",
       "    <tr>\n",
       "      <th>221345</th>\n",
       "      <td>Smiths</td>\n",
       "      <td>2.6</td>\n",
       "      <td>150</td>\n",
       "    </tr>\n",
       "    <tr>\n",
       "      <th>221346</th>\n",
       "      <td>Smiths</td>\n",
       "      <td>5.7</td>\n",
       "      <td>330</td>\n",
       "    </tr>\n",
       "    <tr>\n",
       "      <th>221347</th>\n",
       "      <td>Natural</td>\n",
       "      <td>3.1</td>\n",
       "      <td>180</td>\n",
       "    </tr>\n",
       "    <tr>\n",
       "      <th>221348</th>\n",
       "      <td>Kettle</td>\n",
       "      <td>5.4</td>\n",
       "      <td>175</td>\n",
       "    </tr>\n",
       "    <tr>\n",
       "      <th>221349</th>\n",
       "      <td>Natural</td>\n",
       "      <td>3.0</td>\n",
       "      <td>175</td>\n",
       "    </tr>\n",
       "  </tbody>\n",
       "</table>\n",
       "</div>"
      ],
      "text/plain": [
       "          brand  TOT_SALES  pack_size\n",
       "221345   Smiths        2.6        150\n",
       "221346   Smiths        5.7        330\n",
       "221347  Natural        3.1        180\n",
       "221348   Kettle        5.4        175\n",
       "221349  Natural        3.0        175"
      ]
     },
     "execution_count": 105,
     "metadata": {},
     "output_type": "execute_result"
    }
   ],
   "source": [
    "# Deep dive into specific customer segment for insights\n",
    "# We have found quite a few interesting insights that we can dive deeper into \n",
    "# For example, we might want to target customers segments that contribute the most to sales to retain them to further increase sales\n",
    "# Let's examine mainstream young singles/couples against the rest of the cutomer segments to see if they prefer any particular brand of chips\n",
    "\n",
    "target_segment = combineData.loc[combineData['Customer Profile'] == '(Mainstream, YOUNG SINGLES/COUPLES)', ['brand', 'TOT_SALES', 'pack_size']]\n",
    "target_segment.head()"
   ]
  },
  {
   "cell_type": "code",
   "execution_count": 106,
   "metadata": {},
   "outputs": [
    {
     "data": {
      "text/html": [
       "<div>\n",
       "<style scoped>\n",
       "    .dataframe tbody tr th:only-of-type {\n",
       "        vertical-align: middle;\n",
       "    }\n",
       "\n",
       "    .dataframe tbody tr th {\n",
       "        vertical-align: top;\n",
       "    }\n",
       "\n",
       "    .dataframe thead th {\n",
       "        text-align: right;\n",
       "    }\n",
       "</style>\n",
       "<table border=\"1\" class=\"dataframe\">\n",
       "  <thead>\n",
       "    <tr style=\"text-align: right;\">\n",
       "      <th></th>\n",
       "      <th>brand</th>\n",
       "      <th>TOT_SALES</th>\n",
       "      <th>pack_size</th>\n",
       "    </tr>\n",
       "  </thead>\n",
       "  <tbody>\n",
       "    <tr>\n",
       "      <th>0</th>\n",
       "      <td>Natural</td>\n",
       "      <td>6.0</td>\n",
       "      <td>175</td>\n",
       "    </tr>\n",
       "    <tr>\n",
       "      <th>1</th>\n",
       "      <td>CCs</td>\n",
       "      <td>6.3</td>\n",
       "      <td>175</td>\n",
       "    </tr>\n",
       "    <tr>\n",
       "      <th>2</th>\n",
       "      <td>Woolworths</td>\n",
       "      <td>3.8</td>\n",
       "      <td>160</td>\n",
       "    </tr>\n",
       "    <tr>\n",
       "      <th>3</th>\n",
       "      <td>CCs</td>\n",
       "      <td>2.1</td>\n",
       "      <td>175</td>\n",
       "    </tr>\n",
       "    <tr>\n",
       "      <th>4</th>\n",
       "      <td>Smiths</td>\n",
       "      <td>2.9</td>\n",
       "      <td>170</td>\n",
       "    </tr>\n",
       "  </tbody>\n",
       "</table>\n",
       "</div>"
      ],
      "text/plain": [
       "        brand  TOT_SALES  pack_size\n",
       "0     Natural        6.0        175\n",
       "1         CCs        6.3        175\n",
       "2  Woolworths        3.8        160\n",
       "3         CCs        2.1        175\n",
       "4      Smiths        2.9        170"
      ]
     },
     "execution_count": 106,
     "metadata": {},
     "output_type": "execute_result"
    }
   ],
   "source": [
    "other_segments = combineData.loc[combineData['Customer Profile'] != '(Mainstream, YOUNG SINGLES/COUPLES)', ['brand', 'TOT_SALES', 'pack_size']]\n",
    "other_segments.head()"
   ]
  },
  {
   "cell_type": "code",
   "execution_count": 107,
   "metadata": {},
   "outputs": [
    {
     "data": {
      "text/html": [
       "<div>\n",
       "<style scoped>\n",
       "    .dataframe tbody tr th:only-of-type {\n",
       "        vertical-align: middle;\n",
       "    }\n",
       "\n",
       "    .dataframe tbody tr th {\n",
       "        vertical-align: top;\n",
       "    }\n",
       "\n",
       "    .dataframe thead th {\n",
       "        text-align: right;\n",
       "    }\n",
       "</style>\n",
       "<table border=\"1\" class=\"dataframe\">\n",
       "  <thead>\n",
       "    <tr style=\"text-align: right;\">\n",
       "      <th></th>\n",
       "      <th>Annual Sales (Target Segment)</th>\n",
       "      <th>Percentage of Sales (Target Segment)</th>\n",
       "    </tr>\n",
       "    <tr>\n",
       "      <th>Brand</th>\n",
       "      <th></th>\n",
       "      <th></th>\n",
       "    </tr>\n",
       "  </thead>\n",
       "  <tbody>\n",
       "    <tr>\n",
       "      <th>Burger Rings</th>\n",
       "      <td>243.8</td>\n",
       "      <td>0.001652</td>\n",
       "    </tr>\n",
       "    <tr>\n",
       "      <th>CCs</th>\n",
       "      <td>850.5</td>\n",
       "      <td>0.005763</td>\n",
       "    </tr>\n",
       "    <tr>\n",
       "      <th>Cheetos</th>\n",
       "      <td>898.8</td>\n",
       "      <td>0.006090</td>\n",
       "    </tr>\n",
       "    <tr>\n",
       "      <th>Cheezels</th>\n",
       "      <td>3318.3</td>\n",
       "      <td>0.022484</td>\n",
       "    </tr>\n",
       "    <tr>\n",
       "      <th>Cobs</th>\n",
       "      <td>6144.6</td>\n",
       "      <td>0.041635</td>\n",
       "    </tr>\n",
       "    <tr>\n",
       "      <th>Doritos</th>\n",
       "      <td>20925.9</td>\n",
       "      <td>0.141791</td>\n",
       "    </tr>\n",
       "    <tr>\n",
       "      <th>French Fries</th>\n",
       "      <td>429.0</td>\n",
       "      <td>0.002907</td>\n",
       "    </tr>\n",
       "    <tr>\n",
       "      <th>Infuzions</th>\n",
       "      <td>8749.4</td>\n",
       "      <td>0.059285</td>\n",
       "    </tr>\n",
       "    <tr>\n",
       "      <th>Kettle</th>\n",
       "      <td>35423.6</td>\n",
       "      <td>0.240026</td>\n",
       "    </tr>\n",
       "    <tr>\n",
       "      <th>Natural</th>\n",
       "      <td>6331.0</td>\n",
       "      <td>0.042898</td>\n",
       "    </tr>\n",
       "    <tr>\n",
       "      <th>Pringles</th>\n",
       "      <td>16006.2</td>\n",
       "      <td>0.108456</td>\n",
       "    </tr>\n",
       "    <tr>\n",
       "      <th>Red Rock Deli</th>\n",
       "      <td>4509.9</td>\n",
       "      <td>0.030559</td>\n",
       "    </tr>\n",
       "    <tr>\n",
       "      <th>Smiths</th>\n",
       "      <td>14958.9</td>\n",
       "      <td>0.101360</td>\n",
       "    </tr>\n",
       "    <tr>\n",
       "      <th>Sunbites</th>\n",
       "      <td>391.0</td>\n",
       "      <td>0.002649</td>\n",
       "    </tr>\n",
       "    <tr>\n",
       "      <th>Thins</th>\n",
       "      <td>7217.1</td>\n",
       "      <td>0.048902</td>\n",
       "    </tr>\n",
       "    <tr>\n",
       "      <th>Tostitos</th>\n",
       "      <td>7238.0</td>\n",
       "      <td>0.049044</td>\n",
       "    </tr>\n",
       "    <tr>\n",
       "      <th>Twisties</th>\n",
       "      <td>7539.8</td>\n",
       "      <td>0.051089</td>\n",
       "    </tr>\n",
       "    <tr>\n",
       "      <th>Tyrrells</th>\n",
       "      <td>4800.6</td>\n",
       "      <td>0.032528</td>\n",
       "    </tr>\n",
       "    <tr>\n",
       "      <th>Woolworths</th>\n",
       "      <td>1605.8</td>\n",
       "      <td>0.010881</td>\n",
       "    </tr>\n",
       "  </tbody>\n",
       "</table>\n",
       "</div>"
      ],
      "text/plain": [
       "               Annual Sales (Target Segment)  \\\n",
       "Brand                                          \n",
       "Burger Rings                           243.8   \n",
       "CCs                                    850.5   \n",
       "Cheetos                                898.8   \n",
       "Cheezels                              3318.3   \n",
       "Cobs                                  6144.6   \n",
       "Doritos                              20925.9   \n",
       "French Fries                           429.0   \n",
       "Infuzions                             8749.4   \n",
       "Kettle                               35423.6   \n",
       "Natural                               6331.0   \n",
       "Pringles                             16006.2   \n",
       "Red Rock Deli                         4509.9   \n",
       "Smiths                               14958.9   \n",
       "Sunbites                               391.0   \n",
       "Thins                                 7217.1   \n",
       "Tostitos                              7238.0   \n",
       "Twisties                              7539.8   \n",
       "Tyrrells                              4800.6   \n",
       "Woolworths                            1605.8   \n",
       "\n",
       "               Percentage of Sales (Target Segment)  \n",
       "Brand                                                \n",
       "Burger Rings                               0.001652  \n",
       "CCs                                        0.005763  \n",
       "Cheetos                                    0.006090  \n",
       "Cheezels                                   0.022484  \n",
       "Cobs                                       0.041635  \n",
       "Doritos                                    0.141791  \n",
       "French Fries                               0.002907  \n",
       "Infuzions                                  0.059285  \n",
       "Kettle                                     0.240026  \n",
       "Natural                                    0.042898  \n",
       "Pringles                                   0.108456  \n",
       "Red Rock Deli                              0.030559  \n",
       "Smiths                                     0.101360  \n",
       "Sunbites                                   0.002649  \n",
       "Thins                                      0.048902  \n",
       "Tostitos                                   0.049044  \n",
       "Twisties                                   0.051089  \n",
       "Tyrrells                                   0.032528  \n",
       "Woolworths                                 0.010881  "
      ]
     },
     "execution_count": 107,
     "metadata": {},
     "output_type": "execute_result"
    }
   ],
   "source": [
    "# Create dataframe which categorises sales by brand for (Mainstream, YOUNG SINGLES/COUPLES)segment\n",
    "\n",
    "brand_target_segment = pd.DataFrame(target_segment.groupby('brand').TOT_SALES.sum())\n",
    "brand_target_segment.index.rename('Brand', inplace = True)\n",
    "brand_target_segment.rename(columns = {'TOT_SALES': 'Annual Sales (Target Segment)'}, inplace = True)\n",
    "target_total_sale = brand_target_segment['Annual Sales (Target Segment)'].sum() # Total annual sale\n",
    "brand_target_segment['Percentage of Sales (Target Segment)'] = brand_target_segment['Annual Sales (Target Segment)']/target_total_sale\n",
    "brand_target_segment"
   ]
  },
  {
   "cell_type": "code",
   "execution_count": 108,
   "metadata": {},
   "outputs": [
    {
     "data": {
      "text/html": [
       "<div>\n",
       "<style scoped>\n",
       "    .dataframe tbody tr th:only-of-type {\n",
       "        vertical-align: middle;\n",
       "    }\n",
       "\n",
       "    .dataframe tbody tr th {\n",
       "        vertical-align: top;\n",
       "    }\n",
       "\n",
       "    .dataframe thead th {\n",
       "        text-align: right;\n",
       "    }\n",
       "</style>\n",
       "<table border=\"1\" class=\"dataframe\">\n",
       "  <thead>\n",
       "    <tr style=\"text-align: right;\">\n",
       "      <th></th>\n",
       "      <th>Number of Transactions (Target Segment)</th>\n",
       "      <th>Percentage of Transactions (Target Segment)</th>\n",
       "    </tr>\n",
       "    <tr>\n",
       "      <th>Pack Size</th>\n",
       "      <th></th>\n",
       "      <th></th>\n",
       "    </tr>\n",
       "  </thead>\n",
       "  <tbody>\n",
       "    <tr>\n",
       "      <th>70</th>\n",
       "      <td>63</td>\n",
       "      <td>0.003223</td>\n",
       "    </tr>\n",
       "    <tr>\n",
       "      <th>90</th>\n",
       "      <td>128</td>\n",
       "      <td>0.006549</td>\n",
       "    </tr>\n",
       "    <tr>\n",
       "      <th>110</th>\n",
       "      <td>2051</td>\n",
       "      <td>0.104943</td>\n",
       "    </tr>\n",
       "    <tr>\n",
       "      <th>125</th>\n",
       "      <td>59</td>\n",
       "      <td>0.003019</td>\n",
       "    </tr>\n",
       "    <tr>\n",
       "      <th>134</th>\n",
       "      <td>2315</td>\n",
       "      <td>0.118451</td>\n",
       "    </tr>\n",
       "    <tr>\n",
       "      <th>135</th>\n",
       "      <td>290</td>\n",
       "      <td>0.014838</td>\n",
       "    </tr>\n",
       "    <tr>\n",
       "      <th>150</th>\n",
       "      <td>3080</td>\n",
       "      <td>0.157593</td>\n",
       "    </tr>\n",
       "    <tr>\n",
       "      <th>160</th>\n",
       "      <td>128</td>\n",
       "      <td>0.006549</td>\n",
       "    </tr>\n",
       "    <tr>\n",
       "      <th>165</th>\n",
       "      <td>1102</td>\n",
       "      <td>0.056386</td>\n",
       "    </tr>\n",
       "    <tr>\n",
       "      <th>170</th>\n",
       "      <td>1575</td>\n",
       "      <td>0.080587</td>\n",
       "    </tr>\n",
       "    <tr>\n",
       "      <th>175</th>\n",
       "      <td>4997</td>\n",
       "      <td>0.255679</td>\n",
       "    </tr>\n",
       "    <tr>\n",
       "      <th>180</th>\n",
       "      <td>70</td>\n",
       "      <td>0.003582</td>\n",
       "    </tr>\n",
       "    <tr>\n",
       "      <th>190</th>\n",
       "      <td>148</td>\n",
       "      <td>0.007573</td>\n",
       "    </tr>\n",
       "    <tr>\n",
       "      <th>200</th>\n",
       "      <td>179</td>\n",
       "      <td>0.009159</td>\n",
       "    </tr>\n",
       "    <tr>\n",
       "      <th>210</th>\n",
       "      <td>576</td>\n",
       "      <td>0.029472</td>\n",
       "    </tr>\n",
       "    <tr>\n",
       "      <th>220</th>\n",
       "      <td>62</td>\n",
       "      <td>0.003172</td>\n",
       "    </tr>\n",
       "    <tr>\n",
       "      <th>250</th>\n",
       "      <td>280</td>\n",
       "      <td>0.014327</td>\n",
       "    </tr>\n",
       "    <tr>\n",
       "      <th>270</th>\n",
       "      <td>620</td>\n",
       "      <td>0.031723</td>\n",
       "    </tr>\n",
       "    <tr>\n",
       "      <th>330</th>\n",
       "      <td>1195</td>\n",
       "      <td>0.061144</td>\n",
       "    </tr>\n",
       "    <tr>\n",
       "      <th>380</th>\n",
       "      <td>626</td>\n",
       "      <td>0.032030</td>\n",
       "    </tr>\n",
       "  </tbody>\n",
       "</table>\n",
       "</div>"
      ],
      "text/plain": [
       "           Number of Transactions (Target Segment)  \\\n",
       "Pack Size                                            \n",
       "70                                              63   \n",
       "90                                             128   \n",
       "110                                           2051   \n",
       "125                                             59   \n",
       "134                                           2315   \n",
       "135                                            290   \n",
       "150                                           3080   \n",
       "160                                            128   \n",
       "165                                           1102   \n",
       "170                                           1575   \n",
       "175                                           4997   \n",
       "180                                             70   \n",
       "190                                            148   \n",
       "200                                            179   \n",
       "210                                            576   \n",
       "220                                             62   \n",
       "250                                            280   \n",
       "270                                            620   \n",
       "330                                           1195   \n",
       "380                                            626   \n",
       "\n",
       "           Percentage of Transactions (Target Segment)  \n",
       "Pack Size                                               \n",
       "70                                            0.003223  \n",
       "90                                            0.006549  \n",
       "110                                           0.104943  \n",
       "125                                           0.003019  \n",
       "134                                           0.118451  \n",
       "135                                           0.014838  \n",
       "150                                           0.157593  \n",
       "160                                           0.006549  \n",
       "165                                           0.056386  \n",
       "170                                           0.080587  \n",
       "175                                           0.255679  \n",
       "180                                           0.003582  \n",
       "190                                           0.007573  \n",
       "200                                           0.009159  \n",
       "210                                           0.029472  \n",
       "220                                           0.003172  \n",
       "250                                           0.014327  \n",
       "270                                           0.031723  \n",
       "330                                           0.061144  \n",
       "380                                           0.032030  "
      ]
     },
     "execution_count": 108,
     "metadata": {},
     "output_type": "execute_result"
    }
   ],
   "source": [
    "# Create dataframe which counts the number of transactions by 'pack_size' for mainstrema young singles/couples segment\n",
    "\n",
    "packsize_target_segment = pd.DataFrame(target_segment.groupby('pack_size').TOT_SALES.count())\n",
    "packsize_target_segment.index.rename('Pack Size', inplace = True)\n",
    "packsize_target_segment.rename(columns = {'TOT_SALES': 'Number of Transactions (Target Segment)'}, inplace = True)\n",
    "packsize_target_segment['Percentage of Transactions (Target Segment)'] = packsize_target_segment['Number of Transactions (Target Segment)']/len(target_segment)\n",
    "packsize_target_segment"
   ]
  },
  {
   "cell_type": "code",
   "execution_count": 109,
   "metadata": {},
   "outputs": [
    {
     "data": {
      "text/html": [
       "<div>\n",
       "<style scoped>\n",
       "    .dataframe tbody tr th:only-of-type {\n",
       "        vertical-align: middle;\n",
       "    }\n",
       "\n",
       "    .dataframe tbody tr th {\n",
       "        vertical-align: top;\n",
       "    }\n",
       "\n",
       "    .dataframe thead th {\n",
       "        text-align: right;\n",
       "    }\n",
       "</style>\n",
       "<table border=\"1\" class=\"dataframe\">\n",
       "  <thead>\n",
       "    <tr style=\"text-align: right;\">\n",
       "      <th></th>\n",
       "      <th>Annual Sales (Other Segments)</th>\n",
       "      <th>Percentage of Sales (Other Segments)</th>\n",
       "    </tr>\n",
       "    <tr>\n",
       "      <th>Brand</th>\n",
       "      <th></th>\n",
       "      <th></th>\n",
       "    </tr>\n",
       "  </thead>\n",
       "  <tbody>\n",
       "    <tr>\n",
       "      <th>Burger Rings</th>\n",
       "      <td>6587.2</td>\n",
       "      <td>0.003974</td>\n",
       "    </tr>\n",
       "    <tr>\n",
       "      <th>CCs</th>\n",
       "      <td>17228.4</td>\n",
       "      <td>0.010394</td>\n",
       "    </tr>\n",
       "    <tr>\n",
       "      <th>Cheetos</th>\n",
       "      <td>15985.7</td>\n",
       "      <td>0.009644</td>\n",
       "    </tr>\n",
       "    <tr>\n",
       "      <th>Cheezels</th>\n",
       "      <td>36711.6</td>\n",
       "      <td>0.022148</td>\n",
       "    </tr>\n",
       "    <tr>\n",
       "      <th>Cobs</th>\n",
       "      <td>64425.2</td>\n",
       "      <td>0.038867</td>\n",
       "    </tr>\n",
       "    <tr>\n",
       "      <th>Doritos</th>\n",
       "      <td>205404.0</td>\n",
       "      <td>0.123917</td>\n",
       "    </tr>\n",
       "    <tr>\n",
       "      <th>French Fries</th>\n",
       "      <td>7500.0</td>\n",
       "      <td>0.004525</td>\n",
       "    </tr>\n",
       "    <tr>\n",
       "      <th>Infuzions</th>\n",
       "      <td>90298.2</td>\n",
       "      <td>0.054475</td>\n",
       "    </tr>\n",
       "    <tr>\n",
       "      <th>Kettle</th>\n",
       "      <td>354816.2</td>\n",
       "      <td>0.214055</td>\n",
       "    </tr>\n",
       "    <tr>\n",
       "      <th>Natural</th>\n",
       "      <td>87604.2</td>\n",
       "      <td>0.052850</td>\n",
       "    </tr>\n",
       "    <tr>\n",
       "      <th>Pringles</th>\n",
       "      <td>161649.3</td>\n",
       "      <td>0.097520</td>\n",
       "    </tr>\n",
       "    <tr>\n",
       "      <th>Red Rock Deli</th>\n",
       "      <td>83097.6</td>\n",
       "      <td>0.050131</td>\n",
       "    </tr>\n",
       "    <tr>\n",
       "      <th>Smiths</th>\n",
       "      <td>202533.1</td>\n",
       "      <td>0.122185</td>\n",
       "    </tr>\n",
       "    <tr>\n",
       "      <th>Sunbites</th>\n",
       "      <td>9285.4</td>\n",
       "      <td>0.005602</td>\n",
       "    </tr>\n",
       "    <tr>\n",
       "      <th>Thins</th>\n",
       "      <td>81635.4</td>\n",
       "      <td>0.049249</td>\n",
       "    </tr>\n",
       "    <tr>\n",
       "      <th>Tostitos</th>\n",
       "      <td>72551.6</td>\n",
       "      <td>0.043769</td>\n",
       "    </tr>\n",
       "    <tr>\n",
       "      <th>Twisties</th>\n",
       "      <td>73982.3</td>\n",
       "      <td>0.044632</td>\n",
       "    </tr>\n",
       "    <tr>\n",
       "      <th>Tyrrells</th>\n",
       "      <td>46846.8</td>\n",
       "      <td>0.028262</td>\n",
       "    </tr>\n",
       "    <tr>\n",
       "      <th>Woolworths</th>\n",
       "      <td>39453.3</td>\n",
       "      <td>0.023802</td>\n",
       "    </tr>\n",
       "  </tbody>\n",
       "</table>\n",
       "</div>"
      ],
      "text/plain": [
       "               Annual Sales (Other Segments)  \\\n",
       "Brand                                          \n",
       "Burger Rings                          6587.2   \n",
       "CCs                                  17228.4   \n",
       "Cheetos                              15985.7   \n",
       "Cheezels                             36711.6   \n",
       "Cobs                                 64425.2   \n",
       "Doritos                             205404.0   \n",
       "French Fries                          7500.0   \n",
       "Infuzions                            90298.2   \n",
       "Kettle                              354816.2   \n",
       "Natural                              87604.2   \n",
       "Pringles                            161649.3   \n",
       "Red Rock Deli                        83097.6   \n",
       "Smiths                              202533.1   \n",
       "Sunbites                              9285.4   \n",
       "Thins                                81635.4   \n",
       "Tostitos                             72551.6   \n",
       "Twisties                             73982.3   \n",
       "Tyrrells                             46846.8   \n",
       "Woolworths                           39453.3   \n",
       "\n",
       "               Percentage of Sales (Other Segments)  \n",
       "Brand                                                \n",
       "Burger Rings                               0.003974  \n",
       "CCs                                        0.010394  \n",
       "Cheetos                                    0.009644  \n",
       "Cheezels                                   0.022148  \n",
       "Cobs                                       0.038867  \n",
       "Doritos                                    0.123917  \n",
       "French Fries                               0.004525  \n",
       "Infuzions                                  0.054475  \n",
       "Kettle                                     0.214055  \n",
       "Natural                                    0.052850  \n",
       "Pringles                                   0.097520  \n",
       "Red Rock Deli                              0.050131  \n",
       "Smiths                                     0.122185  \n",
       "Sunbites                                   0.005602  \n",
       "Thins                                      0.049249  \n",
       "Tostitos                                   0.043769  \n",
       "Twisties                                   0.044632  \n",
       "Tyrrells                                   0.028262  \n",
       "Woolworths                                 0.023802  "
      ]
     },
     "execution_count": 109,
     "metadata": {},
     "output_type": "execute_result"
    }
   ],
   "source": [
    "# Now we do the same for the 'other_segments'\n",
    "# First, dataframe for annual sales by each brand of chips\n",
    "\n",
    "brand_other_segments = pd.DataFrame(other_segments.groupby('brand').TOT_SALES.sum())\n",
    "brand_other_segments.index.rename('Brand', inplace = True)\n",
    "brand_other_segments.rename(columns = {'TOT_SALES': 'Annual Sales (Other Segments)'}, inplace = True)\n",
    "others_total_sale = brand_other_segments['Annual Sales (Other Segments)'].sum()\n",
    "brand_other_segments['Percentage of Sales (Other Segments)'] = brand_other_segments['Annual Sales (Other Segments)']/others_total_sale\n",
    "brand_other_segments"
   ]
  },
  {
   "cell_type": "code",
   "execution_count": 110,
   "metadata": {},
   "outputs": [
    {
     "data": {
      "text/html": [
       "<div>\n",
       "<style scoped>\n",
       "    .dataframe tbody tr th:only-of-type {\n",
       "        vertical-align: middle;\n",
       "    }\n",
       "\n",
       "    .dataframe tbody tr th {\n",
       "        vertical-align: top;\n",
       "    }\n",
       "\n",
       "    .dataframe thead th {\n",
       "        text-align: right;\n",
       "    }\n",
       "</style>\n",
       "<table border=\"1\" class=\"dataframe\">\n",
       "  <thead>\n",
       "    <tr style=\"text-align: right;\">\n",
       "      <th></th>\n",
       "      <th>Number of Sales (Other Segments)</th>\n",
       "      <th>Percentage of Transactions (Other Segments)</th>\n",
       "    </tr>\n",
       "    <tr>\n",
       "      <th>Pack Size</th>\n",
       "      <th></th>\n",
       "      <th></th>\n",
       "    </tr>\n",
       "  </thead>\n",
       "  <tbody>\n",
       "    <tr>\n",
       "      <th>70</th>\n",
       "      <td>1444</td>\n",
       "      <td>0.006356</td>\n",
       "    </tr>\n",
       "    <tr>\n",
       "      <th>90</th>\n",
       "      <td>2880</td>\n",
       "      <td>0.012676</td>\n",
       "    </tr>\n",
       "    <tr>\n",
       "      <th>110</th>\n",
       "      <td>20336</td>\n",
       "      <td>0.089509</td>\n",
       "    </tr>\n",
       "    <tr>\n",
       "      <th>125</th>\n",
       "      <td>1395</td>\n",
       "      <td>0.006140</td>\n",
       "    </tr>\n",
       "    <tr>\n",
       "      <th>134</th>\n",
       "      <td>22787</td>\n",
       "      <td>0.100297</td>\n",
       "    </tr>\n",
       "    <tr>\n",
       "      <th>135</th>\n",
       "      <td>2967</td>\n",
       "      <td>0.013059</td>\n",
       "    </tr>\n",
       "    <tr>\n",
       "      <th>150</th>\n",
       "      <td>37123</td>\n",
       "      <td>0.163396</td>\n",
       "    </tr>\n",
       "    <tr>\n",
       "      <th>160</th>\n",
       "      <td>2842</td>\n",
       "      <td>0.012509</td>\n",
       "    </tr>\n",
       "    <tr>\n",
       "      <th>165</th>\n",
       "      <td>14195</td>\n",
       "      <td>0.062479</td>\n",
       "    </tr>\n",
       "    <tr>\n",
       "      <th>170</th>\n",
       "      <td>18408</td>\n",
       "      <td>0.081023</td>\n",
       "    </tr>\n",
       "    <tr>\n",
       "      <th>175</th>\n",
       "      <td>61393</td>\n",
       "      <td>0.270220</td>\n",
       "    </tr>\n",
       "    <tr>\n",
       "      <th>180</th>\n",
       "      <td>1398</td>\n",
       "      <td>0.006153</td>\n",
       "    </tr>\n",
       "    <tr>\n",
       "      <th>190</th>\n",
       "      <td>2847</td>\n",
       "      <td>0.012531</td>\n",
       "    </tr>\n",
       "    <tr>\n",
       "      <th>200</th>\n",
       "      <td>4294</td>\n",
       "      <td>0.018900</td>\n",
       "    </tr>\n",
       "    <tr>\n",
       "      <th>210</th>\n",
       "      <td>5696</td>\n",
       "      <td>0.025071</td>\n",
       "    </tr>\n",
       "    <tr>\n",
       "      <th>220</th>\n",
       "      <td>1502</td>\n",
       "      <td>0.006611</td>\n",
       "    </tr>\n",
       "    <tr>\n",
       "      <th>250</th>\n",
       "      <td>2889</td>\n",
       "      <td>0.012716</td>\n",
       "    </tr>\n",
       "    <tr>\n",
       "      <th>270</th>\n",
       "      <td>5665</td>\n",
       "      <td>0.024934</td>\n",
       "    </tr>\n",
       "    <tr>\n",
       "      <th>330</th>\n",
       "      <td>11345</td>\n",
       "      <td>0.049935</td>\n",
       "    </tr>\n",
       "    <tr>\n",
       "      <th>380</th>\n",
       "      <td>5790</td>\n",
       "      <td>0.025485</td>\n",
       "    </tr>\n",
       "  </tbody>\n",
       "</table>\n",
       "</div>"
      ],
      "text/plain": [
       "           Number of Sales (Other Segments)  \\\n",
       "Pack Size                                     \n",
       "70                                     1444   \n",
       "90                                     2880   \n",
       "110                                   20336   \n",
       "125                                    1395   \n",
       "134                                   22787   \n",
       "135                                    2967   \n",
       "150                                   37123   \n",
       "160                                    2842   \n",
       "165                                   14195   \n",
       "170                                   18408   \n",
       "175                                   61393   \n",
       "180                                    1398   \n",
       "190                                    2847   \n",
       "200                                    4294   \n",
       "210                                    5696   \n",
       "220                                    1502   \n",
       "250                                    2889   \n",
       "270                                    5665   \n",
       "330                                   11345   \n",
       "380                                    5790   \n",
       "\n",
       "           Percentage of Transactions (Other Segments)  \n",
       "Pack Size                                               \n",
       "70                                            0.006356  \n",
       "90                                            0.012676  \n",
       "110                                           0.089509  \n",
       "125                                           0.006140  \n",
       "134                                           0.100297  \n",
       "135                                           0.013059  \n",
       "150                                           0.163396  \n",
       "160                                           0.012509  \n",
       "165                                           0.062479  \n",
       "170                                           0.081023  \n",
       "175                                           0.270220  \n",
       "180                                           0.006153  \n",
       "190                                           0.012531  \n",
       "200                                           0.018900  \n",
       "210                                           0.025071  \n",
       "220                                           0.006611  \n",
       "250                                           0.012716  \n",
       "270                                           0.024934  \n",
       "330                                           0.049935  \n",
       "380                                           0.025485  "
      ]
     },
     "execution_count": 110,
     "metadata": {},
     "output_type": "execute_result"
    }
   ],
   "source": [
    "# Next, number of transactions for each 'pack_size' for 'other_segments'\n",
    "\n",
    "packsize_other_segments = pd.DataFrame(other_segments.groupby('pack_size').TOT_SALES.count())\n",
    "packsize_other_segments.index.rename('Pack Size', inplace = True)\n",
    "packsize_other_segments.rename(columns = {'TOT_SALES': 'Number of Sales (Other Segments)'}, inplace = True)\n",
    "packsize_other_segments['Percentage of Transactions (Other Segments)'] = packsize_other_segments['Number of Sales (Other Segments)']/len(other_segments)\n",
    "packsize_other_segments"
   ]
  },
  {
   "cell_type": "code",
   "execution_count": 111,
   "metadata": {},
   "outputs": [
    {
     "data": {
      "text/html": [
       "<div>\n",
       "<style scoped>\n",
       "    .dataframe tbody tr th:only-of-type {\n",
       "        vertical-align: middle;\n",
       "    }\n",
       "\n",
       "    .dataframe tbody tr th {\n",
       "        vertical-align: top;\n",
       "    }\n",
       "\n",
       "    .dataframe thead th {\n",
       "        text-align: right;\n",
       "    }\n",
       "</style>\n",
       "<table border=\"1\" class=\"dataframe\">\n",
       "  <thead>\n",
       "    <tr style=\"text-align: right;\">\n",
       "      <th></th>\n",
       "      <th>Annual Sales (Target Segment)</th>\n",
       "      <th>Percentage of Sales (Target Segment)</th>\n",
       "      <th>Annual Sales (Other Segments)</th>\n",
       "      <th>Percentage of Sales (Other Segments)</th>\n",
       "    </tr>\n",
       "    <tr>\n",
       "      <th>Brand</th>\n",
       "      <th></th>\n",
       "      <th></th>\n",
       "      <th></th>\n",
       "      <th></th>\n",
       "    </tr>\n",
       "  </thead>\n",
       "  <tbody>\n",
       "    <tr>\n",
       "      <th>Burger Rings</th>\n",
       "      <td>243.8</td>\n",
       "      <td>0.001652</td>\n",
       "      <td>6587.2</td>\n",
       "      <td>0.003974</td>\n",
       "    </tr>\n",
       "    <tr>\n",
       "      <th>CCs</th>\n",
       "      <td>850.5</td>\n",
       "      <td>0.005763</td>\n",
       "      <td>17228.4</td>\n",
       "      <td>0.010394</td>\n",
       "    </tr>\n",
       "    <tr>\n",
       "      <th>Cheetos</th>\n",
       "      <td>898.8</td>\n",
       "      <td>0.006090</td>\n",
       "      <td>15985.7</td>\n",
       "      <td>0.009644</td>\n",
       "    </tr>\n",
       "    <tr>\n",
       "      <th>Cheezels</th>\n",
       "      <td>3318.3</td>\n",
       "      <td>0.022484</td>\n",
       "      <td>36711.6</td>\n",
       "      <td>0.022148</td>\n",
       "    </tr>\n",
       "    <tr>\n",
       "      <th>Cobs</th>\n",
       "      <td>6144.6</td>\n",
       "      <td>0.041635</td>\n",
       "      <td>64425.2</td>\n",
       "      <td>0.038867</td>\n",
       "    </tr>\n",
       "  </tbody>\n",
       "</table>\n",
       "</div>"
      ],
      "text/plain": [
       "              Annual Sales (Target Segment)  \\\n",
       "Brand                                         \n",
       "Burger Rings                          243.8   \n",
       "CCs                                   850.5   \n",
       "Cheetos                               898.8   \n",
       "Cheezels                             3318.3   \n",
       "Cobs                                 6144.6   \n",
       "\n",
       "              Percentage of Sales (Target Segment)  \\\n",
       "Brand                                                \n",
       "Burger Rings                              0.001652   \n",
       "CCs                                       0.005763   \n",
       "Cheetos                                   0.006090   \n",
       "Cheezels                                  0.022484   \n",
       "Cobs                                      0.041635   \n",
       "\n",
       "              Annual Sales (Other Segments)  \\\n",
       "Brand                                         \n",
       "Burger Rings                         6587.2   \n",
       "CCs                                 17228.4   \n",
       "Cheetos                             15985.7   \n",
       "Cheezels                            36711.6   \n",
       "Cobs                                64425.2   \n",
       "\n",
       "              Percentage of Sales (Other Segments)  \n",
       "Brand                                               \n",
       "Burger Rings                              0.003974  \n",
       "CCs                                       0.010394  \n",
       "Cheetos                                   0.009644  \n",
       "Cheezels                                  0.022148  \n",
       "Cobs                                      0.038867  "
      ]
     },
     "execution_count": 111,
     "metadata": {},
     "output_type": "execute_result"
    }
   ],
   "source": [
    "# Merge the two sales dataframe together\n",
    "\n",
    "brand_combine = pd.merge(brand_target_segment, brand_other_segments, left_index = True, right_index = True)\n",
    "brand_combine.head()"
   ]
  },
  {
   "cell_type": "code",
   "execution_count": 112,
   "metadata": {},
   "outputs": [
    {
     "data": {
      "text/html": [
       "<div>\n",
       "<style scoped>\n",
       "    .dataframe tbody tr th:only-of-type {\n",
       "        vertical-align: middle;\n",
       "    }\n",
       "\n",
       "    .dataframe tbody tr th {\n",
       "        vertical-align: top;\n",
       "    }\n",
       "\n",
       "    .dataframe thead th {\n",
       "        text-align: right;\n",
       "    }\n",
       "</style>\n",
       "<table border=\"1\" class=\"dataframe\">\n",
       "  <thead>\n",
       "    <tr style=\"text-align: right;\">\n",
       "      <th></th>\n",
       "      <th>Annual Sales (Target Segment)</th>\n",
       "      <th>Percentage of Sales (Target Segment)</th>\n",
       "      <th>Annual Sales (Other Segments)</th>\n",
       "      <th>Percentage of Sales (Other Segments)</th>\n",
       "      <th>Affinity to Brand</th>\n",
       "    </tr>\n",
       "    <tr>\n",
       "      <th>Brand</th>\n",
       "      <th></th>\n",
       "      <th></th>\n",
       "      <th></th>\n",
       "      <th></th>\n",
       "      <th></th>\n",
       "    </tr>\n",
       "  </thead>\n",
       "  <tbody>\n",
       "    <tr>\n",
       "      <th>Tyrrells</th>\n",
       "      <td>4800.6</td>\n",
       "      <td>0.032528</td>\n",
       "      <td>46846.8</td>\n",
       "      <td>0.028262</td>\n",
       "      <td>1.150960</td>\n",
       "    </tr>\n",
       "    <tr>\n",
       "      <th>Twisties</th>\n",
       "      <td>7539.8</td>\n",
       "      <td>0.051089</td>\n",
       "      <td>73982.3</td>\n",
       "      <td>0.044632</td>\n",
       "      <td>1.144660</td>\n",
       "    </tr>\n",
       "    <tr>\n",
       "      <th>Doritos</th>\n",
       "      <td>20925.9</td>\n",
       "      <td>0.141791</td>\n",
       "      <td>205404.0</td>\n",
       "      <td>0.123917</td>\n",
       "      <td>1.144247</td>\n",
       "    </tr>\n",
       "    <tr>\n",
       "      <th>Kettle</th>\n",
       "      <td>35423.6</td>\n",
       "      <td>0.240026</td>\n",
       "      <td>354816.2</td>\n",
       "      <td>0.214055</td>\n",
       "      <td>1.121331</td>\n",
       "    </tr>\n",
       "    <tr>\n",
       "      <th>Tostitos</th>\n",
       "      <td>7238.0</td>\n",
       "      <td>0.049044</td>\n",
       "      <td>72551.6</td>\n",
       "      <td>0.043769</td>\n",
       "      <td>1.120511</td>\n",
       "    </tr>\n",
       "    <tr>\n",
       "      <th>Pringles</th>\n",
       "      <td>16006.2</td>\n",
       "      <td>0.108456</td>\n",
       "      <td>161649.3</td>\n",
       "      <td>0.097520</td>\n",
       "      <td>1.112139</td>\n",
       "    </tr>\n",
       "    <tr>\n",
       "      <th>Infuzions</th>\n",
       "      <td>8749.4</td>\n",
       "      <td>0.059285</td>\n",
       "      <td>90298.2</td>\n",
       "      <td>0.054475</td>\n",
       "      <td>1.088288</td>\n",
       "    </tr>\n",
       "    <tr>\n",
       "      <th>Cobs</th>\n",
       "      <td>6144.6</td>\n",
       "      <td>0.041635</td>\n",
       "      <td>64425.2</td>\n",
       "      <td>0.038867</td>\n",
       "      <td>1.071229</td>\n",
       "    </tr>\n",
       "    <tr>\n",
       "      <th>Cheezels</th>\n",
       "      <td>3318.3</td>\n",
       "      <td>0.022484</td>\n",
       "      <td>36711.6</td>\n",
       "      <td>0.022148</td>\n",
       "      <td>1.015212</td>\n",
       "    </tr>\n",
       "    <tr>\n",
       "      <th>Thins</th>\n",
       "      <td>7217.1</td>\n",
       "      <td>0.048902</td>\n",
       "      <td>81635.4</td>\n",
       "      <td>0.049249</td>\n",
       "      <td>0.992953</td>\n",
       "    </tr>\n",
       "    <tr>\n",
       "      <th>Smiths</th>\n",
       "      <td>14958.9</td>\n",
       "      <td>0.101360</td>\n",
       "      <td>202533.1</td>\n",
       "      <td>0.122185</td>\n",
       "      <td>0.829561</td>\n",
       "    </tr>\n",
       "    <tr>\n",
       "      <th>Natural</th>\n",
       "      <td>6331.0</td>\n",
       "      <td>0.042898</td>\n",
       "      <td>87604.2</td>\n",
       "      <td>0.052850</td>\n",
       "      <td>0.811693</td>\n",
       "    </tr>\n",
       "    <tr>\n",
       "      <th>French Fries</th>\n",
       "      <td>429.0</td>\n",
       "      <td>0.002907</td>\n",
       "      <td>7500.0</td>\n",
       "      <td>0.004525</td>\n",
       "      <td>0.642452</td>\n",
       "    </tr>\n",
       "    <tr>\n",
       "      <th>Cheetos</th>\n",
       "      <td>898.8</td>\n",
       "      <td>0.006090</td>\n",
       "      <td>15985.7</td>\n",
       "      <td>0.009644</td>\n",
       "      <td>0.631504</td>\n",
       "    </tr>\n",
       "    <tr>\n",
       "      <th>Red Rock Deli</th>\n",
       "      <td>4509.9</td>\n",
       "      <td>0.030559</td>\n",
       "      <td>83097.6</td>\n",
       "      <td>0.050131</td>\n",
       "      <td>0.609569</td>\n",
       "    </tr>\n",
       "    <tr>\n",
       "      <th>CCs</th>\n",
       "      <td>850.5</td>\n",
       "      <td>0.005763</td>\n",
       "      <td>17228.4</td>\n",
       "      <td>0.010394</td>\n",
       "      <td>0.554465</td>\n",
       "    </tr>\n",
       "    <tr>\n",
       "      <th>Sunbites</th>\n",
       "      <td>391.0</td>\n",
       "      <td>0.002649</td>\n",
       "      <td>9285.4</td>\n",
       "      <td>0.005602</td>\n",
       "      <td>0.472956</td>\n",
       "    </tr>\n",
       "    <tr>\n",
       "      <th>Woolworths</th>\n",
       "      <td>1605.8</td>\n",
       "      <td>0.010881</td>\n",
       "      <td>39453.3</td>\n",
       "      <td>0.023802</td>\n",
       "      <td>0.457144</td>\n",
       "    </tr>\n",
       "    <tr>\n",
       "      <th>Burger Rings</th>\n",
       "      <td>243.8</td>\n",
       "      <td>0.001652</td>\n",
       "      <td>6587.2</td>\n",
       "      <td>0.003974</td>\n",
       "      <td>0.415698</td>\n",
       "    </tr>\n",
       "  </tbody>\n",
       "</table>\n",
       "</div>"
      ],
      "text/plain": [
       "               Annual Sales (Target Segment)  \\\n",
       "Brand                                          \n",
       "Tyrrells                              4800.6   \n",
       "Twisties                              7539.8   \n",
       "Doritos                              20925.9   \n",
       "Kettle                               35423.6   \n",
       "Tostitos                              7238.0   \n",
       "Pringles                             16006.2   \n",
       "Infuzions                             8749.4   \n",
       "Cobs                                  6144.6   \n",
       "Cheezels                              3318.3   \n",
       "Thins                                 7217.1   \n",
       "Smiths                               14958.9   \n",
       "Natural                               6331.0   \n",
       "French Fries                           429.0   \n",
       "Cheetos                                898.8   \n",
       "Red Rock Deli                         4509.9   \n",
       "CCs                                    850.5   \n",
       "Sunbites                               391.0   \n",
       "Woolworths                            1605.8   \n",
       "Burger Rings                           243.8   \n",
       "\n",
       "               Percentage of Sales (Target Segment)  \\\n",
       "Brand                                                 \n",
       "Tyrrells                                   0.032528   \n",
       "Twisties                                   0.051089   \n",
       "Doritos                                    0.141791   \n",
       "Kettle                                     0.240026   \n",
       "Tostitos                                   0.049044   \n",
       "Pringles                                   0.108456   \n",
       "Infuzions                                  0.059285   \n",
       "Cobs                                       0.041635   \n",
       "Cheezels                                   0.022484   \n",
       "Thins                                      0.048902   \n",
       "Smiths                                     0.101360   \n",
       "Natural                                    0.042898   \n",
       "French Fries                               0.002907   \n",
       "Cheetos                                    0.006090   \n",
       "Red Rock Deli                              0.030559   \n",
       "CCs                                        0.005763   \n",
       "Sunbites                                   0.002649   \n",
       "Woolworths                                 0.010881   \n",
       "Burger Rings                               0.001652   \n",
       "\n",
       "               Annual Sales (Other Segments)  \\\n",
       "Brand                                          \n",
       "Tyrrells                             46846.8   \n",
       "Twisties                             73982.3   \n",
       "Doritos                             205404.0   \n",
       "Kettle                              354816.2   \n",
       "Tostitos                             72551.6   \n",
       "Pringles                            161649.3   \n",
       "Infuzions                            90298.2   \n",
       "Cobs                                 64425.2   \n",
       "Cheezels                             36711.6   \n",
       "Thins                                81635.4   \n",
       "Smiths                              202533.1   \n",
       "Natural                              87604.2   \n",
       "French Fries                          7500.0   \n",
       "Cheetos                              15985.7   \n",
       "Red Rock Deli                        83097.6   \n",
       "CCs                                  17228.4   \n",
       "Sunbites                              9285.4   \n",
       "Woolworths                           39453.3   \n",
       "Burger Rings                          6587.2   \n",
       "\n",
       "               Percentage of Sales (Other Segments)  Affinity to Brand  \n",
       "Brand                                                                   \n",
       "Tyrrells                                   0.028262           1.150960  \n",
       "Twisties                                   0.044632           1.144660  \n",
       "Doritos                                    0.123917           1.144247  \n",
       "Kettle                                     0.214055           1.121331  \n",
       "Tostitos                                   0.043769           1.120511  \n",
       "Pringles                                   0.097520           1.112139  \n",
       "Infuzions                                  0.054475           1.088288  \n",
       "Cobs                                       0.038867           1.071229  \n",
       "Cheezels                                   0.022148           1.015212  \n",
       "Thins                                      0.049249           0.992953  \n",
       "Smiths                                     0.122185           0.829561  \n",
       "Natural                                    0.052850           0.811693  \n",
       "French Fries                               0.004525           0.642452  \n",
       "Cheetos                                    0.009644           0.631504  \n",
       "Red Rock Deli                              0.050131           0.609569  \n",
       "CCs                                        0.010394           0.554465  \n",
       "Sunbites                                   0.005602           0.472956  \n",
       "Woolworths                                 0.023802           0.457144  \n",
       "Burger Rings                               0.003974           0.415698  "
      ]
     },
     "execution_count": 112,
     "metadata": {},
     "output_type": "execute_result"
    }
   ],
   "source": [
    "# Create new feature called 'brand_affinity' \n",
    "# 'Affinity to Brand' greater than one implies 'target_segment' is more likely to purchase than the rest of the segments\n",
    "\n",
    "brand_combine['Affinity to Brand'] = brand_combine['Percentage of Sales (Target Segment)']/brand_combine['Percentage of Sales (Other Segments)']\n",
    "brand_combine.sort_values(by = 'Affinity to Brand', ascending = False)\n",
    "\n",
    "# Comment: target segment is 15% more likely than the rest of the customer segments to purchase 'Tyrrells'"
   ]
  },
  {
   "cell_type": "code",
   "execution_count": 113,
   "metadata": {},
   "outputs": [
    {
     "data": {
      "text/html": [
       "<div>\n",
       "<style scoped>\n",
       "    .dataframe tbody tr th:only-of-type {\n",
       "        vertical-align: middle;\n",
       "    }\n",
       "\n",
       "    .dataframe tbody tr th {\n",
       "        vertical-align: top;\n",
       "    }\n",
       "\n",
       "    .dataframe thead th {\n",
       "        text-align: right;\n",
       "    }\n",
       "</style>\n",
       "<table border=\"1\" class=\"dataframe\">\n",
       "  <thead>\n",
       "    <tr style=\"text-align: right;\">\n",
       "      <th></th>\n",
       "      <th>Number of Transactions (Target Segment)</th>\n",
       "      <th>Percentage of Transactions (Target Segment)</th>\n",
       "      <th>Number of Sales (Other Segments)</th>\n",
       "      <th>Percentage of Transactions (Other Segments)</th>\n",
       "    </tr>\n",
       "    <tr>\n",
       "      <th>Pack Size</th>\n",
       "      <th></th>\n",
       "      <th></th>\n",
       "      <th></th>\n",
       "      <th></th>\n",
       "    </tr>\n",
       "  </thead>\n",
       "  <tbody>\n",
       "    <tr>\n",
       "      <th>70</th>\n",
       "      <td>63</td>\n",
       "      <td>0.003223</td>\n",
       "      <td>1444</td>\n",
       "      <td>0.006356</td>\n",
       "    </tr>\n",
       "    <tr>\n",
       "      <th>90</th>\n",
       "      <td>128</td>\n",
       "      <td>0.006549</td>\n",
       "      <td>2880</td>\n",
       "      <td>0.012676</td>\n",
       "    </tr>\n",
       "    <tr>\n",
       "      <th>110</th>\n",
       "      <td>2051</td>\n",
       "      <td>0.104943</td>\n",
       "      <td>20336</td>\n",
       "      <td>0.089509</td>\n",
       "    </tr>\n",
       "    <tr>\n",
       "      <th>125</th>\n",
       "      <td>59</td>\n",
       "      <td>0.003019</td>\n",
       "      <td>1395</td>\n",
       "      <td>0.006140</td>\n",
       "    </tr>\n",
       "    <tr>\n",
       "      <th>134</th>\n",
       "      <td>2315</td>\n",
       "      <td>0.118451</td>\n",
       "      <td>22787</td>\n",
       "      <td>0.100297</td>\n",
       "    </tr>\n",
       "    <tr>\n",
       "      <th>135</th>\n",
       "      <td>290</td>\n",
       "      <td>0.014838</td>\n",
       "      <td>2967</td>\n",
       "      <td>0.013059</td>\n",
       "    </tr>\n",
       "    <tr>\n",
       "      <th>150</th>\n",
       "      <td>3080</td>\n",
       "      <td>0.157593</td>\n",
       "      <td>37123</td>\n",
       "      <td>0.163396</td>\n",
       "    </tr>\n",
       "    <tr>\n",
       "      <th>160</th>\n",
       "      <td>128</td>\n",
       "      <td>0.006549</td>\n",
       "      <td>2842</td>\n",
       "      <td>0.012509</td>\n",
       "    </tr>\n",
       "    <tr>\n",
       "      <th>165</th>\n",
       "      <td>1102</td>\n",
       "      <td>0.056386</td>\n",
       "      <td>14195</td>\n",
       "      <td>0.062479</td>\n",
       "    </tr>\n",
       "    <tr>\n",
       "      <th>170</th>\n",
       "      <td>1575</td>\n",
       "      <td>0.080587</td>\n",
       "      <td>18408</td>\n",
       "      <td>0.081023</td>\n",
       "    </tr>\n",
       "    <tr>\n",
       "      <th>175</th>\n",
       "      <td>4997</td>\n",
       "      <td>0.255679</td>\n",
       "      <td>61393</td>\n",
       "      <td>0.270220</td>\n",
       "    </tr>\n",
       "    <tr>\n",
       "      <th>180</th>\n",
       "      <td>70</td>\n",
       "      <td>0.003582</td>\n",
       "      <td>1398</td>\n",
       "      <td>0.006153</td>\n",
       "    </tr>\n",
       "    <tr>\n",
       "      <th>190</th>\n",
       "      <td>148</td>\n",
       "      <td>0.007573</td>\n",
       "      <td>2847</td>\n",
       "      <td>0.012531</td>\n",
       "    </tr>\n",
       "    <tr>\n",
       "      <th>200</th>\n",
       "      <td>179</td>\n",
       "      <td>0.009159</td>\n",
       "      <td>4294</td>\n",
       "      <td>0.018900</td>\n",
       "    </tr>\n",
       "    <tr>\n",
       "      <th>210</th>\n",
       "      <td>576</td>\n",
       "      <td>0.029472</td>\n",
       "      <td>5696</td>\n",
       "      <td>0.025071</td>\n",
       "    </tr>\n",
       "    <tr>\n",
       "      <th>220</th>\n",
       "      <td>62</td>\n",
       "      <td>0.003172</td>\n",
       "      <td>1502</td>\n",
       "      <td>0.006611</td>\n",
       "    </tr>\n",
       "    <tr>\n",
       "      <th>250</th>\n",
       "      <td>280</td>\n",
       "      <td>0.014327</td>\n",
       "      <td>2889</td>\n",
       "      <td>0.012716</td>\n",
       "    </tr>\n",
       "    <tr>\n",
       "      <th>270</th>\n",
       "      <td>620</td>\n",
       "      <td>0.031723</td>\n",
       "      <td>5665</td>\n",
       "      <td>0.024934</td>\n",
       "    </tr>\n",
       "    <tr>\n",
       "      <th>330</th>\n",
       "      <td>1195</td>\n",
       "      <td>0.061144</td>\n",
       "      <td>11345</td>\n",
       "      <td>0.049935</td>\n",
       "    </tr>\n",
       "    <tr>\n",
       "      <th>380</th>\n",
       "      <td>626</td>\n",
       "      <td>0.032030</td>\n",
       "      <td>5790</td>\n",
       "      <td>0.025485</td>\n",
       "    </tr>\n",
       "  </tbody>\n",
       "</table>\n",
       "</div>"
      ],
      "text/plain": [
       "           Number of Transactions (Target Segment)  \\\n",
       "Pack Size                                            \n",
       "70                                              63   \n",
       "90                                             128   \n",
       "110                                           2051   \n",
       "125                                             59   \n",
       "134                                           2315   \n",
       "135                                            290   \n",
       "150                                           3080   \n",
       "160                                            128   \n",
       "165                                           1102   \n",
       "170                                           1575   \n",
       "175                                           4997   \n",
       "180                                             70   \n",
       "190                                            148   \n",
       "200                                            179   \n",
       "210                                            576   \n",
       "220                                             62   \n",
       "250                                            280   \n",
       "270                                            620   \n",
       "330                                           1195   \n",
       "380                                            626   \n",
       "\n",
       "           Percentage of Transactions (Target Segment)  \\\n",
       "Pack Size                                                \n",
       "70                                            0.003223   \n",
       "90                                            0.006549   \n",
       "110                                           0.104943   \n",
       "125                                           0.003019   \n",
       "134                                           0.118451   \n",
       "135                                           0.014838   \n",
       "150                                           0.157593   \n",
       "160                                           0.006549   \n",
       "165                                           0.056386   \n",
       "170                                           0.080587   \n",
       "175                                           0.255679   \n",
       "180                                           0.003582   \n",
       "190                                           0.007573   \n",
       "200                                           0.009159   \n",
       "210                                           0.029472   \n",
       "220                                           0.003172   \n",
       "250                                           0.014327   \n",
       "270                                           0.031723   \n",
       "330                                           0.061144   \n",
       "380                                           0.032030   \n",
       "\n",
       "           Number of Sales (Other Segments)  \\\n",
       "Pack Size                                     \n",
       "70                                     1444   \n",
       "90                                     2880   \n",
       "110                                   20336   \n",
       "125                                    1395   \n",
       "134                                   22787   \n",
       "135                                    2967   \n",
       "150                                   37123   \n",
       "160                                    2842   \n",
       "165                                   14195   \n",
       "170                                   18408   \n",
       "175                                   61393   \n",
       "180                                    1398   \n",
       "190                                    2847   \n",
       "200                                    4294   \n",
       "210                                    5696   \n",
       "220                                    1502   \n",
       "250                                    2889   \n",
       "270                                    5665   \n",
       "330                                   11345   \n",
       "380                                    5790   \n",
       "\n",
       "           Percentage of Transactions (Other Segments)  \n",
       "Pack Size                                               \n",
       "70                                            0.006356  \n",
       "90                                            0.012676  \n",
       "110                                           0.089509  \n",
       "125                                           0.006140  \n",
       "134                                           0.100297  \n",
       "135                                           0.013059  \n",
       "150                                           0.163396  \n",
       "160                                           0.012509  \n",
       "165                                           0.062479  \n",
       "170                                           0.081023  \n",
       "175                                           0.270220  \n",
       "180                                           0.006153  \n",
       "190                                           0.012531  \n",
       "200                                           0.018900  \n",
       "210                                           0.025071  \n",
       "220                                           0.006611  \n",
       "250                                           0.012716  \n",
       "270                                           0.024934  \n",
       "330                                           0.049935  \n",
       "380                                           0.025485  "
      ]
     },
     "execution_count": 113,
     "metadata": {},
     "output_type": "execute_result"
    }
   ],
   "source": [
    "# We repeat this process for 'Pack Size'\n",
    "# Merge the two dataframes together\n",
    "\n",
    "packsize_combine = pd.merge(packsize_target_segment, packsize_other_segments, left_index = True, right_index = True)\n",
    "packsize_combine"
   ]
  },
  {
   "cell_type": "code",
   "execution_count": 114,
   "metadata": {},
   "outputs": [
    {
     "data": {
      "text/html": [
       "<div>\n",
       "<style scoped>\n",
       "    .dataframe tbody tr th:only-of-type {\n",
       "        vertical-align: middle;\n",
       "    }\n",
       "\n",
       "    .dataframe tbody tr th {\n",
       "        vertical-align: top;\n",
       "    }\n",
       "\n",
       "    .dataframe thead th {\n",
       "        text-align: right;\n",
       "    }\n",
       "</style>\n",
       "<table border=\"1\" class=\"dataframe\">\n",
       "  <thead>\n",
       "    <tr style=\"text-align: right;\">\n",
       "      <th></th>\n",
       "      <th>Number of Transactions (Target Segment)</th>\n",
       "      <th>Percentage of Transactions (Target Segment)</th>\n",
       "      <th>Number of Sales (Other Segments)</th>\n",
       "      <th>Percentage of Transactions (Other Segments)</th>\n",
       "      <th>Affinity to Pack Size</th>\n",
       "    </tr>\n",
       "    <tr>\n",
       "      <th>Pack Size</th>\n",
       "      <th></th>\n",
       "      <th></th>\n",
       "      <th></th>\n",
       "      <th></th>\n",
       "      <th></th>\n",
       "    </tr>\n",
       "  </thead>\n",
       "  <tbody>\n",
       "    <tr>\n",
       "      <th>270</th>\n",
       "      <td>620</td>\n",
       "      <td>0.031723</td>\n",
       "      <td>5665</td>\n",
       "      <td>0.024934</td>\n",
       "      <td>1.272269</td>\n",
       "    </tr>\n",
       "    <tr>\n",
       "      <th>380</th>\n",
       "      <td>626</td>\n",
       "      <td>0.032030</td>\n",
       "      <td>5790</td>\n",
       "      <td>0.025485</td>\n",
       "      <td>1.256849</td>\n",
       "    </tr>\n",
       "    <tr>\n",
       "      <th>330</th>\n",
       "      <td>1195</td>\n",
       "      <td>0.061144</td>\n",
       "      <td>11345</td>\n",
       "      <td>0.049935</td>\n",
       "      <td>1.224477</td>\n",
       "    </tr>\n",
       "    <tr>\n",
       "      <th>134</th>\n",
       "      <td>2315</td>\n",
       "      <td>0.118451</td>\n",
       "      <td>22787</td>\n",
       "      <td>0.100297</td>\n",
       "      <td>1.181003</td>\n",
       "    </tr>\n",
       "    <tr>\n",
       "      <th>210</th>\n",
       "      <td>576</td>\n",
       "      <td>0.029472</td>\n",
       "      <td>5696</td>\n",
       "      <td>0.025071</td>\n",
       "      <td>1.175546</td>\n",
       "    </tr>\n",
       "    <tr>\n",
       "      <th>110</th>\n",
       "      <td>2051</td>\n",
       "      <td>0.104943</td>\n",
       "      <td>20336</td>\n",
       "      <td>0.089509</td>\n",
       "      <td>1.172431</td>\n",
       "    </tr>\n",
       "    <tr>\n",
       "      <th>135</th>\n",
       "      <td>290</td>\n",
       "      <td>0.014838</td>\n",
       "      <td>2967</td>\n",
       "      <td>0.013059</td>\n",
       "      <td>1.136234</td>\n",
       "    </tr>\n",
       "    <tr>\n",
       "      <th>250</th>\n",
       "      <td>280</td>\n",
       "      <td>0.014327</td>\n",
       "      <td>2889</td>\n",
       "      <td>0.012716</td>\n",
       "      <td>1.126673</td>\n",
       "    </tr>\n",
       "    <tr>\n",
       "      <th>170</th>\n",
       "      <td>1575</td>\n",
       "      <td>0.080587</td>\n",
       "      <td>18408</td>\n",
       "      <td>0.081023</td>\n",
       "      <td>0.994629</td>\n",
       "    </tr>\n",
       "    <tr>\n",
       "      <th>150</th>\n",
       "      <td>3080</td>\n",
       "      <td>0.157593</td>\n",
       "      <td>37123</td>\n",
       "      <td>0.163396</td>\n",
       "      <td>0.964484</td>\n",
       "    </tr>\n",
       "    <tr>\n",
       "      <th>175</th>\n",
       "      <td>4997</td>\n",
       "      <td>0.255679</td>\n",
       "      <td>61393</td>\n",
       "      <td>0.270220</td>\n",
       "      <td>0.946189</td>\n",
       "    </tr>\n",
       "    <tr>\n",
       "      <th>165</th>\n",
       "      <td>1102</td>\n",
       "      <td>0.056386</td>\n",
       "      <td>14195</td>\n",
       "      <td>0.062479</td>\n",
       "      <td>0.902471</td>\n",
       "    </tr>\n",
       "    <tr>\n",
       "      <th>190</th>\n",
       "      <td>148</td>\n",
       "      <td>0.007573</td>\n",
       "      <td>2847</td>\n",
       "      <td>0.012531</td>\n",
       "      <td>0.604312</td>\n",
       "    </tr>\n",
       "    <tr>\n",
       "      <th>180</th>\n",
       "      <td>70</td>\n",
       "      <td>0.003582</td>\n",
       "      <td>1398</td>\n",
       "      <td>0.006153</td>\n",
       "      <td>0.582074</td>\n",
       "    </tr>\n",
       "    <tr>\n",
       "      <th>160</th>\n",
       "      <td>128</td>\n",
       "      <td>0.006549</td>\n",
       "      <td>2842</td>\n",
       "      <td>0.012509</td>\n",
       "      <td>0.523568</td>\n",
       "    </tr>\n",
       "    <tr>\n",
       "      <th>90</th>\n",
       "      <td>128</td>\n",
       "      <td>0.006549</td>\n",
       "      <td>2880</td>\n",
       "      <td>0.012676</td>\n",
       "      <td>0.516660</td>\n",
       "    </tr>\n",
       "    <tr>\n",
       "      <th>70</th>\n",
       "      <td>63</td>\n",
       "      <td>0.003223</td>\n",
       "      <td>1444</td>\n",
       "      <td>0.006356</td>\n",
       "      <td>0.507178</td>\n",
       "    </tr>\n",
       "    <tr>\n",
       "      <th>125</th>\n",
       "      <td>59</td>\n",
       "      <td>0.003019</td>\n",
       "      <td>1395</td>\n",
       "      <td>0.006140</td>\n",
       "      <td>0.491660</td>\n",
       "    </tr>\n",
       "    <tr>\n",
       "      <th>200</th>\n",
       "      <td>179</td>\n",
       "      <td>0.009159</td>\n",
       "      <td>4294</td>\n",
       "      <td>0.018900</td>\n",
       "      <td>0.484594</td>\n",
       "    </tr>\n",
       "    <tr>\n",
       "      <th>220</th>\n",
       "      <td>62</td>\n",
       "      <td>0.003172</td>\n",
       "      <td>1502</td>\n",
       "      <td>0.006611</td>\n",
       "      <td>0.479854</td>\n",
       "    </tr>\n",
       "  </tbody>\n",
       "</table>\n",
       "</div>"
      ],
      "text/plain": [
       "           Number of Transactions (Target Segment)  \\\n",
       "Pack Size                                            \n",
       "270                                            620   \n",
       "380                                            626   \n",
       "330                                           1195   \n",
       "134                                           2315   \n",
       "210                                            576   \n",
       "110                                           2051   \n",
       "135                                            290   \n",
       "250                                            280   \n",
       "170                                           1575   \n",
       "150                                           3080   \n",
       "175                                           4997   \n",
       "165                                           1102   \n",
       "190                                            148   \n",
       "180                                             70   \n",
       "160                                            128   \n",
       "90                                             128   \n",
       "70                                              63   \n",
       "125                                             59   \n",
       "200                                            179   \n",
       "220                                             62   \n",
       "\n",
       "           Percentage of Transactions (Target Segment)  \\\n",
       "Pack Size                                                \n",
       "270                                           0.031723   \n",
       "380                                           0.032030   \n",
       "330                                           0.061144   \n",
       "134                                           0.118451   \n",
       "210                                           0.029472   \n",
       "110                                           0.104943   \n",
       "135                                           0.014838   \n",
       "250                                           0.014327   \n",
       "170                                           0.080587   \n",
       "150                                           0.157593   \n",
       "175                                           0.255679   \n",
       "165                                           0.056386   \n",
       "190                                           0.007573   \n",
       "180                                           0.003582   \n",
       "160                                           0.006549   \n",
       "90                                            0.006549   \n",
       "70                                            0.003223   \n",
       "125                                           0.003019   \n",
       "200                                           0.009159   \n",
       "220                                           0.003172   \n",
       "\n",
       "           Number of Sales (Other Segments)  \\\n",
       "Pack Size                                     \n",
       "270                                    5665   \n",
       "380                                    5790   \n",
       "330                                   11345   \n",
       "134                                   22787   \n",
       "210                                    5696   \n",
       "110                                   20336   \n",
       "135                                    2967   \n",
       "250                                    2889   \n",
       "170                                   18408   \n",
       "150                                   37123   \n",
       "175                                   61393   \n",
       "165                                   14195   \n",
       "190                                    2847   \n",
       "180                                    1398   \n",
       "160                                    2842   \n",
       "90                                     2880   \n",
       "70                                     1444   \n",
       "125                                    1395   \n",
       "200                                    4294   \n",
       "220                                    1502   \n",
       "\n",
       "           Percentage of Transactions (Other Segments)  Affinity to Pack Size  \n",
       "Pack Size                                                                      \n",
       "270                                           0.024934               1.272269  \n",
       "380                                           0.025485               1.256849  \n",
       "330                                           0.049935               1.224477  \n",
       "134                                           0.100297               1.181003  \n",
       "210                                           0.025071               1.175546  \n",
       "110                                           0.089509               1.172431  \n",
       "135                                           0.013059               1.136234  \n",
       "250                                           0.012716               1.126673  \n",
       "170                                           0.081023               0.994629  \n",
       "150                                           0.163396               0.964484  \n",
       "175                                           0.270220               0.946189  \n",
       "165                                           0.062479               0.902471  \n",
       "190                                           0.012531               0.604312  \n",
       "180                                           0.006153               0.582074  \n",
       "160                                           0.012509               0.523568  \n",
       "90                                            0.012676               0.516660  \n",
       "70                                            0.006356               0.507178  \n",
       "125                                           0.006140               0.491660  \n",
       "200                                           0.018900               0.484594  \n",
       "220                                           0.006611               0.479854  "
      ]
     },
     "execution_count": 114,
     "metadata": {},
     "output_type": "execute_result"
    }
   ],
   "source": [
    "# Create new feature 'Affinity to Pack Size'\n",
    "\n",
    "packsize_combine['Affinity to Pack Size'] = packsize_combine['Percentage of Transactions (Target Segment)']/packsize_combine['Percentage of Transactions (Other Segments)']\n",
    "packsize_combine.sort_values(by = 'Affinity to Pack Size', ascending = False)                                                                                                                            "
   ]
  },
  {
   "cell_type": "code",
   "execution_count": 115,
   "metadata": {},
   "outputs": [
    {
     "data": {
      "text/plain": [
       "34     twisties cheese      \n",
       "79         twisties chicken \n",
       "125    twisties cheese      \n",
       "132        twisties chicken \n",
       "209    twisties cheese      \n",
       "252        twisties chicken \n",
       "253        twisties chicken \n",
       "278    twisties cheese      \n",
       "347        twisties chicken \n",
       "350        twisties chicken \n",
       "Name: PROD_NAME, dtype: object"
      ]
     },
     "execution_count": 115,
     "metadata": {},
     "output_type": "execute_result"
    }
   ],
   "source": [
    "# Comment: target segment is most likely to purchase 270g\n",
    "# Let's examine what is product is \n",
    "\n",
    "combineData.loc[combineData['pack_size'] == 270, 'PROD_NAME'].head(10)"
   ]
  },
  {
   "cell_type": "code",
   "execution_count": 116,
   "metadata": {},
   "outputs": [
    {
     "data": {
      "text/plain": [
       "array(['Twisties'], dtype=object)"
      ]
     },
     "execution_count": 116,
     "metadata": {},
     "output_type": "execute_result"
    }
   ],
   "source": [
    "# It appears to be only 'Twisties' sell pack size in 270g\n",
    "\n",
    "combineData.loc[combineData['pack_size'] == 270, 'brand'].unique()\n",
    "\n",
    "# Comment: this explains the high 'Twisties' sale amongst the target segment"
   ]
  },
  {
   "cell_type": "code",
   "execution_count": 117,
   "metadata": {},
   "outputs": [],
   "source": [
    "# Save 'combineData' for further uses\n",
    "\n",
    "# combineData.to_csv(\"C:/Users/Jason Chong/Documents/Inside Sherpa Quantium/combineData.csv\")"
   ]
  },
  {
   "cell_type": "markdown",
   "metadata": {},
   "source": [
    "# Conclusion\n",
    "\n",
    "- Sales are highest for (Budget, OLDER FAMILIES), (Mainstream, YOUNG SINGLES/COUPLES) and (Mainstream, RETIREES)\n",
    "- We found that (Mainstream, YOUNG SINGLES/COUPLES) and (Mainstream, RETIREES) are mainly due to the fact that there are more customers in these segments\n",
    "- (Mainstream, YOUNG SINGLES/COUPLES) are more likely to pay more per packet of chips than their premium and budget counterparts\n",
    "- They are also more likely to purchase 'Tyrrells' and '270g' pack sizes than the rest of the population"
   ]
  },
  {
   "cell_type": "markdown",
   "metadata": {},
   "source": [
    "# Recommendation\n",
    "\n",
    "The category manager may consider off-locating 'Tyrrells' chips in discretionary space near segments where young singles and couples frequent to increase the visibility and impulse behaviour"
   ]
  }
 ],
 "metadata": {
  "kernelspec": {
   "display_name": "Python 3",
   "language": "python",
   "name": "python3"
  },
  "language_info": {
   "codemirror_mode": {
    "name": "ipython",
    "version": 3
   },
   "file_extension": ".py",
   "mimetype": "text/x-python",
   "name": "python",
   "nbconvert_exporter": "python",
   "pygments_lexer": "ipython3",
   "version": "3.7.6"
  }
 },
 "nbformat": 4,
 "nbformat_minor": 4
}
